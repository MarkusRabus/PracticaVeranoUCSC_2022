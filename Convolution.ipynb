{
 "cells": [
  {
   "cell_type": "markdown",
   "id": "c5f8fa7e-42b8-428f-8a96-731d18536dad",
   "metadata": {},
   "source": [
    "# Convolution\n",
    "\n",
    "La convolucion es una multiplicacion sofisticada.\n",
    "\n",
    "$(f*g)(t)=\\int_{-\\infty}^{\\infty}f(\\tau)g(t-\\tau)d\\tau$\n",
    "\n",
    "\n",
    "Imaginan se que estan trabajando en un hospital que trata a pacientes con una sola enfermedad. Para el plan de tratamiento cada paciente recibe 4 mili-litros de la cura. El primer dia llegan 2 paciente, el segundo dia 1 paciente, el tercer dia 5 pacientes, el cuarto dia y quinto dia 4 pacientes. Que cantidad de mediamentos utilizamos cada dia?\n",
    "\n",
    "$[4]$ -> ml de medicamentos (plan)\n",
    "\n",
    "$[2, 1, 5, 4, 4]$ -> numero de pacientes que llegan todos los dias.\n",
    "\n",
    "1. dia: 2 paciente 4ml = neceistamos 8ml del medicamento -> $2 \\times 4$\n",
    "2. dia: 1 pacientes, 4ml = necesitamos 4ml del medicamento -> $1 \\times 4$\n",
    "3. dia: 5 pacientes, cada uno 4ml = necesitamos 20ml del medicamento -> $5 \\times 4$\n",
    "4. dia: 4 pacientes, cada uno 4ml = necesitamos 16ml del medicamento -> $4 \\times 4$\n",
    "5. dia: 4 pacientes, cada uno 4ml = necesitamos 16ml del medicamento -> $4 \\times 4$\n",
    "\n",
    "$[4] * [2,1,5,4,4] = [8,4,20,16,16]$\n",
    "\n",
    "Si se multiplica el plan por la lista de pacientes, se obtiene la utilización para los próximos días.\n",
    "\n",
    "Ahora la tratamos otra enfermadad mas complicado, para tratar la nueva enfermedad los pacientes deberian tomar 4ml el primer dia, despues 2ml el siguiente dia y 1ml el ultimo dia. Entonces:\n",
    "\n",
    "Plan: $[4,2,1]$ -> ml de medicamentos\n",
    "\n",
    "Asumimos la misma lista de pacientes $[2, 1, 5, 4, 4]$ y queremos saber cuantas ml necesitamos cada dia.\n",
    "\n",
    "1. dia: 2 paciente 4ml = neceistamos 8ml del medicamento ($2 \\times 4$)\n",
    "2. dia: 1 pacientes, 4ml, mas 4ml para los 2 pacientes del dia anterior (2ml para cada uno) = necesitamos 4ml del medicamento -> $(1 \\times 4) + (2 \\times 2)$\n",
    "3. dia: 5 pacientes, cada uno 4ml, mas 2ml del paciente del dia anterior mas 2ml de los dos pacientes del primer dia = necesitamos 24ml del medicamento -> $(5 \\times 4) + (1 \\times 2) + (2 \\times 1)$\n",
    "4. dia: 4 pacientes, cada uno 4ml, mas 10ml de los 5 pacientes del dia anterior mas 1ml del paciente del segundo dia = necesitamos 27ml del medicamento -> $(4 \\times 4) + (5 \\times 2) + (1 \\times 1)$\n",
    "5. dia: 4 pacientes, cada uno 4ml, mas 8ml de los 4 pacientes del dia anteroir mas 5ml de los 5 pacientes del tercer dia = necesitamos 29ml del medicamento -> $(4 \\times 4) + (4 \\times 2) + (5 \\times 1)$\n",
    "\n",
    "\n",
    "```\n",
    "1. dia:\n",
    "\n",
    "Plan:                             [4   2   1] \n",
    "Pacientes:        [4   4   5   1   2]\n",
    "\n",
    "Medicamentos:                     [8]               = 8ml\n",
    "```\n",
    "\n",
    "\n",
    "\n",
    "```\n",
    "2. dia:\n",
    "\n",
    "Plan:                         [4   2   1] \n",
    "Pacientes:        [4   4   5   1   2]\n",
    "\n",
    "Medicamentos:                 [4   4]               = 8ml\n",
    "```\n",
    "\n",
    "\n",
    "\n",
    "```\n",
    "3. dia:\n",
    "\n",
    "Plan:                      [4   2   1] \n",
    "Pacientes:        [ 4   4   5   1   2]\n",
    "\n",
    "Medicamentos:              [20  2   2]               = 24ml\n",
    "```\n",
    "\n",
    "\n",
    "\n",
    "```\n",
    "4. dia:\n",
    "\n",
    "Plan:                 [4   2   1] \n",
    "Pacientes:        [4   4   5   1   2]\n",
    " \n",
    "Medicamentos:         [16  10  1]                   = 27ml\n",
    "```\n",
    "\n",
    "\n",
    "```\n",
    "5. dia:\n",
    "\n",
    "Plan:             [4   2   1] \n",
    "Pacientes:        [4   4   5   1   2]\n",
    "\n",
    "Medicamentos:     [16  8   5]                        = 29ml\n",
    "```\n",
    "\n",
    "\n",
    "```\n",
    "6. dia:\n",
    "\n",
    "Plan:         [4   2   1] \n",
    "Pacientes:        [4   4   5   1   2]\n",
    "\n",
    "Medicamentos:     [8   4]                             = 12ml\n",
    "```\n",
    "\n",
    "\n",
    "```\n",
    "7. dia:\n",
    "\n",
    "Plan:     [4   2   1] \n",
    "Pacientes:        [4   4   5   1   2]\n",
    "\n",
    "Medicamentos:     [4]                                = 4ml\n",
    "```\n",
    "\n",
    "\n",
    "\n",
    "\n"
   ]
  },
  {
   "cell_type": "code",
   "execution_count": null,
   "id": "054c6791-da7e-478d-b208-de5ee57e001d",
   "metadata": {},
   "outputs": [],
   "source": [
    "import numpy as np\n",
    "import matplotlib.pylab as plt\n",
    "from astropy.io import fits"
   ]
  },
  {
   "cell_type": "code",
   "execution_count": null,
   "id": "c5931701-be73-413c-9fa3-d27eebf053d2",
   "metadata": {},
   "outputs": [],
   "source": [
    "from matplotlib import rcParams\n",
    "\n",
    "rcParams[\"figure.figsize\"] = (15, 7)"
   ]
  },
  {
   "cell_type": "code",
   "execution_count": null,
   "id": "cb668ccd-fb76-4112-a1c4-ccb72ab96b35",
   "metadata": {},
   "outputs": [],
   "source": [
    "Pacientes = np.array( [2,1,5,4,4] )\n",
    "Plan = np.array( [4,2,1] )\n",
    "\n",
    "\n",
    "np.convolve(Pacientes, Plan)"
   ]
  },
  {
   "cell_type": "markdown",
   "id": "a1467a90-2602-425b-ac1f-6e1bf1fb46a1",
   "metadata": {},
   "source": [
    "## Imagenes astronomicos\n",
    "\n",
    "Los imagenes obtenido a traves de un telescopio son una convolucion entre la imagen del objeto y la respuesta del instrumento.\n",
    "\n",
    "![conv](markdown-img/Convolution_Illustrated_eng.png)\n",
    "\n",
    "\n",
    "La luz del objeto llega desde el cielo y atravieza la atmosfera y todo un sistema optica complejo. El imagen que obtenemos un la CCD es una convolucion de un kernel que representa la respuesta del sistema con la imagen del objeto. La respuesta del sistema tambien se llama PSF (en ingles \"Point Spread Function\"), que hace la imagen mas difuso.\n",
    "\n",
    "\n",
    "![telescope](markdown-img/27n.png)\n"
   ]
  },
  {
   "cell_type": "code",
   "execution_count": null,
   "id": "7be236ad-7337-4092-9f7f-09a0e375f5c7",
   "metadata": {},
   "outputs": [],
   "source": [
    "def unit_circle_vectorized(r):\n",
    "    A = np.arange(-r,r+1)**2\n",
    "    dists = np.sqrt(A[:,None] + A)\n",
    "    return ((dists-r)<0.5).astype(int)"
   ]
  },
  {
   "cell_type": "code",
   "execution_count": null,
   "id": "4cbaa779-a336-4355-a01c-63a162b2edb8",
   "metadata": {},
   "outputs": [],
   "source": [
    "unit_circle_vectorized(10).shape"
   ]
  },
  {
   "cell_type": "code",
   "execution_count": null,
   "id": "95ea94f4-a517-476a-9357-2573e50523e0",
   "metadata": {},
   "outputs": [],
   "source": [
    "imagen_objeto = np.zeros( (100,100) )\n",
    "imagen_objeto[40:61,40:61]=unit_circle_vectorized(10)\n",
    "imagen_objeto = imagen_objeto *25"
   ]
  },
  {
   "cell_type": "code",
   "execution_count": null,
   "id": "c123789a-eb22-4569-813e-3f9b01b544b4",
   "metadata": {},
   "outputs": [],
   "source": [
    "plt.imshow(imagen_objeto)"
   ]
  },
  {
   "cell_type": "code",
   "execution_count": null,
   "id": "c51313c5-ef9c-4e4e-94a3-1ea9cbe0864a",
   "metadata": {},
   "outputs": [],
   "source": [
    "def crearGaussian(size, fwhm = 3, center=None):\n",
    "\n",
    "    x = np.arange(0, size, 1, float)\n",
    "    y = x[:,np.newaxis]\n",
    "\n",
    "    if center is None:\n",
    "        x0 = y0 = size // 2\n",
    "    else:\n",
    "        x0 = center[0]\n",
    "        y0 = center[1]\n",
    "\n",
    "    return np.exp(-np.log(2) * ((x-x0)**2 + (y-y0)**2) / fwhm**2)"
   ]
  },
  {
   "cell_type": "code",
   "execution_count": null,
   "id": "ff62d362-c3dc-4565-ba90-d4321e07c2db",
   "metadata": {},
   "outputs": [],
   "source": [
    "gaussian_psf = crearGaussian(10,fwhm=5)\n",
    "plt.imshow(gaussian_psf)"
   ]
  },
  {
   "cell_type": "code",
   "execution_count": null,
   "id": "ba0553cb-2c40-4f76-b870-e73c357e2316",
   "metadata": {},
   "outputs": [],
   "source": [
    "def convolution2d(image, kernel):\n",
    "    m, n = kernel.shape\n",
    "    if (m == n):\n",
    "        y, x = image.shape\n",
    "        y = y - m + 1\n",
    "        x = x - m + 1\n",
    "        new_image = np.zeros((y,x))\n",
    "        for i in range(y):\n",
    "            for j in range(x):\n",
    "                new_image[i][j] = np.sum(image[i:i+m, j:j+m]*kernel) \n",
    "    return new_image"
   ]
  },
  {
   "cell_type": "code",
   "execution_count": null,
   "id": "8d69bcd8-a5f9-4fd9-ac5d-2bd7842ed799",
   "metadata": {},
   "outputs": [],
   "source": [
    "imagen_ccd = convolution2d(imagen_objeto, gaussian_psf)\n",
    "plt.imshow(imagen_ccd)"
   ]
  },
  {
   "cell_type": "code",
   "execution_count": null,
   "id": "b742ed10-b398-44f1-8f0b-7d9555ac6a81",
   "metadata": {},
   "outputs": [],
   "source": [
    "f = plt.figure()\n",
    "f.add_subplot(1,2,1)\n",
    "plt.title('Imagen objeto')\n",
    "plt.plot( imagen_objeto[42,:] )\n",
    "plt.gca().axes.get_yaxis().set_visible(False)\n",
    "f.add_subplot(1,2,2)\n",
    "plt.title('Imagen CCD')\n",
    "plt.plot( imagen_ccd[42,:] )\n",
    "plt.gca().axes.get_yaxis().set_visible(False)"
   ]
  },
  {
   "cell_type": "code",
   "execution_count": null,
   "id": "08e59d85-9cb2-4c47-9ccf-e714d55a44bd",
   "metadata": {},
   "outputs": [],
   "source": []
  },
  {
   "cell_type": "code",
   "execution_count": null,
   "id": "a89bbeb1-5a64-48f1-b789-9b6cd44e7535",
   "metadata": {},
   "outputs": [],
   "source": []
  },
  {
   "cell_type": "code",
   "execution_count": null,
   "id": "0b748d45-52cd-4248-bb5a-d2ccbd0340b5",
   "metadata": {},
   "outputs": [],
   "source": []
  },
  {
   "cell_type": "code",
   "execution_count": null,
   "id": "29f03505-78af-4e75-9d84-5fd0ba185beb",
   "metadata": {},
   "outputs": [],
   "source": []
  }
 ],
 "metadata": {
  "kernelspec": {
   "display_name": "Python [conda env:py3]",
   "language": "python",
   "name": "conda-env-py3-py"
  },
  "language_info": {
   "codemirror_mode": {
    "name": "ipython",
    "version": 3
   },
   "file_extension": ".py",
   "mimetype": "text/x-python",
   "name": "python",
   "nbconvert_exporter": "python",
   "pygments_lexer": "ipython3",
   "version": "3.8.11"
  }
 },
 "nbformat": 4,
 "nbformat_minor": 5
}
