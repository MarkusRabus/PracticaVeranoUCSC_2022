{
 "cells": [
  {
   "cell_type": "markdown",
   "id": "6f411137-5a22-44be-8fd2-5ec8a2f814b7",
   "metadata": {},
   "source": [
    "# Introduccion\n"
   ]
  },
  {
   "cell_type": "markdown",
   "id": "2f7e5b55-d5ca-4ffd-a7bd-158bd1222582",
   "metadata": {},
   "source": [
    "Primer paso para trabajar con imagenes es importar los paquetes que usamos."
   ]
  },
  {
   "cell_type": "code",
   "execution_count": null,
   "id": "fc24e937-2c8d-4875-a951-3b104896622d",
   "metadata": {},
   "outputs": [],
   "source": [
    "import os\n",
    "#paquete que nos permite trabjar en el sistema operativo con archivos y carpetas, crear un path, ...\n",
    "\n",
    "import matplotlib.pylab as plt\n",
    "# paquete que nos permite plotear\n",
    "\n",
    "from astropy.io import fits \n",
    "# permite leer los fits files, formate del archivo donde estan guardados los imagenes.\n",
    "\n",
    "%matplotlib inline"
   ]
  },
  {
   "cell_type": "code",
   "execution_count": null,
   "id": "20d86966-5062-4af3-8e3d-77fbb69a3a3c",
   "metadata": {},
   "outputs": [],
   "source": [
    "#Parametros para plotear:\n",
    "\n",
    "from matplotlib import rcParams\n",
    "#rcParams[\"savefig.dpi\"] = 300\n",
    "#rcParams[\"figure.dpi\"] = 300\n",
    "rcParams[\"figure.figsize\"] = (15, 7)\n",
    "rcParams[\"font.size\"] = 8"
   ]
  },
  {
   "cell_type": "code",
   "execution_count": null,
   "id": "e0a0a9ba-e7c4-4be6-80ea-f33a2b0d8cf3",
   "metadata": {},
   "outputs": [],
   "source": [
    "# Ajustar el valor de este variable !!!\n",
    "datapath = '/home/mrabus/DECam_data/'"
   ]
  },
  {
   "cell_type": "code",
   "execution_count": null,
   "id": "c160b440-d017-4716-907f-e097b384e765",
   "metadata": {},
   "outputs": [],
   "source": [
    "# el nombre de la imagen que queremos leer.\n",
    "fitsimage = 'c4d_210418_025650_ori.fits.fz'"
   ]
  },
  {
   "cell_type": "markdown",
   "id": "c803d053-0912-409f-a90d-092df76ac5c4",
   "metadata": {},
   "source": [
    "Si queremos obtener informacion sobre un paquete existe una funcion muy util."
   ]
  },
  {
   "cell_type": "code",
   "execution_count": null,
   "id": "b94b60d2-845b-426c-96e2-052ebda66426",
   "metadata": {
    "tags": []
   },
   "outputs": [],
   "source": [
    "help(fits)"
   ]
  },
  {
   "cell_type": "markdown",
   "id": "b2cbe5c5-0d6e-4f3d-a0c3-db7c2410e870",
   "metadata": {},
   "source": [
    "Ahora vamos a leer el archivo fits y imprimir sus datos generales.\n"
   ]
  },
  {
   "cell_type": "code",
   "execution_count": null,
   "id": "1d289011-d56d-4ea6-8900-32a8fdc99491",
   "metadata": {},
   "outputs": [],
   "source": [
    "fitshdu = fits.open( os.path.join(datapath,fitsimage) )"
   ]
  },
  {
   "cell_type": "code",
   "execution_count": null,
   "id": "9997f366-80ea-4796-922d-bcdebc2bebeb",
   "metadata": {
    "tags": []
   },
   "outputs": [],
   "source": [
    "fitshdu.info()"
   ]
  },
  {
   "cell_type": "markdown",
   "id": "466a01f5-7e4c-47d6-b58d-7397e9fb7d15",
   "metadata": {},
   "source": [
    "Veamos que un fits tiene diferentes unidades, que llaman HDU (\"Header Data Units\"). La unidad 0 tiene generalmente solo una cabecera con informacion de todos los chips.\n",
    "Despues de la unidad 0, cada otra unidad tienen una cabecera mas sus datos correspondientes."
   ]
  },
  {
   "cell_type": "code",
   "execution_count": null,
   "id": "b37d9c4a-ee90-4e80-aeb0-a46ba0d4cd85",
   "metadata": {},
   "outputs": [],
   "source": [
    "header0 = fits.getheader( os.path.join(datapath,fitsimage), ext=0 )"
   ]
  },
  {
   "cell_type": "code",
   "execution_count": null,
   "id": "624b14a6-6b4e-4399-8a4c-b8be92c512df",
   "metadata": {
    "tags": []
   },
   "outputs": [],
   "source": [
    "header0"
   ]
  },
  {
   "cell_type": "markdown",
   "id": "4aa5371b-7e6a-436a-99dc-b735270dd139",
   "metadata": {},
   "source": [
    "Ahora vamos a revisar la unidad 4, empezando con la cabecera."
   ]
  },
  {
   "cell_type": "code",
   "execution_count": null,
   "id": "282afe6d-8b7b-40f5-a602-bced3a85c4d8",
   "metadata": {},
   "outputs": [],
   "source": [
    "header4 = fits.getheader( os.path.join(datapath,fitsimage), ext=4 )"
   ]
  },
  {
   "cell_type": "code",
   "execution_count": null,
   "id": "80c5489f-87e4-4082-bfb8-d23ae054a769",
   "metadata": {
    "tags": []
   },
   "outputs": [],
   "source": [
    "header4"
   ]
  },
  {
   "cell_type": "markdown",
   "id": "1c3c1ec0-abfa-406f-8618-f6f773644426",
   "metadata": {},
   "source": [
    "Notamos que la cabecera de la unidad 4 es diferente. Porque es mas especifico para la ccd 4."
   ]
  },
  {
   "cell_type": "code",
   "execution_count": null,
   "id": "390e92ef-bb55-46e9-9586-5427031b7280",
   "metadata": {
    "tags": []
   },
   "outputs": [],
   "source": [
    "ccd4 = fits.getdata( os.path.join(datapath,fitsimage), ext=5 )"
   ]
  },
  {
   "cell_type": "code",
   "execution_count": null,
   "id": "e2ffea12-4139-4aa8-8295-5e286a089447",
   "metadata": {},
   "outputs": [],
   "source": [
    "ccd4"
   ]
  },
  {
   "cell_type": "markdown",
   "id": "7d458812-1f64-44e1-9262-736c3d3736d1",
   "metadata": {},
   "source": [
    "Los datos es simplement un array con valores. "
   ]
  },
  {
   "cell_type": "code",
   "execution_count": null,
   "id": "ecd5d784-6d8b-461d-affe-13f4a0e91e4b",
   "metadata": {},
   "outputs": [],
   "source": [
    "fig = plt.figure()\n",
    "ax = fig.add_subplot(1, 1, 1)\n",
    "image1 = ax.imshow(ccd4, cmap='gray') #cmap='gray' significa blanco y negro\n",
    "fig.colorbar(image1)"
   ]
  },
  {
   "cell_type": "markdown",
   "id": "f007aa81-ae3e-496e-b7dd-c075c28609ec",
   "metadata": {},
   "source": [
    "En el siguiente paso hacemos un zoom a una region. Un zoom significa simplemente que solo hacemos un plot de parte del array. En el caso abajo en x desde 1500 hasta 1700 e y desde 1500 hasta 1700."
   ]
  },
  {
   "cell_type": "code",
   "execution_count": null,
   "id": "36870c9c-80a7-4ebe-a338-4951f9745f4d",
   "metadata": {},
   "outputs": [],
   "source": [
    "fig = plt.figure()\n",
    "ax = fig.add_subplot(1, 1, 1)\n",
    "image2 = ax.imshow(ccd4[1700:2000,1800:2000], cmap='gray') #cmap='gray' significa blanco y negro\n",
    "fig.colorbar(image2)"
   ]
  },
  {
   "cell_type": "markdown",
   "id": "2bd018f0-5f36-48bc-8bc5-f41b7e341b7d",
   "metadata": {},
   "source": [
    "Ahora mejoramos la vizualicioncion un poco. Igual como en la tele o monitor hay ajustes como el brillo y contraste. Lo mismo podemos hacer al plotear los imagenes. Existen diferentes intervalos para normaliza y visualizar una imagen:\n"
   ]
  },
  {
   "cell_type": "code",
   "execution_count": null,
   "id": "c1daaf77-4f0a-4814-8214-2beca707e9f7",
   "metadata": {},
   "outputs": [],
   "source": [
    "# importamos los paquetes que hacen estos calculos:\n",
    "from astropy.visualization import ImageNormalize\n",
    "from astropy.visualization import simple_norm, MinMaxInterval, PercentileInterval, ZScaleInterval\n"
   ]
  },
  {
   "cell_type": "code",
   "execution_count": null,
   "id": "fa09cf6a-21e8-4216-8be0-7019c188d411",
   "metadata": {},
   "outputs": [],
   "source": [
    "interval = ZScaleInterval()\n",
    "norm = ImageNormalize(ccd4, interval=ZScaleInterval())"
   ]
  },
  {
   "cell_type": "code",
   "execution_count": null,
   "id": "ab96fec1-8954-4155-bf37-cbeedef20572",
   "metadata": {},
   "outputs": [],
   "source": [
    "fig = plt.figure()\n",
    "ax = fig.add_subplot(1, 1, 1)\n",
    "plot3 = ax.imshow(ccd4, cmap='gray', origin='lower', norm=norm,)\n",
    "fig.colorbar(plot3)"
   ]
  },
  {
   "cell_type": "markdown",
   "id": "74f3ac62-a2b7-4bdf-a0cb-837ba477e503",
   "metadata": {},
   "source": [
    "Ahora se ve la imagen con mucho mas detalle."
   ]
  },
  {
   "cell_type": "code",
   "execution_count": null,
   "id": "c2b77586-bab3-417f-9663-0e508364107e",
   "metadata": {},
   "outputs": [],
   "source": [
    "fig = plt.figure()\n",
    "ax = fig.add_subplot(1, 1, 1)\n",
    "plot4 = ax.imshow(ccd4[2200:2800,1000:1500], cmap='gray', origin='lower', norm=norm,)\n",
    "fig.colorbar(plot4)"
   ]
  },
  {
   "cell_type": "code",
   "execution_count": null,
   "id": "0e80edf9-5ec6-46a0-922d-6d99e46e9481",
   "metadata": {},
   "outputs": [],
   "source": []
  }
 ],
 "metadata": {
  "kernelspec": {
   "display_name": "Python [conda env:py3]",
   "language": "python",
   "name": "conda-env-py3-py"
  },
  "language_info": {
   "codemirror_mode": {
    "name": "ipython",
    "version": 3
   },
   "file_extension": ".py",
   "mimetype": "text/x-python",
   "name": "python",
   "nbconvert_exporter": "python",
   "pygments_lexer": "ipython3",
   "version": "3.9.7"
  }
 },
 "nbformat": 4,
 "nbformat_minor": 5
}
