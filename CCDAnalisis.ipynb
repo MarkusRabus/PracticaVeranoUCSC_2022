{
 "cells": [
  {
   "cell_type": "markdown",
   "id": "11853b9f-17a4-4dbb-ac6d-c6cee5efd271",
   "metadata": {},
   "source": [
    "# Analysis de datos de un CCD\n",
    "\n",
    "Una imagen astronómica es un array de 2 dimensiones, un píxel es un elemento del array. En un mundo ideal, el valor de cada píxel es directamente proporcional a la cantidad de luz que cayó sobre el píxel durante el.\n",
    "\n",
    "El número almacenado en una imagen astronómica en crudo denominamos unidad digital analógica (Analog Digitla Unit, ADU) o \"counts\". El número de fotones (o equivalentes, electrones) que llegan al píxel está relacionado con los \"counts\" en el píxel a traves del factor de la ganancia \"gain\".\n",
    "\n",
    "Otros contribuciones que aumenta los \"counts\", pero no estan relacionados con la luz son:\n",
    "- **BIAS** Hay pequeñas variaciones en los valor del bias a lo largo del chip, y puede haber pequeñas variaciones en el nivel del bias con el tiempo.\n",
    "- **Dark current** (Corriente oscuro) Causado en un píxel debido al movimiento térmico de los electrones en el CCD; la refrigeración de un CCD reduce, aunque no elimina del todo. La corriente oscuro depende en gran medida de la temperatura.\n",
    "- **Read noise** (ruide de lectura) Causado un un píxel debido a la lecture. No se puede eliminar, pero reducir.\n",
    "- **Flat** La sensidividad de la CCD varia a lo largo de la CCD causado por viñeteo en las escinas, particulas de polvo en los elementos opticos, cada pixel tiene su propio sensitividad, pixeles muertos.\n"
   ]
  },
  {
   "cell_type": "code",
   "execution_count": 8,
   "id": "71cd870f-d5ee-47b9-88a9-d566671b16ab",
   "metadata": {},
   "outputs": [],
   "source": [
    "import os\n",
    "import numpy as np\n",
    "from astropy.io import fits\n",
    "import matplotlib.pylab as plt\n",
    "from astropy.visualization import ImageNormalize\n",
    "from astropy.visualization import simple_norm, MinMaxInterval, PercentileInterval, ZScaleInterval\n",
    "\n",
    "%matplotlib inline"
   ]
  },
  {
   "cell_type": "code",
   "execution_count": 9,
   "id": "e56468eb-2854-4d31-83cc-a1dccba108fc",
   "metadata": {},
   "outputs": [],
   "source": [
    "from matplotlib import rcParams\n",
    "\n",
    "rcParams[\"figure.figsize\"] = (15, 7)\n",
    "rcParams[\"font.size\"] = 8"
   ]
  },
  {
   "cell_type": "code",
   "execution_count": 10,
   "id": "1479cb1b-88b1-4bab-addb-9a9e3990c3e7",
   "metadata": {},
   "outputs": [],
   "source": [
    "datapath = \"/home/mrabus/LCO_data/M55_LCO/\""
   ]
  },
  {
   "cell_type": "markdown",
   "id": "4e635e30-727c-4b43-8fac-ef4ccdbb5fc7",
   "metadata": {},
   "source": [
    "## Imagenes de bias\n",
    "\n",
    "Las imagenes de bias se toma con la CCD totalmente tapada sin luz ilumina la ccd y con un tiempo de exposicion 0s o sea simplemente leer la ccd instantanea. Ahora vamos a ver un ejemplo de un imagen de bias."
   ]
  },
  {
   "cell_type": "code",
   "execution_count": null,
   "id": "77db9af2-6eaa-4dd8-920b-2a1af1acdf1f",
   "metadata": {},
   "outputs": [],
   "source": [
    "bias_name = \"tfn0m414-kb95-20211231-0301-b00.fits.fz\"\n",
    "\n",
    "bias_hdu = fits.open( os.path.join(datapath,bias_name) )"
   ]
  },
  {
   "cell_type": "code",
   "execution_count": null,
   "id": "9255b0c6-b3e0-461e-ae1d-4f4947a90404",
   "metadata": {},
   "outputs": [],
   "source": [
    "bias_hdu.info()"
   ]
  },
  {
   "cell_type": "code",
   "execution_count": null,
   "id": "cfeda66c-b863-4bc7-adc2-fb1243b1abf1",
   "metadata": {
    "tags": []
   },
   "outputs": [],
   "source": [
    "bias_hdu[1].header"
   ]
  },
  {
   "cell_type": "markdown",
   "id": "59336f4b-d281-415f-89c6-1148ee482dac",
   "metadata": {},
   "source": [
    "En vez de imprimir todo el header, podemos eligir solo la informacion que nos importa. Queremos verificar si se trata de una imagen de bias. Usamos el descriptor \"Header keyword\" `OBSTYPE`"
   ]
  },
  {
   "cell_type": "code",
   "execution_count": null,
   "id": "8e9670b8-9ea0-4035-a5b9-df645f755323",
   "metadata": {},
   "outputs": [],
   "source": [
    "print(bias_hdu[1].header[\"OBSTYPE\"])\n",
    "print(bias_hdu[1].header[\"EXPTIME\"])"
   ]
  },
  {
   "cell_type": "code",
   "execution_count": null,
   "id": "08fe2fa3-30ce-4078-ac58-4ffa60b49db6",
   "metadata": {},
   "outputs": [],
   "source": [
    "bias_image = bias_hdu[1].data\n"
   ]
  },
  {
   "cell_type": "code",
   "execution_count": null,
   "id": "d4bffb6c-29bf-49cf-9015-527309570612",
   "metadata": {},
   "outputs": [],
   "source": [
    "interval = ZScaleInterval()\n",
    "norm = ImageNormalize(bias_image, interval=ZScaleInterval())\n",
    "\n",
    "fig = plt.figure()\n",
    "ax = fig.add_subplot(1, 1, 1)\n",
    "plot = ax.imshow(bias_image, cmap='gray', origin='lower', norm=norm,)\n",
    "fig.colorbar(plot)"
   ]
  },
  {
   "cell_type": "markdown",
   "id": "e30a68c6-cbdc-4d45-960b-84b1fd7fb562",
   "metadata": {},
   "source": [
    "## Imagenes de dark\n",
    "\n",
    "Las imagenes de bias se toma con la CCD totalmente tapada sin luz ilumina la ccd. Con la diferencia respeto al bias el dark tiene un tiempo de exposisicion diferente a 0, similar a la tiempo de exposicion. Ahora vamos a ver un ejemplo de un imagen de dark."
   ]
  },
  {
   "cell_type": "code",
   "execution_count": null,
   "id": "9880e576-910c-4f04-a61d-521340801104",
   "metadata": {},
   "outputs": [],
   "source": [
    "dark_name = \"tfn0m414-kb95-20211231-0318-d00.fits.fz\"\n",
    "dark_hdu = fits.open( os.path.join(datapath, dark_name) )"
   ]
  },
  {
   "cell_type": "code",
   "execution_count": null,
   "id": "8c0a8771-e62f-44e9-a127-0c93488b8b45",
   "metadata": {},
   "outputs": [],
   "source": [
    "print(dark_hdu[1].header[\"OBSTYPE\"])\n",
    "print(dark_hdu[1].header[\"EXPTIME\"])"
   ]
  },
  {
   "cell_type": "code",
   "execution_count": null,
   "id": "ebaa8d0b-9909-4c05-bf3f-3ba90268a543",
   "metadata": {},
   "outputs": [],
   "source": [
    "dark_image = dark_hdu[1].data"
   ]
  },
  {
   "cell_type": "code",
   "execution_count": null,
   "id": "e9a24089-fb8e-4945-bc31-5ea181086609",
   "metadata": {},
   "outputs": [],
   "source": [
    "interval = ZScaleInterval()\n",
    "norm = ImageNormalize(dark_image, interval=ZScaleInterval())\n",
    "\n",
    "fig = plt.figure()\n",
    "ax = fig.add_subplot(1, 1, 1)\n",
    "plot = ax.imshow(dark_image, cmap='gray', origin='lower', norm=norm,)\n",
    "fig.colorbar(plot)"
   ]
  },
  {
   "cell_type": "markdown",
   "id": "19a4c0e0-bcc5-4621-a887-7cec5e664e3b",
   "metadata": {},
   "source": [
    "## Imagenes de flat\n",
    "\n",
    "Las imagenes de bias se toma observando una superficie uniforme iluminado por ejemplo el cielo durante el dia o una pantalla blanco illuminado con una luz."
   ]
  },
  {
   "cell_type": "code",
   "execution_count": null,
   "id": "4f077b37-7a47-41ad-a6a2-427e5b3b4440",
   "metadata": {},
   "outputs": [],
   "source": [
    "flat_name = \"tfn0m414-kb95-20220101-0033-f00.fits.fz\"\n",
    "flat_hdu = fits.open( os.path.join(datapath, flat_name) )"
   ]
  },
  {
   "cell_type": "code",
   "execution_count": null,
   "id": "e08a627d-bc96-4203-8551-2ffea385902c",
   "metadata": {},
   "outputs": [],
   "source": [
    "print(flat_hdu[1].header[\"OBSTYPE\"])\n",
    "print(flat_hdu[1].header[\"FILTER\"])\n",
    "print(flat_hdu[1].header[\"EXPTIME\"])"
   ]
  },
  {
   "cell_type": "code",
   "execution_count": null,
   "id": "66fce7b2-de17-4496-be23-5dbd0ca966cf",
   "metadata": {},
   "outputs": [],
   "source": [
    "flat_image = flat_hdu[1].data"
   ]
  },
  {
   "cell_type": "code",
   "execution_count": null,
   "id": "79d7ccb8-fa84-4eb9-bf77-c319430b590d",
   "metadata": {},
   "outputs": [],
   "source": [
    "interval = ZScaleInterval()\n",
    "norm = ImageNormalize(flat_image, interval=ZScaleInterval())\n",
    "\n",
    "fig = plt.figure()\n",
    "ax = fig.add_subplot(1, 1, 1)\n",
    "plot = ax.imshow(flat_image, cmap='gray', origin='lower', norm=norm,)\n",
    "fig.colorbar(plot)"
   ]
  },
  {
   "cell_type": "code",
   "execution_count": null,
   "id": "07096d4e-722c-4a55-b1d7-7dbb8d30e609",
   "metadata": {},
   "outputs": [],
   "source": [
    "flat_name = \"tfn0m414-kb95-20211230-0305-f00.fits.fz\"\n",
    "flat_hdu = fits.open( os.path.join(datapath, flat_name) )"
   ]
  },
  {
   "cell_type": "code",
   "execution_count": null,
   "id": "b007b3eb-928c-4463-ac55-7b23e360afaa",
   "metadata": {},
   "outputs": [],
   "source": [
    "print(flat_hdu[1].header[\"OBSTYPE\"])\n",
    "print(flat_hdu[1].header[\"FILTER\"])\n",
    "print(flat_hdu[1].header[\"EXPTIME\"])"
   ]
  },
  {
   "cell_type": "code",
   "execution_count": null,
   "id": "635e2968-3a79-481e-96a3-6a5a270ebc61",
   "metadata": {},
   "outputs": [],
   "source": [
    "flat_image = flat_hdu[1].data"
   ]
  },
  {
   "cell_type": "code",
   "execution_count": null,
   "id": "6f447c97-cbf9-45f9-9ea5-1dd8a4440ce5",
   "metadata": {},
   "outputs": [],
   "source": [
    "interval = ZScaleInterval()\n",
    "norm = ImageNormalize(flat_image, interval=ZScaleInterval())\n",
    "\n",
    "fig = plt.figure()\n",
    "ax = fig.add_subplot(1, 1, 1)\n",
    "plot = ax.imshow(flat_image, cmap='gray', origin='lower', norm=norm,)\n",
    "fig.colorbar(plot)"
   ]
  },
  {
   "cell_type": "markdown",
   "id": "1804cf6e-9cfe-4802-aac4-7319ca184bfe",
   "metadata": {},
   "source": [
    "Las imagenes de bias, dark y flat llamamos generalmente imgenes de calibracion. Las usamos en un primer paso para mejorar nuestra imagen de ciencia. La imagen de ciencia es nuestro objeto que observamos."
   ]
  },
  {
   "cell_type": "markdown",
   "id": "19cc22fc-5af0-483e-9063-45c3e5b7c730",
   "metadata": {},
   "source": [
    "## Imagenes de ciencia\n",
    "\n",
    "Las imagenes de ciencia contiene nuestro objeto de interes. A las imagenes de ciencia aplicamos los imagenes de calibracion. "
   ]
  },
  {
   "cell_type": "code",
   "execution_count": null,
   "id": "fc7bbd8e-89ff-41a4-8455-319c62bf4fe0",
   "metadata": {},
   "outputs": [],
   "source": [
    "science_name = \"tfn0m414-kb95-20211231-0227-e00.fits.fz\"\n",
    "science_hdu = fits.open( os.path.join(datapath, science_name) )"
   ]
  },
  {
   "cell_type": "code",
   "execution_count": null,
   "id": "51bf100d-ae65-4067-8687-2eca5d6f0848",
   "metadata": {},
   "outputs": [],
   "source": [
    "print(science_hdu[1].header[\"OBSTYPE\"])\n",
    "print(science_hdu[1].header[\"FILTER\"])\n",
    "print(science_hdu[1].header[\"EXPTIME\"])"
   ]
  },
  {
   "cell_type": "code",
   "execution_count": null,
   "id": "272cd3d9-07f1-4f5a-ab94-642640e3e416",
   "metadata": {},
   "outputs": [],
   "source": [
    "science_image = science_hdu[1].data"
   ]
  },
  {
   "cell_type": "code",
   "execution_count": null,
   "id": "ddd2ed7e-dd29-475c-a476-c7bfacf3e518",
   "metadata": {},
   "outputs": [],
   "source": [
    "interval = ZScaleInterval()\n",
    "norm = ImageNormalize(science_image, interval=ZScaleInterval())\n",
    "\n",
    "fig = plt.figure()\n",
    "ax = fig.add_subplot(1, 1, 1)\n",
    "plot = ax.imshow(science_image, cmap='gray', origin='lower', norm=norm,)\n",
    "fig.colorbar(plot)"
   ]
  },
  {
   "cell_type": "markdown",
   "id": "bd642b3d-d8b0-45e0-8c34-cda44ff55cd9",
   "metadata": {},
   "source": [
    "Ejercicio: Un programa que cuente los imagenes de cada uno (bias, dark, flat, ciencia)."
   ]
  },
  {
   "cell_type": "code",
   "execution_count": 13,
   "id": "8161303d-0291-489d-8cce-0c355bcfd9d4",
   "metadata": {},
   "outputs": [
    {
     "name": "stdout",
     "output_type": "stream",
     "text": [
      "Filename: /home/mrabus/LCO_data/M55_LCO/tfn0m414-kb95-20211231-0227-e00.fits.fz\n",
      "No.    Name      Ver    Type      Cards   Dimensions   Format\n",
      "  0  PRIMARY       1 PrimaryHDU       8   ()      \n",
      "  1  SCI           1 CompImageHDU    243   (3136, 2112)   int16   \n"
     ]
    }
   ],
   "source": [
    "science_name = \"tfn0m414-kb95-20211231-0227-e00.fits.fz\"\n",
    "science_hdu = fits.open( os.path.join(datapath, science_name) )\n",
    "science_hdu.info()"
   ]
  },
  {
   "cell_type": "code",
   "execution_count": 18,
   "id": "f13f154c-2d82-442b-adab-ecdc0b1fd544",
   "metadata": {
    "collapsed": true,
    "jupyter": {
     "outputs_hidden": true
    },
    "tags": []
   },
   "outputs": [
    {
     "name": "stdout",
     "output_type": "stream",
     "text": [
      "BIAS opaque\n",
      "SKYFLAT B\n",
      "BIAS opaque\n",
      "SKYFLAT B\n",
      "BIAS opaque\n",
      "SKYFLAT B\n",
      "BIAS opaque\n",
      "SKYFLAT B\n",
      "BIAS opaque\n",
      "SKYFLAT B\n",
      "BIAS opaque\n",
      "SKYFLAT B\n",
      "BIAS opaque\n",
      "SKYFLAT B\n",
      "BIAS opaque\n",
      "SKYFLAT B\n",
      "BIAS opaque\n",
      "SKYFLAT B\n",
      "BIAS opaque\n",
      "SKYFLAT B\n",
      "DARK opaque\n",
      "EXPOSE rp\n",
      "DARK opaque\n",
      "EXPOSE V\n",
      "DARK opaque\n",
      "EXPOSE B\n",
      "DARK opaque\n",
      "SKYFLAT rp\n",
      "DARK opaque\n",
      "SKYFLAT rp\n",
      "SKYFLAT rp\n",
      "SKYFLAT rp\n",
      "SKYFLAT rp\n",
      "SKYFLAT V\n",
      "SKYFLAT V\n",
      "SKYFLAT V\n",
      "SKYFLAT V\n",
      "SKYFLAT V\n",
      "BIAS opaque\n",
      "BIAS opaque\n",
      "BIAS opaque\n",
      "BIAS opaque\n",
      "BIAS opaque\n",
      "BIAS opaque\n",
      "BIAS opaque\n",
      "SKYFLAT V\n",
      "SKYFLAT V\n",
      "SKYFLAT V\n",
      "SKYFLAT V\n",
      "SKYFLAT V\n",
      "SKYFLAT rp\n",
      "SKYFLAT rp\n",
      "SKYFLAT rp\n",
      "SKYFLAT rp\n",
      "SKYFLAT rp\n"
     ]
    }
   ],
   "source": [
    "import glob\n",
    "\n",
    "TodosImagenes = glob.glob( os.path.join(datapath, '*.fz') )\n",
    "\n",
    "for imagen in TodosImagenes:\n",
    "    cabecera = fits.getheader( imagen, ext=1 )\n",
    "    print(cabecera['OBSTYPE'], cabecera['FILTER'])\n"
   ]
  },
  {
   "cell_type": "code",
   "execution_count": 19,
   "id": "c4eaa445-c750-4dbe-b87d-832f0bef770f",
   "metadata": {
    "collapsed": true,
    "jupyter": {
     "outputs_hidden": true
    },
    "tags": []
   },
   "outputs": [
    {
     "data": {
      "text/plain": [
       "['/home/mrabus/LCO_data/M55_LCO/tfn0m414-kb95-20211231-0308-b00.fits.fz',\n",
       " '/home/mrabus/LCO_data/M55_LCO/tfn0m414-kb95-20211230-0305-f00.fits.fz',\n",
       " '/home/mrabus/LCO_data/M55_LCO/tfn0m414-kb95-20211231-0309-b00.fits.fz',\n",
       " '/home/mrabus/LCO_data/M55_LCO/tfn0m414-kb95-20211230-0306-f00.fits.fz',\n",
       " '/home/mrabus/LCO_data/M55_LCO/tfn0m414-kb95-20211231-0310-b00.fits.fz',\n",
       " '/home/mrabus/LCO_data/M55_LCO/tfn0m414-kb95-20211230-0307-f00.fits.fz',\n",
       " '/home/mrabus/LCO_data/M55_LCO/tfn0m414-kb95-20211231-0311-b00.fits.fz',\n",
       " '/home/mrabus/LCO_data/M55_LCO/tfn0m414-kb95-20211230-0308-f00.fits.fz',\n",
       " '/home/mrabus/LCO_data/M55_LCO/tfn0m414-kb95-20211231-0312-b00.fits.fz',\n",
       " '/home/mrabus/LCO_data/M55_LCO/tfn0m414-kb95-20211230-0309-f00.fits.fz',\n",
       " '/home/mrabus/LCO_data/M55_LCO/tfn0m414-kb95-20211231-0313-b00.fits.fz',\n",
       " '/home/mrabus/LCO_data/M55_LCO/tfn0m414-kb95-20211231-0033-f00.fits.fz',\n",
       " '/home/mrabus/LCO_data/M55_LCO/tfn0m414-kb95-20211231-0314-b00.fits.fz',\n",
       " '/home/mrabus/LCO_data/M55_LCO/tfn0m414-kb95-20211231-0034-f00.fits.fz',\n",
       " '/home/mrabus/LCO_data/M55_LCO/tfn0m414-kb95-20211231-0315-b00.fits.fz',\n",
       " '/home/mrabus/LCO_data/M55_LCO/tfn0m414-kb95-20211231-0035-f00.fits.fz',\n",
       " '/home/mrabus/LCO_data/M55_LCO/tfn0m414-kb95-20211231-0317-b00.fits.fz',\n",
       " '/home/mrabus/LCO_data/M55_LCO/tfn0m414-kb95-20211231-0036-f00.fits.fz',\n",
       " '/home/mrabus/LCO_data/M55_LCO/tfn0m414-kb95-20211231-0316-b00.fits.fz',\n",
       " '/home/mrabus/LCO_data/M55_LCO/tfn0m414-kb95-20211231-0037-f00.fits.fz',\n",
       " '/home/mrabus/LCO_data/M55_LCO/tfn0m414-kb95-20211231-0318-d00.fits.fz',\n",
       " '/home/mrabus/LCO_data/M55_LCO/tfn0m414-kb95-20211231-0227-e00.fits.fz',\n",
       " '/home/mrabus/LCO_data/M55_LCO/tfn0m414-kb95-20211231-0319-d00.fits.fz',\n",
       " '/home/mrabus/LCO_data/M55_LCO/tfn0m414-kb95-20211231-0228-e00.fits.fz',\n",
       " '/home/mrabus/LCO_data/M55_LCO/tfn0m414-kb95-20211231-0320-d00.fits.fz',\n",
       " '/home/mrabus/LCO_data/M55_LCO/tfn0m414-kb95-20211231-0229-e00.fits.fz',\n",
       " '/home/mrabus/LCO_data/M55_LCO/tfn0m414-kb95-20211231-0321-d00.fits.fz',\n",
       " '/home/mrabus/LCO_data/M55_LCO/tfn0m414-kb95-20211231-0281-f00.fits.fz',\n",
       " '/home/mrabus/LCO_data/M55_LCO/tfn0m414-kb95-20211231-0322-d00.fits.fz',\n",
       " '/home/mrabus/LCO_data/M55_LCO/tfn0m414-kb95-20211231-0282-f00.fits.fz',\n",
       " '/home/mrabus/LCO_data/M55_LCO/tfn0m414-kb95-20211231-0283-f00.fits.fz',\n",
       " '/home/mrabus/LCO_data/M55_LCO/tfn0m414-kb95-20211231-0284-f00.fits.fz',\n",
       " '/home/mrabus/LCO_data/M55_LCO/tfn0m414-kb95-20211231-0285-f00.fits.fz',\n",
       " '/home/mrabus/LCO_data/M55_LCO/tfn0m414-kb95-20211231-0286-f00.fits.fz',\n",
       " '/home/mrabus/LCO_data/M55_LCO/tfn0m414-kb95-20211231-0287-f00.fits.fz',\n",
       " '/home/mrabus/LCO_data/M55_LCO/tfn0m414-kb95-20211231-0288-f00.fits.fz',\n",
       " '/home/mrabus/LCO_data/M55_LCO/tfn0m414-kb95-20211231-0289-f00.fits.fz',\n",
       " '/home/mrabus/LCO_data/M55_LCO/tfn0m414-kb95-20211231-0290-f00.fits.fz',\n",
       " '/home/mrabus/LCO_data/M55_LCO/tfn0m414-kb95-20211231-0301-b00.fits.fz',\n",
       " '/home/mrabus/LCO_data/M55_LCO/tfn0m414-kb95-20211231-0302-b00.fits.fz',\n",
       " '/home/mrabus/LCO_data/M55_LCO/tfn0m414-kb95-20211231-0303-b00.fits.fz',\n",
       " '/home/mrabus/LCO_data/M55_LCO/tfn0m414-kb95-20211231-0304-b00.fits.fz',\n",
       " '/home/mrabus/LCO_data/M55_LCO/tfn0m414-kb95-20211231-0305-b00.fits.fz',\n",
       " '/home/mrabus/LCO_data/M55_LCO/tfn0m414-kb95-20211231-0306-b00.fits.fz',\n",
       " '/home/mrabus/LCO_data/M55_LCO/tfn0m414-kb95-20211231-0307-b00.fits.fz',\n",
       " '/home/mrabus/LCO_data/M55_LCO/tfn0m414-kb95-20220101-0033-f00.fits.fz',\n",
       " '/home/mrabus/LCO_data/M55_LCO/tfn0m414-kb95-20220101-0034-f00.fits.fz',\n",
       " '/home/mrabus/LCO_data/M55_LCO/tfn0m414-kb95-20220101-0035-f00.fits.fz',\n",
       " '/home/mrabus/LCO_data/M55_LCO/tfn0m414-kb95-20220101-0036-f00.fits.fz',\n",
       " '/home/mrabus/LCO_data/M55_LCO/tfn0m414-kb95-20220101-0037-f00.fits.fz',\n",
       " '/home/mrabus/LCO_data/M55_LCO/tfn0m414-kb95-20220101-0038-f00.fits.fz',\n",
       " '/home/mrabus/LCO_data/M55_LCO/tfn0m414-kb95-20220101-0039-f00.fits.fz',\n",
       " '/home/mrabus/LCO_data/M55_LCO/tfn0m414-kb95-20220101-0040-f00.fits.fz',\n",
       " '/home/mrabus/LCO_data/M55_LCO/tfn0m414-kb95-20220101-0041-f00.fits.fz',\n",
       " '/home/mrabus/LCO_data/M55_LCO/tfn0m414-kb95-20220101-0042-f00.fits.fz']"
      ]
     },
     "execution_count": 19,
     "metadata": {},
     "output_type": "execute_result"
    }
   ],
   "source": [
    "TodosImagenes"
   ]
  },
  {
   "cell_type": "code",
   "execution_count": 21,
   "id": "bbe831b3-d09b-43e9-b725-378266db7541",
   "metadata": {},
   "outputs": [],
   "source": [
    "import os\n",
    "\n",
    "listaBias = []\n",
    "listaDark = []\n",
    "listaCiencia = []\n",
    "listaFlat_V = []\n",
    "listaFlat_rp = []\n",
    "listaFlat_B = []\n",
    "\n",
    "TodosImagenes = glob.glob( os.path.join(datapath, '*.fz') )\n",
    "\n",
    "for imagen in TodosImagenes:\n",
    "    cabecera = fits.getheader( imagen, ext=1 )\n",
    "    if cabecera['OBSTYPE'] == 'BIAS':\n",
    "        listaBias.append(imagen)\n",
    "    if cabecera['OBSTYPE'] == 'DARK':\n",
    "        listaDark.append(imagen)\n",
    "        \n",
    "# Continuar con Flats en todos los filtros y ciencia\n"
   ]
  },
  {
   "cell_type": "code",
   "execution_count": 23,
   "id": "d169c1bc-2729-4427-8663-687acd714e79",
   "metadata": {},
   "outputs": [
    {
     "data": {
      "text/plain": [
       "['/home/mrabus/LCO_data/M55_LCO/tfn0m414-kb95-20211231-0318-d00.fits.fz',\n",
       " '/home/mrabus/LCO_data/M55_LCO/tfn0m414-kb95-20211231-0319-d00.fits.fz',\n",
       " '/home/mrabus/LCO_data/M55_LCO/tfn0m414-kb95-20211231-0320-d00.fits.fz',\n",
       " '/home/mrabus/LCO_data/M55_LCO/tfn0m414-kb95-20211231-0321-d00.fits.fz',\n",
       " '/home/mrabus/LCO_data/M55_LCO/tfn0m414-kb95-20211231-0322-d00.fits.fz']"
      ]
     },
     "execution_count": 23,
     "metadata": {},
     "output_type": "execute_result"
    }
   ],
   "source": [
    "listaDark"
   ]
  },
  {
   "cell_type": "code",
   "execution_count": 7,
   "id": "5390ead5-80c2-41b4-9b5d-50fee0527dd6",
   "metadata": {},
   "outputs": [
    {
     "data": {
      "text/plain": [
       "[6, 'imagen']"
      ]
     },
     "execution_count": 7,
     "metadata": {},
     "output_type": "execute_result"
    }
   ],
   "source": [
    "listaBias"
   ]
  },
  {
   "cell_type": "code",
   "execution_count": 24,
   "id": "dc5f09af-0b21-4fe1-b6d4-b92fe6cf6f72",
   "metadata": {},
   "outputs": [],
   "source": [
    "imagen1 = fits.open(listaBias[0])"
   ]
  },
  {
   "cell_type": "code",
   "execution_count": 25,
   "id": "05b45c21-342e-49c1-b0c8-cca173dffc43",
   "metadata": {},
   "outputs": [
    {
     "name": "stdout",
     "output_type": "stream",
     "text": [
      "Filename: /home/mrabus/LCO_data/M55_LCO/tfn0m414-kb95-20211231-0308-b00.fits.fz\n",
      "No.    Name      Ver    Type      Cards   Dimensions   Format\n",
      "  0  PRIMARY       1 PrimaryHDU       8   ()      \n",
      "  1  SCI           1 CompImageHDU    243   (3136, 2112)   int16   \n"
     ]
    }
   ],
   "source": [
    "imagen1.info()"
   ]
  },
  {
   "cell_type": "code",
   "execution_count": 26,
   "id": "88f09555-29c5-4470-9cf6-d6a45d361b2c",
   "metadata": {},
   "outputs": [],
   "source": [
    "datosimagen1 = fits.getdata(listaBias[0], ext=1)"
   ]
  },
  {
   "cell_type": "code",
   "execution_count": 27,
   "id": "53e57d9b-f90f-4c5c-bdb4-85250cbd3035",
   "metadata": {},
   "outputs": [
    {
     "data": {
      "text/plain": [
       "array([[1021, 1022, 1022, ..., 1046, 1037, 1026],\n",
       "       [1032, 1031, 1017, ..., 1012, 1033, 1042],\n",
       "       [1014, 1037, 1031, ..., 1032, 1028, 1019],\n",
       "       ...,\n",
       "       [1011, 1035, 1014, ..., 1031, 1026, 1045],\n",
       "       [1011, 1011, 1020, ..., 1038, 1029, 1029],\n",
       "       [1020, 1017, 1016, ..., 1034, 1036, 1027]], dtype=uint16)"
      ]
     },
     "execution_count": 27,
     "metadata": {},
     "output_type": "execute_result"
    }
   ],
   "source": [
    "datosimagen1"
   ]
  },
  {
   "cell_type": "code",
   "execution_count": 28,
   "id": "686531af-2aa1-4cfb-ba4d-c249bd71caf5",
   "metadata": {},
   "outputs": [],
   "source": [
    "import numpy as np"
   ]
  },
  {
   "cell_type": "code",
   "execution_count": null,
   "id": "1b6ef14d-910b-4b23-9e6d-ff2186fc7ef2",
   "metadata": {},
   "outputs": [],
   "source": [
    "# tarea stack de imagenes de cada grupo de imagens, por ejemplot un stack de bias, un stack de dark, ...\n",
    "# combinar los 17 bias en una imagen, para combinar usar el promedio y median, los mismo con los darks, los flats (NO se combina la ciencia!!!)\n",
    "# Resultando archivo un master (masterbias, masterdark, masterflat_V,....)\n",
    "# Operacion: (Ciencia_V - masterbias)/masterflat_V\n"
   ]
  },
  {
   "cell_type": "code",
   "execution_count": null,
   "id": "0006af14-6737-423d-a182-3a37c704dc95",
   "metadata": {},
   "outputs": [],
   "source": []
  }
 ],
 "metadata": {
  "kernelspec": {
   "display_name": "Python [conda env:py3]",
   "language": "python",
   "name": "conda-env-py3-py"
  },
  "language_info": {
   "codemirror_mode": {
    "name": "ipython",
    "version": 3
   },
   "file_extension": ".py",
   "mimetype": "text/x-python",
   "name": "python",
   "nbconvert_exporter": "python",
   "pygments_lexer": "ipython3",
   "version": "3.9.7"
  }
 },
 "nbformat": 4,
 "nbformat_minor": 5
}
