{
 "cells": [
  {
   "cell_type": "markdown",
   "id": "11853b9f-17a4-4dbb-ac6d-c6cee5efd271",
   "metadata": {},
   "source": [
    "# Analysis de datos de un CCD\n",
    "\n",
    "Una imagen astronómica es un array de 2 dimensiones, un píxel es un elemento del array. En un mundo ideal, el valor de cada píxel es directamente proporcional a la cantidad de luz que cayó sobre el píxel durante el.\n",
    "\n",
    "El número almacenado en una imagen astronómica en crudo denominamos unidad digital analógica (Analog Digitla Unit, ADU) o \"counts\". El número de fotones (o equivalentes, electrones) que llegan al píxel está relacionado con los \"counts\" en el píxel a traves del factor de la ganancia \"gain\".\n",
    "\n",
    "Otros contribuciones que aumenta los \"counts\", pero no estan relacionados con la luz son:\n",
    "- **BIAS** Hay pequeñas variaciones en los valor del bias a lo largo del chip, y puede haber pequeñas variaciones en el nivel del bias con el tiempo.\n",
    "- **Dark current** (Corriente oscuro) Causado en un píxel debido al movimiento térmico de los electrones en el CCD; la refrigeración de un CCD reduce, aunque no elimina del todo. La corriente oscuro depende en gran medida de la temperatura.\n",
    "- **Read noise** (ruide de lectura) Causado un un píxel debido a la lecture. No se puede eliminar, pero reducir.\n",
    "- **Flat** La sensidividad de la CCD varia a lo largo de la CCD causado por viñeteo en las escinas, particulas de polvo en los elementos opticos, cada pixel tiene su propio sensitividad, pixeles muertos.\n"
   ]
  },
  {
   "cell_type": "code",
   "execution_count": null,
   "id": "71cd870f-d5ee-47b9-88a9-d566671b16ab",
   "metadata": {},
   "outputs": [],
   "source": [
    "import os\n",
    "import numpy as np\n",
    "from astropy.io import fits\n",
    "import matplotlib.pylab as plt\n",
    "from astropy.visualization import ImageNormalize\n",
    "from astropy.visualization import simple_norm, MinMaxInterval, PercentileInterval, ZScaleInterval\n",
    "\n",
    "%matplotlib inline"
   ]
  },
  {
   "cell_type": "code",
   "execution_count": null,
   "id": "e56468eb-2854-4d31-83cc-a1dccba108fc",
   "metadata": {},
   "outputs": [],
   "source": [
    "from matplotlib import rcParams\n",
    "\n",
    "rcParams[\"figure.figsize\"] = (15, 7)\n",
    "rcParams[\"font.size\"] = 8"
   ]
  },
  {
   "cell_type": "code",
   "execution_count": null,
   "id": "1479cb1b-88b1-4bab-addb-9a9e3990c3e7",
   "metadata": {},
   "outputs": [],
   "source": [
    "datapath = \"/home/mrabus/LCO_data/M55_LCO/\""
   ]
  },
  {
   "cell_type": "markdown",
   "id": "4e635e30-727c-4b43-8fac-ef4ccdbb5fc7",
   "metadata": {},
   "source": [
    "## Imagenes de bias\n",
    "\n",
    "Las imagenes de bias se toma con la CCD totalmente tapada sin luz ilumina la ccd y con un tiempo de exposicion 0s o sea simplemente leer la ccd instantanea. Ahora vamos a ver un ejemplo de un imagen de bias."
   ]
  },
  {
   "cell_type": "code",
   "execution_count": null,
   "id": "77db9af2-6eaa-4dd8-920b-2a1af1acdf1f",
   "metadata": {},
   "outputs": [],
   "source": [
    "bias_name = \"tfn0m414-kb95-20211231-0301-b00.fits.fz\"\n",
    "\n",
    "bias_hdu = fits.open( os.path.join(datapath,bias_name) )"
   ]
  },
  {
   "cell_type": "code",
   "execution_count": null,
   "id": "9255b0c6-b3e0-461e-ae1d-4f4947a90404",
   "metadata": {},
   "outputs": [],
   "source": [
    "bias_hdu.info()"
   ]
  },
  {
   "cell_type": "code",
   "execution_count": null,
   "id": "cfeda66c-b863-4bc7-adc2-fb1243b1abf1",
   "metadata": {
    "tags": []
   },
   "outputs": [],
   "source": [
    "bias_hdu[1].header"
   ]
  },
  {
   "cell_type": "markdown",
   "id": "59336f4b-d281-415f-89c6-1148ee482dac",
   "metadata": {},
   "source": [
    "En vez de imprimir todo el header, podemos eligir solo la informacion que nos importa. Queremos verificar si se trata de una imagen de bias. Usamos el descriptor \"Header keyword\" `OBSTYPE`"
   ]
  },
  {
   "cell_type": "code",
   "execution_count": null,
   "id": "8e9670b8-9ea0-4035-a5b9-df645f755323",
   "metadata": {},
   "outputs": [],
   "source": [
    "print(bias_hdu[1].header[\"OBSTYPE\"])\n",
    "print(bias_hdu[1].header[\"EXPTIME\"])"
   ]
  },
  {
   "cell_type": "code",
   "execution_count": null,
   "id": "08fe2fa3-30ce-4078-ac58-4ffa60b49db6",
   "metadata": {},
   "outputs": [],
   "source": [
    "bias_image = bias_hdu[1].data\n"
   ]
  },
  {
   "cell_type": "code",
   "execution_count": null,
   "id": "d4bffb6c-29bf-49cf-9015-527309570612",
   "metadata": {},
   "outputs": [],
   "source": [
    "interval = ZScaleInterval()\n",
    "norm = ImageNormalize(bias_image, interval=ZScaleInterval())\n",
    "\n",
    "fig = plt.figure()\n",
    "ax = fig.add_subplot(1, 1, 1)\n",
    "plot = ax.imshow(bias_image, cmap='gray', origin='lower', norm=norm,)\n",
    "fig.colorbar(plot)"
   ]
  },
  {
   "cell_type": "markdown",
   "id": "e30a68c6-cbdc-4d45-960b-84b1fd7fb562",
   "metadata": {},
   "source": [
    "## Imagenes de dark\n",
    "\n",
    "Las imagenes de bias se toma con la CCD totalmente tapada sin luz ilumina la ccd. Con la diferencia respeto al bias el dark tiene un tiempo de exposisicion diferente a 0, similar a la tiempo de exposicion. Ahora vamos a ver un ejemplo de un imagen de dark."
   ]
  },
  {
   "cell_type": "code",
   "execution_count": null,
   "id": "9880e576-910c-4f04-a61d-521340801104",
   "metadata": {},
   "outputs": [],
   "source": [
    "dark_name = \"tfn0m414-kb95-20211231-0318-d00.fits.fz\"\n",
    "dark_hdu = fits.open( os.path.join(datapath, dark_name) )"
   ]
  },
  {
   "cell_type": "code",
   "execution_count": null,
   "id": "8c0a8771-e62f-44e9-a127-0c93488b8b45",
   "metadata": {},
   "outputs": [],
   "source": [
    "print(dark_hdu[1].header[\"OBSTYPE\"])\n",
    "print(dark_hdu[1].header[\"EXPTIME\"])"
   ]
  },
  {
   "cell_type": "code",
   "execution_count": null,
   "id": "ebaa8d0b-9909-4c05-bf3f-3ba90268a543",
   "metadata": {},
   "outputs": [],
   "source": [
    "dark_image = dark_hdu[1].data"
   ]
  },
  {
   "cell_type": "code",
   "execution_count": null,
   "id": "e9a24089-fb8e-4945-bc31-5ea181086609",
   "metadata": {},
   "outputs": [],
   "source": [
    "interval = ZScaleInterval()\n",
    "norm = ImageNormalize(dark_image, interval=ZScaleInterval())\n",
    "\n",
    "fig = plt.figure()\n",
    "ax = fig.add_subplot(1, 1, 1)\n",
    "plot = ax.imshow(dark_image, cmap='gray', origin='lower', norm=norm,)\n",
    "fig.colorbar(plot)"
   ]
  },
  {
   "cell_type": "markdown",
   "id": "19a4c0e0-bcc5-4621-a887-7cec5e664e3b",
   "metadata": {},
   "source": [
    "## Imagenes de flat\n",
    "\n",
    "Las imagenes de bias se toma observando una superficie uniforme iluminado por ejemplo el cielo durante el dia o una pantalla blanco illuminado con una luz."
   ]
  },
  {
   "cell_type": "code",
   "execution_count": null,
   "id": "4f077b37-7a47-41ad-a6a2-427e5b3b4440",
   "metadata": {},
   "outputs": [],
   "source": [
    "flat_name = \"tfn0m414-kb95-20220101-0033-f00.fits.fz\"\n",
    "flat_hdu = fits.open( os.path.join(datapath, flat_name) )"
   ]
  },
  {
   "cell_type": "code",
   "execution_count": null,
   "id": "e08a627d-bc96-4203-8551-2ffea385902c",
   "metadata": {},
   "outputs": [],
   "source": [
    "print(flat_hdu[1].header[\"OBSTYPE\"])\n",
    "print(flat_hdu[1].header[\"FILTER\"])\n",
    "print(flat_hdu[1].header[\"EXPTIME\"])"
   ]
  },
  {
   "cell_type": "code",
   "execution_count": null,
   "id": "66fce7b2-de17-4496-be23-5dbd0ca966cf",
   "metadata": {},
   "outputs": [],
   "source": [
    "flat_image = flat_hdu[1].data"
   ]
  },
  {
   "cell_type": "code",
   "execution_count": null,
   "id": "79d7ccb8-fa84-4eb9-bf77-c319430b590d",
   "metadata": {},
   "outputs": [],
   "source": [
    "interval = ZScaleInterval()\n",
    "norm = ImageNormalize(flat_image, interval=ZScaleInterval())\n",
    "\n",
    "fig = plt.figure()\n",
    "ax = fig.add_subplot(1, 1, 1)\n",
    "plot = ax.imshow(flat_image, cmap='gray', origin='lower', norm=norm,)\n",
    "fig.colorbar(plot)"
   ]
  },
  {
   "cell_type": "code",
   "execution_count": null,
   "id": "07096d4e-722c-4a55-b1d7-7dbb8d30e609",
   "metadata": {},
   "outputs": [],
   "source": [
    "flat_name = \"tfn0m414-kb95-20211230-0305-f00.fits.fz\"\n",
    "flat_hdu = fits.open( os.path.join(datapath, flat_name) )"
   ]
  },
  {
   "cell_type": "code",
   "execution_count": null,
   "id": "b007b3eb-928c-4463-ac55-7b23e360afaa",
   "metadata": {},
   "outputs": [],
   "source": [
    "print(flat_hdu[1].header[\"OBSTYPE\"])\n",
    "print(flat_hdu[1].header[\"FILTER\"])\n",
    "print(flat_hdu[1].header[\"EXPTIME\"])"
   ]
  },
  {
   "cell_type": "code",
   "execution_count": null,
   "id": "635e2968-3a79-481e-96a3-6a5a270ebc61",
   "metadata": {},
   "outputs": [],
   "source": [
    "flat_image = flat_hdu[1].data"
   ]
  },
  {
   "cell_type": "code",
   "execution_count": null,
   "id": "6f447c97-cbf9-45f9-9ea5-1dd8a4440ce5",
   "metadata": {},
   "outputs": [],
   "source": [
    "interval = ZScaleInterval()\n",
    "norm = ImageNormalize(flat_image, interval=ZScaleInterval())\n",
    "\n",
    "fig = plt.figure()\n",
    "ax = fig.add_subplot(1, 1, 1)\n",
    "plot = ax.imshow(flat_image, cmap='gray', origin='lower', norm=norm,)\n",
    "fig.colorbar(plot)"
   ]
  },
  {
   "cell_type": "markdown",
   "id": "1804cf6e-9cfe-4802-aac4-7319ca184bfe",
   "metadata": {},
   "source": [
    "Las imagenes de bias, dark y flat llamamos generalmente imgenes de calibracion. Las usamos en un primer paso para mejorar nuestra imagen de ciencia. La imagen de ciencia es nuestro objeto que observamos."
   ]
  },
  {
   "cell_type": "markdown",
   "id": "19cc22fc-5af0-483e-9063-45c3e5b7c730",
   "metadata": {},
   "source": [
    "## Imagenes de ciencia\n",
    "\n",
    "Las imagenes de ciencia contiene nuestro objeto de interes. A las imagenes de ciencia aplicamos los imagenes de calibracion. "
   ]
  },
  {
   "cell_type": "code",
   "execution_count": null,
   "id": "fc7bbd8e-89ff-41a4-8455-319c62bf4fe0",
   "metadata": {},
   "outputs": [],
   "source": [
    "science_name = \"tfn0m414-kb95-20211231-0227-e00.fits.fz\"\n",
    "science_hdu = fits.open( os.path.join(datapath, science_name) )"
   ]
  },
  {
   "cell_type": "code",
   "execution_count": null,
   "id": "51bf100d-ae65-4067-8687-2eca5d6f0848",
   "metadata": {},
   "outputs": [],
   "source": [
    "print(science_hdu[1].header[\"OBSTYPE\"])\n",
    "print(science_hdu[1].header[\"FILTER\"])\n",
    "print(science_hdu[1].header[\"EXPTIME\"])"
   ]
  },
  {
   "cell_type": "code",
   "execution_count": null,
   "id": "272cd3d9-07f1-4f5a-ab94-642640e3e416",
   "metadata": {},
   "outputs": [],
   "source": [
    "science_image = science_hdu[1].data"
   ]
  },
  {
   "cell_type": "code",
   "execution_count": null,
   "id": "ddd2ed7e-dd29-475c-a476-c7bfacf3e518",
   "metadata": {},
   "outputs": [],
   "source": [
    "interval = ZScaleInterval()\n",
    "norm = ImageNormalize(science_image, interval=ZScaleInterval())\n",
    "\n",
    "fig = plt.figure()\n",
    "ax = fig.add_subplot(1, 1, 1)\n",
    "plot = ax.imshow(science_image, cmap='gray', origin='lower', norm=norm,)\n",
    "fig.colorbar(plot)"
   ]
  },
  {
   "cell_type": "markdown",
   "id": "bd642b3d-d8b0-45e0-8c34-cda44ff55cd9",
   "metadata": {},
   "source": [
    "Ejercicio: Un programa que cuente los imagenes de cada uno (bias, dark, flat, ciencia)."
   ]
  },
  {
   "cell_type": "code",
   "execution_count": null,
   "id": "bbe831b3-d09b-43e9-b725-378266db7541",
   "metadata": {},
   "outputs": [],
   "source": [
    "# Escriba tu codigo aqui!!"
   ]
  },
  {
   "cell_type": "code",
   "execution_count": null,
   "id": "ed10792d-7934-438f-b1f0-006a4c51fcb6",
   "metadata": {},
   "outputs": [],
   "source": []
  },
  {
   "cell_type": "code",
   "execution_count": null,
   "id": "d169c1bc-2729-4427-8663-687acd714e79",
   "metadata": {},
   "outputs": [],
   "source": []
  },
  {
   "cell_type": "code",
   "execution_count": null,
   "id": "5390ead5-80c2-41b4-9b5d-50fee0527dd6",
   "metadata": {},
   "outputs": [],
   "source": []
  }
 ],
 "metadata": {
  "kernelspec": {
   "display_name": "Python [conda env:py3]",
   "language": "python",
   "name": "conda-env-py3-py"
  },
  "language_info": {
   "codemirror_mode": {
    "name": "ipython",
    "version": 3
   },
   "file_extension": ".py",
   "mimetype": "text/x-python",
   "name": "python",
   "nbconvert_exporter": "python",
   "pygments_lexer": "ipython3",
   "version": "3.9.7"
  }
 },
 "nbformat": 4,
 "nbformat_minor": 5
}
