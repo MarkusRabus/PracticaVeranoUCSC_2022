{
 "cells": [
  {
   "cell_type": "markdown",
   "id": "11853b9f-17a4-4dbb-ac6d-c6cee5efd271",
   "metadata": {
    "tags": []
   },
   "source": [
    "# Analysis de datos de un CCD\n",
    "\n",
    "Una imagen astronómica es un array de 2 dimensiones, un píxel es un elemento del array. En un mundo ideal, el valor de cada píxel es directamente proporcional a la cantidad de luz que cayó sobre el píxel durante el.\n",
    "\n",
    "El número almacenado en una imagen astronómica en crudo denominamos unidad digital analógica (Analog Digitla Unit, ADU) o \"counts\". El número de fotones (o equivalentes, electrones) que llegan al píxel está relacionado con los \"counts\" en el píxel a traves del factor de la ganancia \"gain\".\n",
    "\n",
    "Otros contribuciones que aumenta los \"counts\", pero no estan relacionados con la luz son:\n",
    "- **BIAS** Hay pequeñas variaciones en los valor del bias a lo largo del chip, y puede haber pequeñas variaciones en el nivel del bias con el tiempo.\n",
    "- **Dark current** (Corriente oscuro) Causado en un píxel debido al movimiento térmico de los electrones en el CCD; la refrigeración de un CCD reduce, aunque no elimina del todo. La corriente oscuro depende en gran medida de la temperatura.\n",
    "- **Read noise** (ruide de lectura) Causado un un píxel debido a la lecture. No se puede eliminar, pero reducir.\n",
    "- **Flat** La sensidividad de la CCD varia a lo largo de la CCD causado por viñeteo en las escinas, particulas de polvo en los elementos opticos, cada pixel tiene su propio sensitividad, pixeles muertos.\n"
   ]
  },
  {
   "cell_type": "code",
   "execution_count": 83,
   "id": "71cd870f-d5ee-47b9-88a9-d566671b16ab",
   "metadata": {},
   "outputs": [],
   "source": [
    "import os\n",
    "import numpy as np\n",
    "from astropy.io import fits\n",
    "import matplotlib.pylab as plt\n",
    "from astropy.visualization import ImageNormalize\n",
    "from astropy.visualization import simple_norm, MinMaxInterval, PercentileInterval, ZScaleInterval\n",
    "\n",
    "%matplotlib inline"
   ]
  },
  {
   "cell_type": "code",
   "execution_count": 2,
   "id": "e56468eb-2854-4d31-83cc-a1dccba108fc",
   "metadata": {},
   "outputs": [],
   "source": [
    "from matplotlib import rcParams\n",
    "\n",
    "rcParams[\"figure.figsize\"] = (15, 7)\n",
    "rcParams[\"font.size\"] = 8"
   ]
  },
  {
   "cell_type": "code",
   "execution_count": null,
   "id": "1479cb1b-88b1-4bab-addb-9a9e3990c3e7",
   "metadata": {},
   "outputs": [],
   "source": [
    "datapath = \"/home/mrabus/LCO_data/M55_LCO/\""
   ]
  },
  {
   "cell_type": "markdown",
   "id": "4e635e30-727c-4b43-8fac-ef4ccdbb5fc7",
   "metadata": {},
   "source": [
    "## Imagenes de bias\n",
    "\n",
    "Las imagenes de bias se toma con la CCD totalmente tapada sin luz ilumina la ccd y con un tiempo de exposicion 0s o sea simplemente leer la ccd instantanea. Ahora vamos a ver un ejemplo de un imagen de bias."
   ]
  },
  {
   "cell_type": "code",
   "execution_count": null,
   "id": "77db9af2-6eaa-4dd8-920b-2a1af1acdf1f",
   "metadata": {},
   "outputs": [],
   "source": [
    "bias_name = \"tfn0m414-kb95-20211231-0301-b00.fits.fz\"\n",
    "\n",
    "bias_hdu = fits.open( os.path.join(datapath,bias_name) )"
   ]
  },
  {
   "cell_type": "code",
   "execution_count": null,
   "id": "9255b0c6-b3e0-461e-ae1d-4f4947a90404",
   "metadata": {},
   "outputs": [],
   "source": [
    "bias_hdu.info()"
   ]
  },
  {
   "cell_type": "code",
   "execution_count": null,
   "id": "cfeda66c-b863-4bc7-adc2-fb1243b1abf1",
   "metadata": {
    "tags": []
   },
   "outputs": [],
   "source": [
    "bias_hdu[1].header"
   ]
  },
  {
   "cell_type": "markdown",
   "id": "59336f4b-d281-415f-89c6-1148ee482dac",
   "metadata": {},
   "source": [
    "En vez de imprimir todo el header, podemos eligir solo la informacion que nos importa. Queremos verificar si se trata de una imagen de bias. Usamos el descriptor \"Header keyword\" `OBSTYPE`"
   ]
  },
  {
   "cell_type": "code",
   "execution_count": null,
   "id": "8e9670b8-9ea0-4035-a5b9-df645f755323",
   "metadata": {},
   "outputs": [],
   "source": [
    "print(bias_hdu[1].header[\"OBSTYPE\"])\n",
    "print(bias_hdu[1].header[\"EXPTIME\"])"
   ]
  },
  {
   "cell_type": "code",
   "execution_count": null,
   "id": "08fe2fa3-30ce-4078-ac58-4ffa60b49db6",
   "metadata": {},
   "outputs": [],
   "source": [
    "bias_image = bias_hdu[1].data\n"
   ]
  },
  {
   "cell_type": "code",
   "execution_count": null,
   "id": "d4bffb6c-29bf-49cf-9015-527309570612",
   "metadata": {},
   "outputs": [],
   "source": [
    "interval = ZScaleInterval()\n",
    "norm = ImageNormalize(bias_image, interval=ZScaleInterval())\n",
    "\n",
    "fig = plt.figure()\n",
    "ax = fig.add_subplot(1, 1, 1)\n",
    "plot = ax.imshow(bias_image, cmap='gray', origin='lower', norm=norm,)\n",
    "fig.colorbar(plot)"
   ]
  },
  {
   "cell_type": "markdown",
   "id": "e30a68c6-cbdc-4d45-960b-84b1fd7fb562",
   "metadata": {},
   "source": [
    "## Imagenes de dark\n",
    "\n",
    "Las imagenes de bias se toma con la CCD totalmente tapada sin luz ilumina la ccd. Con la diferencia respeto al bias el dark tiene un tiempo de exposisicion diferente a 0, similar a la tiempo de exposicion. Ahora vamos a ver un ejemplo de un imagen de dark."
   ]
  },
  {
   "cell_type": "code",
   "execution_count": null,
   "id": "9880e576-910c-4f04-a61d-521340801104",
   "metadata": {},
   "outputs": [],
   "source": [
    "dark_name = \"tfn0m414-kb95-20211231-0318-d00.fits.fz\"\n",
    "dark_hdu = fits.open( os.path.join(datapath, dark_name) )"
   ]
  },
  {
   "cell_type": "code",
   "execution_count": null,
   "id": "8c0a8771-e62f-44e9-a127-0c93488b8b45",
   "metadata": {},
   "outputs": [],
   "source": [
    "print(dark_hdu[1].header[\"OBSTYPE\"])\n",
    "print(dark_hdu[1].header[\"EXPTIME\"])"
   ]
  },
  {
   "cell_type": "code",
   "execution_count": null,
   "id": "ebaa8d0b-9909-4c05-bf3f-3ba90268a543",
   "metadata": {},
   "outputs": [],
   "source": [
    "dark_image = dark_hdu[1].data"
   ]
  },
  {
   "cell_type": "code",
   "execution_count": null,
   "id": "e9a24089-fb8e-4945-bc31-5ea181086609",
   "metadata": {},
   "outputs": [],
   "source": [
    "interval = ZScaleInterval()\n",
    "norm = ImageNormalize(dark_image, interval=ZScaleInterval())\n",
    "\n",
    "fig = plt.figure()\n",
    "ax = fig.add_subplot(1, 1, 1)\n",
    "plot = ax.imshow(dark_image, cmap='gray', origin='lower', norm=norm,)\n",
    "fig.colorbar(plot)"
   ]
  },
  {
   "cell_type": "markdown",
   "id": "19a4c0e0-bcc5-4621-a887-7cec5e664e3b",
   "metadata": {},
   "source": [
    "## Imagenes de flat\n",
    "\n",
    "Las imagenes de bias se toma observando una superficie uniforme iluminado por ejemplo el cielo durante el dia o una pantalla blanco illuminado con una luz."
   ]
  },
  {
   "cell_type": "code",
   "execution_count": null,
   "id": "4f077b37-7a47-41ad-a6a2-427e5b3b4440",
   "metadata": {},
   "outputs": [],
   "source": [
    "flat_name = \"tfn0m414-kb95-20220101-0033-f00.fits.fz\"\n",
    "flat_hdu = fits.open( os.path.join(datapath, flat_name) )"
   ]
  },
  {
   "cell_type": "code",
   "execution_count": null,
   "id": "e08a627d-bc96-4203-8551-2ffea385902c",
   "metadata": {},
   "outputs": [],
   "source": [
    "print(flat_hdu[1].header[\"OBSTYPE\"])\n",
    "print(flat_hdu[1].header[\"FILTER\"])\n",
    "print(flat_hdu[1].header[\"EXPTIME\"])"
   ]
  },
  {
   "cell_type": "code",
   "execution_count": null,
   "id": "66fce7b2-de17-4496-be23-5dbd0ca966cf",
   "metadata": {},
   "outputs": [],
   "source": [
    "flat_image = flat_hdu[1].data"
   ]
  },
  {
   "cell_type": "code",
   "execution_count": null,
   "id": "79d7ccb8-fa84-4eb9-bf77-c319430b590d",
   "metadata": {},
   "outputs": [],
   "source": [
    "interval = ZScaleInterval()\n",
    "norm = ImageNormalize(flat_image, interval=ZScaleInterval())\n",
    "\n",
    "fig = plt.figure()\n",
    "ax = fig.add_subplot(1, 1, 1)\n",
    "plot = ax.imshow(flat_image, cmap='gray', origin='lower', norm=norm,)\n",
    "fig.colorbar(plot)"
   ]
  },
  {
   "cell_type": "code",
   "execution_count": null,
   "id": "07096d4e-722c-4a55-b1d7-7dbb8d30e609",
   "metadata": {},
   "outputs": [],
   "source": [
    "flat_name = \"tfn0m414-kb95-20211230-0305-f00.fits.fz\"\n",
    "flat_hdu = fits.open( os.path.join(datapath, flat_name) )"
   ]
  },
  {
   "cell_type": "code",
   "execution_count": null,
   "id": "b007b3eb-928c-4463-ac55-7b23e360afaa",
   "metadata": {},
   "outputs": [],
   "source": [
    "print(flat_hdu[1].header[\"OBSTYPE\"])\n",
    "print(flat_hdu[1].header[\"FILTER\"])\n",
    "print(flat_hdu[1].header[\"EXPTIME\"])"
   ]
  },
  {
   "cell_type": "code",
   "execution_count": null,
   "id": "635e2968-3a79-481e-96a3-6a5a270ebc61",
   "metadata": {},
   "outputs": [],
   "source": [
    "flat_image = flat_hdu[1].data"
   ]
  },
  {
   "cell_type": "code",
   "execution_count": null,
   "id": "6f447c97-cbf9-45f9-9ea5-1dd8a4440ce5",
   "metadata": {},
   "outputs": [],
   "source": [
    "interval = ZScaleInterval()\n",
    "norm = ImageNormalize(flat_image, interval=ZScaleInterval())\n",
    "\n",
    "fig = plt.figure()\n",
    "ax = fig.add_subplot(1, 1, 1)\n",
    "plot = ax.imshow(flat_image, cmap='gray', origin='lower', norm=norm,)\n",
    "fig.colorbar(plot)"
   ]
  },
  {
   "cell_type": "markdown",
   "id": "1804cf6e-9cfe-4802-aac4-7319ca184bfe",
   "metadata": {},
   "source": [
    "Las imagenes de bias, dark y flat llamamos generalmente imgenes de calibracion. Las usamos en un primer paso para mejorar nuestra imagen de ciencia. La imagen de ciencia es nuestro objeto que observamos."
   ]
  },
  {
   "cell_type": "markdown",
   "id": "19cc22fc-5af0-483e-9063-45c3e5b7c730",
   "metadata": {},
   "source": [
    "## Imagenes de ciencia\n",
    "\n",
    "Las imagenes de ciencia contiene nuestro objeto de interes. A las imagenes de ciencia aplicamos los imagenes de calibracion. "
   ]
  },
  {
   "cell_type": "code",
   "execution_count": 13,
   "id": "fc7bbd8e-89ff-41a4-8455-319c62bf4fe0",
   "metadata": {},
   "outputs": [],
   "source": [
    "science_name = \"tfn0m414-kb95-20211231-0227-e00.fits.fz\"\n",
    "science_hdu = fits.open( os.path.join(datapath, science_name) )"
   ]
  },
  {
   "cell_type": "code",
   "execution_count": 14,
   "id": "51bf100d-ae65-4067-8687-2eca5d6f0848",
   "metadata": {},
   "outputs": [
    {
     "name": "stdout",
     "output_type": "stream",
     "text": [
      "EXPOSE\n",
      "rp\n",
      "180.276\n"
     ]
    }
   ],
   "source": [
    "print(science_hdu[1].header[\"OBSTYPE\"])\n",
    "print(science_hdu[1].header[\"FILTER\"])\n",
    "print(science_hdu[1].header[\"EXPTIME\"])"
   ]
  },
  {
   "cell_type": "code",
   "execution_count": 15,
   "id": "272cd3d9-07f1-4f5a-ab94-642640e3e416",
   "metadata": {},
   "outputs": [],
   "source": [
    "science_image = science_hdu[1].data"
   ]
  },
  {
   "cell_type": "code",
   "execution_count": null,
   "id": "ddd2ed7e-dd29-475c-a476-c7bfacf3e518",
   "metadata": {},
   "outputs": [],
   "source": [
    "interval = ZScaleInterval()\n",
    "norm = ImageNormalize(science_image, interval=ZScaleInterval())\n",
    "\n",
    "fig = plt.figure()\n",
    "ax = fig.add_subplot(1, 1, 1)\n",
    "plot = ax.imshow(science_image, cmap='gray', origin='lower', norm=norm,)\n",
    "fig.colorbar(plot)"
   ]
  },
  {
   "cell_type": "markdown",
   "id": "bd642b3d-d8b0-45e0-8c34-cda44ff55cd9",
   "metadata": {},
   "source": [
    "Ejercicio: Un programa que cuente los imagenes de cada uno (bias, dark, flat, ciencia)."
   ]
  },
  {
   "cell_type": "code",
   "execution_count": null,
   "id": "bbe831b3-d09b-43e9-b725-378266db7541",
   "metadata": {},
   "outputs": [],
   "source": [
    "# Escriba tu codigo aqui!!"
   ]
  },
  {
   "cell_type": "code",
   "execution_count": 1,
   "id": "33eb9695-af02-4324-a3e4-34f7a751a1ed",
   "metadata": {
    "tags": []
   },
   "outputs": [],
   "source": [
    "#Roberto\n",
    "import os\n",
    "from astropy.io import fits\n",
    "import numpy as np\n",
    "import matplotlib.pylab as plt\n",
    "from astropy.visualization import ImageNormalize\n",
    "from astropy.visualization import simple_norm, MinMaxInterval, PercentileInterval, ZScaleInterval"
   ]
  },
  {
   "cell_type": "code",
   "execution_count": 2,
   "id": "83d49b47-f6e6-4d86-a372-a68620ba2989",
   "metadata": {},
   "outputs": [],
   "source": [
    "datapath='/Users/Saike/Desktop/Practica de Verano 2022/Imagenes'\n",
    "\n",
    "contenido = os.listdir(datapath)\n",
    "\n",
    "totalFiles=len(contenido)"
   ]
  },
  {
   "cell_type": "code",
   "execution_count": 3,
   "id": "d169c1bc-2729-4427-8663-687acd714e79",
   "metadata": {},
   "outputs": [],
   "source": [
    "\n",
    "Dark_T=[]\n",
    "Bias_T=[]\n",
    "Exp_T=[]\n",
    "FlatB_T=[]\n",
    "FlatRP_T=[]\n",
    "FlatV_T=[]\n"
   ]
  },
  {
   "cell_type": "code",
   "execution_count": 4,
   "id": "5c8d6bd4-039f-4eb5-bcfe-039258df66a4",
   "metadata": {},
   "outputs": [],
   "source": [
    "for i in contenido:\n",
    "    hdu = fits.open( os.path.join(datapath,i) )\n",
    "    #flat\n",
    "    if  hdu[1].header[\"OBSTYPE\"]=='SKYFLAT' and hdu[1].header[\"FILTER\"]==\"B\":\n",
    "        FlatB_T.append(os.path.join(datapath,i))\n",
    "        \n",
    "    elif  hdu[1].header[\"OBSTYPE\"]=='SKYFLAT' and hdu[1].header[\"FILTER\"]==\"rp\":\n",
    "        FlatRP_T.append(os.path.join(datapath,i))\n",
    "        \n",
    "    elif  hdu[1].header[\"OBSTYPE\"]=='SKYFLAT' and hdu[1].header[\"FILTER\"]==\"V\":\n",
    "        FlatV_T.append(os.path.join(datapath,i))\n",
    "        \n",
    "    #Ciencia\n",
    "    elif  hdu[1].header[\"OBSTYPE\"]=='EXPOSE':\n",
    "        Exp_T.append(os.path.join(datapath,i))\n",
    "    #Dark\n",
    "    elif  hdu[1].header[\"OBSTYPE\"]=='DARK':\n",
    "        Dark_T.append(os.path.join(datapath,i))\n",
    "    #Bias\n",
    "    elif  hdu[1].header[\"OBSTYPE\"]=='BIAS':\n",
    "        Bias_T.append(os.path.join(datapath,i))"
   ]
  },
  {
   "cell_type": "code",
   "execution_count": 5,
   "id": "5390ead5-80c2-41b4-9b5d-50fee0527dd6",
   "metadata": {},
   "outputs": [
    {
     "data": {
      "text/plain": [
       "55"
      ]
     },
     "execution_count": 5,
     "metadata": {},
     "output_type": "execute_result"
    }
   ],
   "source": [
    "len(FlatRP_T)+len(FlatB_T)+len(FlatV_T)+len(Bias_T)+len(Exp_T)+len(Dark_T)"
   ]
  },
  {
   "cell_type": "code",
   "execution_count": 6,
   "id": "16216aa6-0390-4a7a-8edf-ffa15fcfe82f",
   "metadata": {},
   "outputs": [
    {
     "data": {
      "text/plain": [
       "['/Users/Saike/Desktop/Practica de Verano 2022/Imagenes\\\\tfn0m414-kb95-20211231-0318-d00.fits.fz',\n",
       " '/Users/Saike/Desktop/Practica de Verano 2022/Imagenes\\\\tfn0m414-kb95-20211231-0319-d00.fits.fz',\n",
       " '/Users/Saike/Desktop/Practica de Verano 2022/Imagenes\\\\tfn0m414-kb95-20211231-0320-d00.fits.fz',\n",
       " '/Users/Saike/Desktop/Practica de Verano 2022/Imagenes\\\\tfn0m414-kb95-20211231-0321-d00.fits.fz',\n",
       " '/Users/Saike/Desktop/Practica de Verano 2022/Imagenes\\\\tfn0m414-kb95-20211231-0322-d00.fits.fz']"
      ]
     },
     "execution_count": 6,
     "metadata": {},
     "output_type": "execute_result"
    }
   ],
   "source": [
    "m=datapath+'/'+Dark_T[0]\n",
    "m\n",
    "os.path.join(datapath,i)\n",
    "Dark_T"
   ]
  },
  {
   "cell_type": "code",
   "execution_count": 7,
   "id": "b4f90ee0-8d87-45bb-8b05-4256bf4124d4",
   "metadata": {},
   "outputs": [],
   "source": [
    "hdu = fits.open( Dark_T[0] )\n",
    "hdu[1].header\n",
    "datos1=fits.getdata(Dark_T[0], ext=1)\n",
    "datos2=fits.getdata(Dark_T[1], ext=1)\n",
    "\n",
    "\n"
   ]
  },
  {
   "cell_type": "code",
   "execution_count": 8,
   "id": "df8a5283-ee4b-45d4-aeff-907ceb61d210",
   "metadata": {},
   "outputs": [],
   "source": [
    "MasterDark=np.empty_like(fits.getdata(Dark_T[0], ext=1))"
   ]
  },
  {
   "cell_type": "code",
   "execution_count": 9,
   "id": "2cf1e426-44f0-4157-97ae-afb303550de9",
   "metadata": {
    "tags": []
   },
   "outputs": [],
   "source": [
    "for i in Dark_T:    \n",
    "        data=fits.getdata(i, ext=1)\n",
    "        MasterDark=np.add(MasterDark, data)\n",
    "        \n",
    "MasterDark=MasterDark/len(Dark_T)\n",
    "MasterDark=np.array(MasterDark, dtype=np.int16)"
   ]
  },
  {
   "cell_type": "code",
   "execution_count": 10,
   "id": "b567148c-c666-4e1c-b349-066adff3d812",
   "metadata": {},
   "outputs": [
    {
     "data": {
      "text/plain": [
       "array([[1026, 1026, 1031, ..., 1038, 1036, 1038],\n",
       "       [1031, 1033, 1027, ..., 1029, 1035, 1045],\n",
       "       [1024, 1037, 1028, ..., 1036, 1035, 1037],\n",
       "       ...,\n",
       "       [1019, 1021, 1035, ..., 1023, 1037, 1029],\n",
       "       [1017, 1022, 1021, ..., 1037, 1034, 1038],\n",
       "       [1019, 1022, 1019, ..., 1036, 1038, 1038]], dtype=int16)"
      ]
     },
     "execution_count": 10,
     "metadata": {},
     "output_type": "execute_result"
    }
   ],
   "source": [
    "MasterDark"
   ]
  },
  {
   "cell_type": "code",
   "execution_count": 11,
   "id": "5c8d46c8-42a2-49ff-b838-d07c3e2e7604",
   "metadata": {},
   "outputs": [],
   "source": [
    "MasterBias=np.empty_like(fits.getdata(Bias_T[0], ext=1))"
   ]
  },
  {
   "cell_type": "code",
   "execution_count": 12,
   "id": "df78b603-a2f0-4f8e-85f8-3c6c5532c229",
   "metadata": {},
   "outputs": [],
   "source": [
    "for i in Bias_T:    \n",
    "        data=fits.getdata(i, ext=1)\n",
    "        MasterBias=np.add(MasterBias, data)\n",
    "        \n",
    "MasterBias=MasterBias/len(Bias_T)\n",
    "MasterBias=np.array(MasterBias, dtype=np.int16)"
   ]
  },
  {
   "cell_type": "code",
   "execution_count": 13,
   "id": "fe77663b-5144-4490-851c-ca949a60fd89",
   "metadata": {},
   "outputs": [
    {
     "data": {
      "text/plain": [
       "array([[1017, 1020, 1025, ..., 1033, 1032, 1035],\n",
       "       [1021, 1026, 1029, ..., 1037, 1033, 1037],\n",
       "       [1020, 1024, 1024, ..., 1037, 1035, 1037],\n",
       "       ...,\n",
       "       [1018, 1017, 1025, ..., 1035, 1034, 1031],\n",
       "       [1014, 1018, 1024, ..., 1031, 1029, 1030],\n",
       "       [1021, 1025, 1024, ..., 1031, 1032, 1031]], dtype=int16)"
      ]
     },
     "execution_count": 13,
     "metadata": {},
     "output_type": "execute_result"
    }
   ],
   "source": [
    "MasterBias"
   ]
  },
  {
   "cell_type": "code",
   "execution_count": 14,
   "id": "e9f055a5-5ca2-44c3-9f32-dcd68ae4d8bf",
   "metadata": {},
   "outputs": [],
   "source": [
    "MasterFlatB=np.empty_like(fits.getdata(FlatB_T[0], ext=1))"
   ]
  },
  {
   "cell_type": "code",
   "execution_count": 15,
   "id": "103eb2f1-f86b-447d-803a-048bbab503da",
   "metadata": {},
   "outputs": [],
   "source": [
    "for i in FlatB_T:    \n",
    "        data=fits.getdata(i, ext=1)\n",
    "        MasterFlatB=np.add(MasterFlatB, data)\n",
    "        \n",
    "MasterFlatB=MasterFlatB/len(FlatB_T)\n",
    "MasterFlatB=np.array(MasterFlatB, dtype=np.int16)"
   ]
  },
  {
   "cell_type": "code",
   "execution_count": 16,
   "id": "214bd54a-90b3-458d-a2c0-0ad17347f8b4",
   "metadata": {},
   "outputs": [
    {
     "data": {
      "text/plain": [
       "array([[1086, 1269, 1193, ..., 1035, 1035, 1030],\n",
       "       [ 998, 1132, 1176, ..., 1035, 1030, 1040],\n",
       "       [1017, 1146, 1183, ..., 1033, 1034, 1036],\n",
       "       ...,\n",
       "       [1015, 1022, 1015, ..., 1036, 1036, 1034],\n",
       "       [1017, 1024, 1023, ..., 1026, 1029, 1026],\n",
       "       [1014, 1020, 1020, ..., 1030, 1031, 1036]], dtype=int16)"
      ]
     },
     "execution_count": 16,
     "metadata": {},
     "output_type": "execute_result"
    }
   ],
   "source": [
    "MasterFlatB"
   ]
  },
  {
   "cell_type": "code",
   "execution_count": 17,
   "id": "a9bc8e07-48eb-4b4e-8bd9-0f8a1564aca2",
   "metadata": {},
   "outputs": [],
   "source": [
    "MasterFlatRP=np.empty_like(fits.getdata(FlatRP_T[0], ext=1))"
   ]
  },
  {
   "cell_type": "code",
   "execution_count": 18,
   "id": "72365149-78df-4837-95f8-f8579512efdf",
   "metadata": {},
   "outputs": [],
   "source": [
    "for i in FlatRP_T:    \n",
    "        data=fits.getdata(i, ext=1)\n",
    "        MasterFlatRP=np.add(MasterFlatRP, data)\n",
    "\n",
    "MasterFlatRP=MasterFlatRP/len(FlatRP_T)\n",
    "MasterFlatRP=np.array(MasterFlatRP, dtype=np.int16)"
   ]
  },
  {
   "cell_type": "code",
   "execution_count": 19,
   "id": "47865e39-9f64-4460-9041-d5a7cc8b1b33",
   "metadata": {},
   "outputs": [
    {
     "data": {
      "text/plain": [
       "array([[3596, 5432, 5638, ..., 1029, 1027, 1030],\n",
       "       [3853, 5669, 5935, ..., 1032, 1033, 1031],\n",
       "       [3885, 5633, 5880, ..., 1029, 1033, 1030],\n",
       "       ...,\n",
       "       [1016, 1026, 1021, ..., 1029, 1029, 1028],\n",
       "       [1018, 1014, 1020, ..., 1027, 1023, 1038],\n",
       "       [1012, 1013, 1020, ..., 1028, 1029, 1031]], dtype=int16)"
      ]
     },
     "execution_count": 19,
     "metadata": {},
     "output_type": "execute_result"
    }
   ],
   "source": [
    "MasterFlatRP"
   ]
  },
  {
   "cell_type": "code",
   "execution_count": 20,
   "id": "a46a9bcd-9c15-420d-abcd-dfefe2b2ef41",
   "metadata": {},
   "outputs": [],
   "source": [
    "MasterFlatV=np.empty_like(fits.getdata(FlatV_T[0], ext=1))"
   ]
  },
  {
   "cell_type": "code",
   "execution_count": 21,
   "id": "9715fb6f-002a-4745-be8f-882a4d08ac59",
   "metadata": {},
   "outputs": [],
   "source": [
    "for i in FlatV_T:    \n",
    "        data=fits.getdata(i, ext=1)\n",
    "        MasterFlatV=np.add(MasterFlatV, data)\n",
    "\n",
    "MasterFlatV=MasterFlatV/len(FlatV_T)\n",
    "MasterFlatV=np.array(MasterFlatV, dtype=np.int16)"
   ]
  },
  {
   "cell_type": "code",
   "execution_count": 22,
   "id": "58aa319e-ebf6-4f28-a9ba-f8f727c163b1",
   "metadata": {},
   "outputs": [
    {
     "data": {
      "text/plain": [
       "array([[4958, 5893, 5959, ..., 1033, 1028, 1031],\n",
       "       [5077, 6007, 6010, ..., 1027, 1032, 1032],\n",
       "       [5097, 5930, 6047, ..., 1028, 1028, 1028],\n",
       "       ...,\n",
       "       [1008, 1016, 1019, ..., 1022, 1025, 1033],\n",
       "       [1017, 1021, 1022, ..., 1029, 1026, 1029],\n",
       "       [1014, 1020, 1027, ..., 1028, 1027, 1028]], dtype=int16)"
      ]
     },
     "execution_count": 22,
     "metadata": {},
     "output_type": "execute_result"
    }
   ],
   "source": [
    "MasterFlatV"
   ]
  },
  {
   "cell_type": "code",
   "execution_count": 41,
   "id": "7b8924c5-bc3b-4d53-8e22-0aeab9aa4017",
   "metadata": {},
   "outputs": [
    {
     "data": {
      "text/plain": [
       "'rp'"
      ]
     },
     "execution_count": 41,
     "metadata": {},
     "output_type": "execute_result"
    }
   ],
   "source": [
    "hdu=fits.open(Exp_T[0])\n",
    "hdu[1].header[\"FILTER\"]"
   ]
  },
  {
   "cell_type": "code",
   "execution_count": 27,
   "id": "98ea51ef-f2df-4141-9ffd-aa9d62abab7a",
   "metadata": {},
   "outputs": [
    {
     "data": {
      "text/plain": [
       "array([[1047, 1086, 1085, ..., 1026, 1035, 1025],\n",
       "       [1044, 1110, 1091, ..., 1053, 1068, 1035],\n",
       "       [1065, 1100, 1077, ..., 1035, 1040, 1047],\n",
       "       ...,\n",
       "       [1013, 1028, 1002, ..., 1024, 1037, 1029],\n",
       "       [1023, 1028, 1021, ..., 1023, 1038, 1030],\n",
       "       [1011, 1023, 1031, ..., 1012, 1029, 1041]], dtype=uint16)"
      ]
     },
     "execution_count": 27,
     "metadata": {},
     "output_type": "execute_result"
    }
   ],
   "source": [
    "Ciencia_V=fits.getdata(Exp_T[1], ext=1)\n",
    "Ciencia_V"
   ]
  },
  {
   "cell_type": "code",
   "execution_count": 36,
   "id": "00882147-447e-4606-bc29-8bb573c09a10",
   "metadata": {},
   "outputs": [],
   "source": [
    "np.seterr(divide='ignore', invalid='ignore')\n",
    "cienciaF=(Ciencia_V-MasterBias)\n",
    "cienciaF=cienciaF/MasterFlatV"
   ]
  },
  {
   "cell_type": "markdown",
   "id": "0b9f05c6-4bd1-4772-9c1b-6db6fffa5dc2",
   "metadata": {},
   "source": [
    "#Imagen V"
   ]
  },
  {
   "cell_type": "code",
   "execution_count": 37,
   "id": "99690def-034b-4e14-aa33-e821c96771ed",
   "metadata": {},
   "outputs": [
    {
     "data": {
      "text/plain": [
       "<matplotlib.colorbar.Colorbar at 0x1b2a7c12c70>"
      ]
     },
     "execution_count": 37,
     "metadata": {},
     "output_type": "execute_result"
    },
    {
     "data": {
      "image/png": "[encoded data removed]",
      "text/plain": [
       "<Figure size 432x288 with 2 Axes>"
      ]
     },
     "metadata": {
      "needs_background": "light"
     },
     "output_type": "display_data"
    }
   ],
   "source": [
    "interval = ZScaleInterval()\n",
    "norm = ImageNormalize(cienciaF, interval=ZScaleInterval())\n",
    "\n",
    "fig = plt.figure()\n",
    "ax = fig.add_subplot(1, 1, 1)\n",
    "plot = ax.imshow(cienciaF, cmap='gray', origin='lower', norm=norm,)\n",
    "fig.colorbar(plot)"
   ]
  },
  {
   "cell_type": "markdown",
   "id": "cfa539c4-2126-47df-8333-8c45817971af",
   "metadata": {},
   "source": [
    "#Imagen B"
   ]
  },
  {
   "cell_type": "code",
   "execution_count": 38,
   "id": "2afee926-883f-42ec-9718-bc6e99acc38f",
   "metadata": {},
   "outputs": [
    {
     "data": {
      "text/plain": [
       "array([[1022, 1068, 1045, ..., 1034, 1041, 1024],\n",
       "       [1026, 1058, 1049, ..., 1033, 1036, 1053],\n",
       "       [1031, 1065, 1052, ..., 1019, 1038, 1021],\n",
       "       ...,\n",
       "       [1006, 1046, 1017, ..., 1037, 1041, 1034],\n",
       "       [1016, 1037, 1035, ..., 1034, 1047, 1043],\n",
       "       [1019, 1028, 1023, ..., 1042, 1036, 1033]], dtype=uint16)"
      ]
     },
     "execution_count": 38,
     "metadata": {},
     "output_type": "execute_result"
    }
   ],
   "source": [
    "Ciencia_B=fits.getdata(Exp_T[2], ext=1)\n",
    "Ciencia_B"
   ]
  },
  {
   "cell_type": "code",
   "execution_count": 39,
   "id": "766becf0-2592-43e8-a560-e821c3677b72",
   "metadata": {},
   "outputs": [],
   "source": [
    "np.seterr(divide='ignore', invalid='ignore')\n",
    "cienciaF=(Ciencia_B-MasterBias)\n",
    "cienciaF=cienciaF/MasterFlatB"
   ]
  },
  {
   "cell_type": "code",
   "execution_count": 40,
   "id": "ee53e336-893d-4af1-93c0-a0328a55c878",
   "metadata": {},
   "outputs": [
    {
     "data": {
      "text/plain": [
       "<matplotlib.colorbar.Colorbar at 0x1b2a8654f10>"
      ]
     },
     "execution_count": 40,
     "metadata": {},
     "output_type": "execute_result"
    },
    {
     "data": {
      "image/png": "[encoded data removed]",
      "text/plain": [
       "<Figure size 432x288 with 2 Axes>"
      ]
     },
     "metadata": {
      "needs_background": "light"
     },
     "output_type": "display_data"
    }
   ],
   "source": [
    "interval = ZScaleInterval()\n",
    "norm = ImageNormalize(cienciaF, interval=ZScaleInterval())\n",
    "\n",
    "fig = plt.figure()\n",
    "ax = fig.add_subplot(1, 1, 1)\n",
    "plot = ax.imshow(cienciaF, cmap='gray', origin='lower', norm=norm,)\n",
    "fig.colorbar(plot)"
   ]
  },
  {
   "cell_type": "markdown",
   "id": "f494590a-2307-4f95-8084-4d459f6608b5",
   "metadata": {},
   "source": [
    "#imagen RP"
   ]
  },
  {
   "cell_type": "code",
   "execution_count": null,
   "id": "88f6c3a7-6dc8-47c9-9794-51804e82f0ca",
   "metadata": {},
   "outputs": [],
   "source": [
    "Ciencia_RP=fits.getdata(Exp_T[2], ext=1)\n",
    "Ciencia_B"
   ]
  },
  {
   "cell_type": "code",
   "execution_count": null,
   "id": "881aa212-e024-4981-9829-bff9120abc72",
   "metadata": {},
   "outputs": [],
   "source": []
  }
 ],
 "metadata": {
  "kernelspec": {
   "display_name": "Python 3 (ipykernel)",
   "language": "python",
   "name": "python3"
  },
  "language_info": {
   "codemirror_mode": {
    "name": "ipython",
    "version": 3
   },
   "file_extension": ".py",
   "mimetype": "text/x-python",
   "name": "python",
   "nbconvert_exporter": "python",
   "pygments_lexer": "ipython3",
   "version": "3.9.8"
  }
 },
 "nbformat": 4,
 "nbformat_minor": 5
}
