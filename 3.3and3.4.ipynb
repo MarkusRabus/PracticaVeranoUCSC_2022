{
 "cells": [
  {
   "cell_type": "markdown",
   "id": "5377ec2d-a75e-46fd-aa52-252c7a07e6bf",
   "metadata": {},
   "source": [
    "# 3.3. Manejo de overscan y bias para marcos oscuros \n",
    "# 3.3.1. Las opciones para reducir los marcos oscuros \n",
    "Los siguientes pasos a seguir dependen de dos cosas:\n",
    "\n",
    "¿Estás restando overscan? Si es así, debe restar el overscan para los marcos oscuros.\n",
    "\n",
    "¿Necesitará escalar estos oscuros a un tiempo de exposición diferente? Si es así, debe restar el sesgo de los oscuros. Si no, deja el sesgo.\n",
    "\n",
    "# 3.3.1.1. 1. ¿Necesita restar overscan? \n",
    "Si decide restar la sobreexploración de cualquiera de las imágenes utilizadas en la reducción de datos, debe sustraer la sobreexploración de todas las imágenes. Esto incluye los oscuros y es independiente de si tiene la intención o no de escalar los fotogramas oscuros a otros tiempos de exposición.\n",
    "\n",
    "Úselo ccdproc.subtract_overscanpara eliminar el overscan. Vea el cuaderno XX para una discusión sobre la sobreexploración, y vea YY para un ejemplo práctico en el que se resta la sobreexploración.\n",
    "\n",
    "# 3.3.1.2. 2. ¿Necesita escalar los oscuros? \n",
    "Depende de los tiempos de exposición de las otras imágenes que necesites reducir. Si las otras imágenes tienen tiempos de exposición que coinciden con sus marcos oscuros, entonces no necesita escalar los oscuros. Si alguna otra imagen (excepto los marcos de sesgo, que siempre tienen exposición cero) tiene un tiempo de exposición que no coincide con los tiempos de exposición de los oscuros, entonces deberá escalar los oscuros por tiempo de exposición.\n",
    "\n",
    "Si necesita escalar los marcos oscuros, debe restarles el sesgo usando ccdproc.subtract_bias. Los ejemplos de uso ccdproc.subtract_biasestán en el siguiente cuaderno.\n",
    "\n",
    "Si no necesita escalar los cuadros oscuros a un tiempo de exposición diferente, no reste el sesgo de los oscuros. Los marcos oscuros te servirán para eliminar tanto el sesgo como la oscuridad actual de tus imágenes.\n",
    "\n",
    "Como recordatorio, debe esforzarse mucho para evitar escalar los cuadros oscuros a un tiempo de exposición más largo porque principalmente aumentará el ruido en lugar de la corriente oscura."
   ]
  },
  {
   "cell_type": "markdown",
   "id": "bb07ab29-1ef3-4be7-a14b-5499ae508cce",
   "metadata": {},
   "source": [
    "# 3.4. Calibrar imágenes oscuras \n",
    "Las imágenes oscuras, como cualquier otra imagen, deben calibrarse. Según los datos que tenga y las opciones que haya tomado para reducir sus datos, los pasos para reducir sus imágenes pueden incluir:\n",
    "\n",
    "Restar overscan (solo si decide restar overscan de todas las imágenes).\n",
    "\n",
    "Recorte la imagen (si tiene overscan, ya sea que esté usando overscan o no).\n",
    "\n",
    "Reste el sesgo (si necesita escalar los marcos oscuros calibrados a un tiempo de exposición diferente)."
   ]
  },
  {
   "cell_type": "code",
   "execution_count": 1,
   "id": "68751f81-e1a6-4742-8169-40cb3e98e9d0",
   "metadata": {},
   "outputs": [],
   "source": [
    "from pathlib import Path\n",
    "\n",
    "from astropy.nddata import CCDData\n",
    "from ccdproc import ImageFileCollection\n",
    "import ccdproc as ccdp"
   ]
  },
  {
   "cell_type": "markdown",
   "id": "c0266a0a-c065-4bc9-bc9c-467ec0bb4176",
   "metadata": {},
   "source": [
    "# 3.4.1. Ejemplo 1: Overscan restado, sesgo no eliminado \n",
    "# 3.4.1.1. Fíjate qué imágenes tienes \n",
    "Primero recopilamos información sobre las imágenes en bruto y las imágenes reducidas hasta este punto. Estos ejemplos tienen oscuros almacenados en un subdirectorio de la carpeta con el resto de las imágenes, por lo que creamos un ImageFileCollectionpara cada uno."
   ]
  },
  {
   "cell_type": "code",
   "execution_count": 2,
   "id": "d8da75a2-3a5a-41ec-9ef6-ae1d26b17100",
   "metadata": {},
   "outputs": [],
   "source": [
    "ex1_path_raw = Path('example-cryo-LFC')\n",
    "\n",
    "ex1_images_raw = ImageFileCollection(ex1_path_raw)\n",
    "ex1_darks_raw = ImageFileCollection(ex1_path_raw / 'darks')\n",
    "\n",
    "ex1_path_reduced = Path('example1-reduced')\n",
    "ex1_images_reduced = ImageFileCollection(ex1_path_reduced)"
   ]
  },
  {
   "cell_type": "markdown",
   "id": "25b88c2f-d43f-4390-b54d-9ba498da40d7",
   "metadata": {},
   "source": [
    "# 3.4.1.1.1. Imágenes crudas, todo excepto los oscuros\n"
   ]
  },
  {
   "cell_type": "code",
   "execution_count": 3,
   "id": "e8c03fb7-987b-4c89-b0ed-b8c5b80d78a3",
   "metadata": {},
   "outputs": [
    {
     "data": {
      "text/html": [
       "<div><i>Table length=14</i>\n",
       "<table id=\"table2019195362560\" class=\"table-striped table-bordered table-condensed\">\n",
       "<thead><tr><th>file</th><th>imagetyp</th><th>exptime</th><th>filter</th></tr></thead>\n",
       "<thead><tr><th>str14</th><th>str9</th><th>float64</th><th>str2</th></tr></thead>\n",
       "<tr><td>ccd.001.0.fits</td><td>BIAS</td><td>0.0</td><td>i&apos;</td></tr>\n",
       "<tr><td>ccd.002.0.fits</td><td>BIAS</td><td>0.0</td><td>i&apos;</td></tr>\n",
       "<tr><td>ccd.003.0.fits</td><td>BIAS</td><td>0.0</td><td>i&apos;</td></tr>\n",
       "<tr><td>ccd.004.0.fits</td><td>BIAS</td><td>0.0</td><td>i&apos;</td></tr>\n",
       "<tr><td>ccd.005.0.fits</td><td>BIAS</td><td>0.0</td><td>i&apos;</td></tr>\n",
       "<tr><td>ccd.006.0.fits</td><td>BIAS</td><td>0.0</td><td>i&apos;</td></tr>\n",
       "<tr><td>ccd.014.0.fits</td><td>FLATFIELD</td><td>70.001</td><td>g&apos;</td></tr>\n",
       "<tr><td>ccd.015.0.fits</td><td>FLATFIELD</td><td>70.011</td><td>g&apos;</td></tr>\n",
       "<tr><td>ccd.016.0.fits</td><td>FLATFIELD</td><td>70.001</td><td>g&apos;</td></tr>\n",
       "<tr><td>ccd.017.0.fits</td><td>FLATFIELD</td><td>7.0</td><td>i&apos;</td></tr>\n",
       "<tr><td>ccd.018.0.fits</td><td>FLATFIELD</td><td>7.0</td><td>i&apos;</td></tr>\n",
       "<tr><td>ccd.019.0.fits</td><td>FLATFIELD</td><td>7.0</td><td>i&apos;</td></tr>\n",
       "<tr><td>ccd.037.0.fits</td><td>OBJECT</td><td>300.062</td><td>g&apos;</td></tr>\n",
       "<tr><td>ccd.043.0.fits</td><td>OBJECT</td><td>300.014</td><td>i&apos;</td></tr>\n",
       "</table></div>"
      ],
      "text/plain": [
       "<Table length=14>\n",
       "     file       imagetyp exptime filter\n",
       "    str14         str9   float64  str2 \n",
       "-------------- --------- ------- ------\n",
       "ccd.001.0.fits      BIAS     0.0     i'\n",
       "ccd.002.0.fits      BIAS     0.0     i'\n",
       "ccd.003.0.fits      BIAS     0.0     i'\n",
       "ccd.004.0.fits      BIAS     0.0     i'\n",
       "ccd.005.0.fits      BIAS     0.0     i'\n",
       "ccd.006.0.fits      BIAS     0.0     i'\n",
       "ccd.014.0.fits FLATFIELD  70.001     g'\n",
       "ccd.015.0.fits FLATFIELD  70.011     g'\n",
       "ccd.016.0.fits FLATFIELD  70.001     g'\n",
       "ccd.017.0.fits FLATFIELD     7.0     i'\n",
       "ccd.018.0.fits FLATFIELD     7.0     i'\n",
       "ccd.019.0.fits FLATFIELD     7.0     i'\n",
       "ccd.037.0.fits    OBJECT 300.062     g'\n",
       "ccd.043.0.fits    OBJECT 300.014     i'"
      ]
     },
     "execution_count": 3,
     "metadata": {},
     "output_type": "execute_result"
    }
   ],
   "source": [
    "ex1_images_raw.summary['file', 'imagetyp', 'exptime', 'filter']"
   ]
  },
  {
   "cell_type": "markdown",
   "id": "1203ce57-0cd7-4000-9fa3-ee4f47f7a144",
   "metadata": {},
   "source": [
    "# 3.4.1.1.2. Marcos oscuros crudos"
   ]
  },
  {
   "cell_type": "code",
   "execution_count": 4,
   "id": "92d4d8f3-5f7e-42b6-b704-34572b37db74",
   "metadata": {},
   "outputs": [
    {
     "data": {
      "text/html": [
       "<div><i>Table length=10</i>\n",
       "<table id=\"table2019133936592\" class=\"table-striped table-bordered table-condensed\">\n",
       "<thead><tr><th>file</th><th>imagetyp</th><th>exptime</th><th>filter</th></tr></thead>\n",
       "<thead><tr><th>str14</th><th>str4</th><th>float64</th><th>str2</th></tr></thead>\n",
       "<tr><td>ccd.002.0.fits</td><td>BIAS</td><td>0.0</td><td>r&apos;</td></tr>\n",
       "<tr><td>ccd.013.0.fits</td><td>DARK</td><td>300.0</td><td>r&apos;</td></tr>\n",
       "<tr><td>ccd.014.0.fits</td><td>DARK</td><td>300.0</td><td>r&apos;</td></tr>\n",
       "<tr><td>ccd.015.0.fits</td><td>DARK</td><td>300.0</td><td>r&apos;</td></tr>\n",
       "<tr><td>ccd.017.0.fits</td><td>DARK</td><td>70.0</td><td>r&apos;</td></tr>\n",
       "<tr><td>ccd.018.0.fits</td><td>DARK</td><td>70.0</td><td>r&apos;</td></tr>\n",
       "<tr><td>ccd.019.0.fits</td><td>DARK</td><td>70.0</td><td>r&apos;</td></tr>\n",
       "<tr><td>ccd.023.0.fits</td><td>DARK</td><td>7.0</td><td>r&apos;</td></tr>\n",
       "<tr><td>ccd.024.0.fits</td><td>DARK</td><td>7.0</td><td>r&apos;</td></tr>\n",
       "<tr><td>ccd.025.0.fits</td><td>DARK</td><td>7.0</td><td>r&apos;</td></tr>\n",
       "</table></div>"
      ],
      "text/plain": [
       "<Table length=10>\n",
       "     file      imagetyp exptime filter\n",
       "    str14        str4   float64  str2 \n",
       "-------------- -------- ------- ------\n",
       "ccd.002.0.fits     BIAS     0.0     r'\n",
       "ccd.013.0.fits     DARK   300.0     r'\n",
       "ccd.014.0.fits     DARK   300.0     r'\n",
       "ccd.015.0.fits     DARK   300.0     r'\n",
       "ccd.017.0.fits     DARK    70.0     r'\n",
       "ccd.018.0.fits     DARK    70.0     r'\n",
       "ccd.019.0.fits     DARK    70.0     r'\n",
       "ccd.023.0.fits     DARK     7.0     r'\n",
       "ccd.024.0.fits     DARK     7.0     r'\n",
       "ccd.025.0.fits     DARK     7.0     r'"
      ]
     },
     "execution_count": 4,
     "metadata": {},
     "output_type": "execute_result"
    }
   ],
   "source": [
    "ex1_darks_raw.summary['file', 'imagetyp', 'exptime', 'filter']"
   ]
  },
  {
   "cell_type": "markdown",
   "id": "575e5af0-bf5f-477b-8406-93b87e297f91",
   "metadata": {},
   "source": [
    "# 3.4.1.2. Decidir qué pasos de calibración tomar \n",
    "Este ejemplo es, de nuevo, uno de los chips de la cámara LFC de Palomar. En portátiles anteriores, hemos visto que el chip tiene una región de sobreexploración útil , tiene poca corriente oscura excepto por algunos píxeles calientes y el sensor brilla en una esquina del chip.\n",
    "\n",
    "Mirando la lista de imágenes no oscuras (es decir, las imágenes planas y claras) se muestra que para cada tiempo de exposición en las imágenes no oscuras hay un conjunto de exposiciones oscuras que tienen un tiempo de exposición coincidente o muy similar. .\n",
    "\n",
    "Para ser más explícitos, hay flats con tiempos de exposición de 7,0 seg y 70,011 seg y darks con tiempo de exposición de 7,0 y 70,0 seg. Los tiempos de exposición oscuros y planos son lo suficientemente cercanos como para que no haya necesidad de escalarlos. Las dos imágenes de un objeto son cada una de aproximadamente 300 segundos, haciendo coincidir los oscuros con un tiempo de exposición de 300 segundos. La muy pequeña diferencia en el tiempo de exposición, inferior a 0,1 segundos, no necesita ser compensada.\n",
    "\n",
    "Ante esto, vamos a:\n",
    "\n",
    "Reste overscan de cada uno de los oscuros. La región de overscan útil es XXX (ver ENLACE).\n",
    "\n",
    "Recorte el overscan de las imágenes oscuras.\n",
    "\n",
    "No restaremos el sesgo de estas imágenes porque no necesitaremos volver a escalarlas a un tiempo de exposición diferente.\n",
    "\n",
    "# 3.4.1.3. Calibrar los cuadros oscuros individuales "
   ]
  },
  {
   "cell_type": "code",
   "execution_count": 5,
   "id": "f16da999-befd-4523-8530-a5315075c73e",
   "metadata": {},
   "outputs": [
    {
     "name": "stderr",
     "output_type": "stream",
     "text": [
      "WARNING: FITSFixedWarning: 'datfix' made the change 'Set MJD-OBS to 57460.000000 from DATE-OBS'. [astropy.wcs.wcs]\n",
      "WARNING:astropy:FITSFixedWarning: 'datfix' made the change 'Set MJD-OBS to 57460.000000 from DATE-OBS'.\n",
      "WARNING: FITSFixedWarning: 'datfix' made the change 'Set MJD-OBS to 57461.000000 from DATE-OBS'. [astropy.wcs.wcs]\n",
      "WARNING:astropy:FITSFixedWarning: 'datfix' made the change 'Set MJD-OBS to 57461.000000 from DATE-OBS'.\n"
     ]
    }
   ],
   "source": [
    "for ccd, file_name in ex1_darks_raw.ccds(imagetyp='DARK',            # Just get the dark frames\n",
    "                                         ccd_kwargs={'unit': 'adu'}, # CCDData requires a unit for the image if \n",
    "                                                                     # it is not in the header\n",
    "                                         return_fname=True           # Provide the file name too.\n",
    "                                        ):    \n",
    "    # Subtract the overscan\n",
    "    ccd = ccdp.subtract_overscan(ccd, overscan=ccd[:, 2055:], median=True)\n",
    "    \n",
    "    # Trim the overscan\n",
    "    ccd = ccdp.trim_image(ccd[:, :2048])\n",
    "    \n",
    "    # Save the result\n",
    "    ccd.write(ex1_path_reduced / file_name)"
   ]
  },
  {
   "cell_type": "markdown",
   "id": "ffe41db8-8744-4c81-92f6-75b02c69871b",
   "metadata": {},
   "source": [
    "# 3.4.1.3.1. Imágenes reducidas (hasta ahora)"
   ]
  },
  {
   "cell_type": "code",
   "execution_count": 6,
   "id": "b6b1eee2-5bbd-4040-b7e1-4b10e87e6eda",
   "metadata": {},
   "outputs": [
    {
     "data": {
      "text/html": [
       "<div><i>Table length=16</i>\n",
       "<table id=\"table2019133849456\" class=\"table-striped table-bordered table-condensed\">\n",
       "<thead><tr><th>file</th><th>imagetyp</th><th>exptime</th><th>filter</th><th>combined</th></tr></thead>\n",
       "<thead><tr><th>str17</th><th>str4</th><th>float64</th><th>str2</th><th>object</th></tr></thead>\n",
       "<tr><td>ccd.001.0.fits</td><td>BIAS</td><td>0.0</td><td>i&apos;</td><td>--</td></tr>\n",
       "<tr><td>ccd.002.0.fits</td><td>BIAS</td><td>0.0</td><td>i&apos;</td><td>--</td></tr>\n",
       "<tr><td>ccd.003.0.fits</td><td>BIAS</td><td>0.0</td><td>i&apos;</td><td>--</td></tr>\n",
       "<tr><td>ccd.004.0.fits</td><td>BIAS</td><td>0.0</td><td>i&apos;</td><td>--</td></tr>\n",
       "<tr><td>ccd.005.0.fits</td><td>BIAS</td><td>0.0</td><td>i&apos;</td><td>--</td></tr>\n",
       "<tr><td>ccd.006.0.fits</td><td>BIAS</td><td>0.0</td><td>i&apos;</td><td>--</td></tr>\n",
       "<tr><td>ccd.013.0.fits</td><td>DARK</td><td>300.0</td><td>r&apos;</td><td>--</td></tr>\n",
       "<tr><td>ccd.014.0.fits</td><td>DARK</td><td>300.0</td><td>r&apos;</td><td>--</td></tr>\n",
       "<tr><td>ccd.015.0.fits</td><td>DARK</td><td>300.0</td><td>r&apos;</td><td>--</td></tr>\n",
       "<tr><td>ccd.017.0.fits</td><td>DARK</td><td>70.0</td><td>r&apos;</td><td>--</td></tr>\n",
       "<tr><td>ccd.018.0.fits</td><td>DARK</td><td>70.0</td><td>r&apos;</td><td>--</td></tr>\n",
       "<tr><td>ccd.019.0.fits</td><td>DARK</td><td>70.0</td><td>r&apos;</td><td>--</td></tr>\n",
       "<tr><td>ccd.023.0.fits</td><td>DARK</td><td>7.0</td><td>r&apos;</td><td>--</td></tr>\n",
       "<tr><td>ccd.024.0.fits</td><td>DARK</td><td>7.0</td><td>r&apos;</td><td>--</td></tr>\n",
       "<tr><td>ccd.025.0.fits</td><td>DARK</td><td>7.0</td><td>r&apos;</td><td>--</td></tr>\n",
       "<tr><td>combined_bias.fit</td><td>BIAS</td><td>0.0</td><td>i&apos;</td><td>True</td></tr>\n",
       "</table></div>"
      ],
      "text/plain": [
       "<Table length=16>\n",
       "       file       imagetyp exptime filter combined\n",
       "      str17         str4   float64  str2   object \n",
       "----------------- -------- ------- ------ --------\n",
       "   ccd.001.0.fits     BIAS     0.0     i'       --\n",
       "   ccd.002.0.fits     BIAS     0.0     i'       --\n",
       "   ccd.003.0.fits     BIAS     0.0     i'       --\n",
       "   ccd.004.0.fits     BIAS     0.0     i'       --\n",
       "   ccd.005.0.fits     BIAS     0.0     i'       --\n",
       "   ccd.006.0.fits     BIAS     0.0     i'       --\n",
       "   ccd.013.0.fits     DARK   300.0     r'       --\n",
       "   ccd.014.0.fits     DARK   300.0     r'       --\n",
       "   ccd.015.0.fits     DARK   300.0     r'       --\n",
       "   ccd.017.0.fits     DARK    70.0     r'       --\n",
       "   ccd.018.0.fits     DARK    70.0     r'       --\n",
       "   ccd.019.0.fits     DARK    70.0     r'       --\n",
       "   ccd.023.0.fits     DARK     7.0     r'       --\n",
       "   ccd.024.0.fits     DARK     7.0     r'       --\n",
       "   ccd.025.0.fits     DARK     7.0     r'       --\n",
       "combined_bias.fit     BIAS     0.0     i'     True"
      ]
     },
     "execution_count": 6,
     "metadata": {},
     "output_type": "execute_result"
    }
   ],
   "source": [
    "ex1_images_reduced.refresh()\n",
    "ex1_images_reduced.summary['file', 'imagetyp', 'exptime', 'filter', 'combined']"
   ]
  },
  {
   "cell_type": "markdown",
   "id": "f41f620b-7f6a-465f-94a7-13e44a15b791",
   "metadata": {},
   "source": [
    "# 3.4.2. Ejemplo 2: Overscan no se resta, se elimina el sesgo"
   ]
  },
  {
   "cell_type": "code",
   "execution_count": 7,
   "id": "756a0deb-559f-4706-96c5-5f8b31354d23",
   "metadata": {},
   "outputs": [],
   "source": [
    "ex2_path_raw = Path('example-thermo-electric')\n",
    "\n",
    "ex2_images_raw = ImageFileCollection(ex2_path_raw)\n",
    "\n",
    "ex2_path_reduced = Path('example2-reduced')\n",
    "ex2_images_reduced = ImageFileCollection(ex2_path_reduced)"
   ]
  },
  {
   "cell_type": "code",
   "execution_count": 8,
   "id": "526ec858-bb6c-4e2d-907e-5f6297825053",
   "metadata": {},
   "outputs": [
    {
     "data": {
      "text/html": [
       "<i>Table length=32</i>\n",
       "<table id=\"table2019196168224-639894\" class=\"table-striped table-bordered table-condensed\">\n",
       "<thead><tr><th>idx</th><th>file</th><th>imagetyp</th><th>exposure</th></tr></thead>\n",
       "<tr><td>0</td><td>AutoFlat-PANoRot-r-Bin1-001.fit</td><td>FLAT</td><td>1.0</td></tr>\n",
       "<tr><td>1</td><td>AutoFlat-PANoRot-r-Bin1-002.fit</td><td>FLAT</td><td>1.0</td></tr>\n",
       "<tr><td>2</td><td>AutoFlat-PANoRot-r-Bin1-003.fit</td><td>FLAT</td><td>1.0</td></tr>\n",
       "<tr><td>3</td><td>AutoFlat-PANoRot-r-Bin1-004.fit</td><td>FLAT</td><td>1.0</td></tr>\n",
       "<tr><td>4</td><td>AutoFlat-PANoRot-r-Bin1-005.fit</td><td>FLAT</td><td>1.0</td></tr>\n",
       "<tr><td>5</td><td>AutoFlat-PANoRot-r-Bin1-006.fit</td><td>FLAT</td><td>1.02</td></tr>\n",
       "<tr><td>6</td><td>AutoFlat-PANoRot-r-Bin1-007.fit</td><td>FLAT</td><td>1.06</td></tr>\n",
       "<tr><td>7</td><td>AutoFlat-PANoRot-r-Bin1-008.fit</td><td>FLAT</td><td>1.11</td></tr>\n",
       "<tr><td>8</td><td>AutoFlat-PANoRot-r-Bin1-009.fit</td><td>FLAT</td><td>1.16</td></tr>\n",
       "<tr><td>9</td><td>AutoFlat-PANoRot-r-Bin1-010.fit</td><td>FLAT</td><td>1.21</td></tr>\n",
       "<tr><td>10</td><td>Bias-S001-R001-C001-NoFilt.fit</td><td>BIAS</td><td>0.0</td></tr>\n",
       "<tr><td>11</td><td>Bias-S001-R001-C002-NoFilt.fit</td><td>BIAS</td><td>0.0</td></tr>\n",
       "<tr><td>12</td><td>Bias-S001-R001-C003-NoFilt.fit</td><td>BIAS</td><td>0.0</td></tr>\n",
       "<tr><td>13</td><td>Bias-S001-R001-C004-NoFilt.fit</td><td>BIAS</td><td>0.0</td></tr>\n",
       "<tr><td>14</td><td>Bias-S001-R001-C005-NoFilt.fit</td><td>BIAS</td><td>0.0</td></tr>\n",
       "<tr><td>15</td><td>Bias-S001-R001-C006-NoFilt.fit</td><td>BIAS</td><td>0.0</td></tr>\n",
       "<tr><td>16</td><td>Bias-S001-R001-C007-NoFilt.fit</td><td>BIAS</td><td>0.0</td></tr>\n",
       "<tr><td>17</td><td>Bias-S001-R001-C008-NoFilt.fit</td><td>BIAS</td><td>0.0</td></tr>\n",
       "<tr><td>18</td><td>Bias-S001-R001-C009-NoFilt.fit</td><td>BIAS</td><td>0.0</td></tr>\n",
       "<tr><td>19</td><td>Bias-S001-R001-C020-NoFilt.fit</td><td>BIAS</td><td>0.0</td></tr>\n",
       "<tr><td>20</td><td>Dark-S001-R001-C001-NoFilt.fit</td><td>DARK</td><td>90.0</td></tr>\n",
       "<tr><td>21</td><td>Dark-S001-R001-C002-NoFilt.fit</td><td>DARK</td><td>90.0</td></tr>\n",
       "<tr><td>22</td><td>Dark-S001-R001-C003-NoFilt.fit</td><td>DARK</td><td>90.0</td></tr>\n",
       "<tr><td>23</td><td>Dark-S001-R001-C004-NoFilt.fit</td><td>DARK</td><td>90.0</td></tr>\n",
       "<tr><td>24</td><td>Dark-S001-R001-C005-NoFilt.fit</td><td>DARK</td><td>90.0</td></tr>\n",
       "<tr><td>25</td><td>Dark-S001-R001-C006-NoFilt.fit</td><td>DARK</td><td>90.0</td></tr>\n",
       "<tr><td>26</td><td>Dark-S001-R001-C007-NoFilt.fit</td><td>DARK</td><td>90.0</td></tr>\n",
       "<tr><td>27</td><td>Dark-S001-R001-C008-NoFilt.fit</td><td>DARK</td><td>90.0</td></tr>\n",
       "<tr><td>28</td><td>Dark-S001-R001-C009-NoFilt.fit</td><td>DARK</td><td>90.0</td></tr>\n",
       "<tr><td>29</td><td>Dark-S001-R001-C020-NoFilt.fit</td><td>DARK</td><td>90.0</td></tr>\n",
       "<tr><td>30</td><td>kelt-16-b-S001-R001-C084-r.fit</td><td>LIGHT</td><td>90.0</td></tr>\n",
       "<tr><td>31</td><td>kelt-16-b-S001-R001-C125-r.fit</td><td>LIGHT</td><td>90.0</td></tr>\n",
       "</table><style>table.dataTable {clear: both; width: auto !important; margin: 0 !important;}\n",
       ".dataTables_info, .dataTables_length, .dataTables_filter, .dataTables_paginate{\n",
       "display: inline-block; margin-right: 1em; }\n",
       ".paginate_button { margin-right: 5px; }\n",
       "</style>\n",
       "<script>\n",
       "\n",
       "var astropy_sort_num = function(a, b) {\n",
       "    var a_num = parseFloat(a);\n",
       "    var b_num = parseFloat(b);\n",
       "\n",
       "    if (isNaN(a_num) && isNaN(b_num))\n",
       "        return ((a < b) ? -1 : ((a > b) ? 1 : 0));\n",
       "    else if (!isNaN(a_num) && !isNaN(b_num))\n",
       "        return ((a_num < b_num) ? -1 : ((a_num > b_num) ? 1 : 0));\n",
       "    else\n",
       "        return isNaN(a_num) ? -1 : 1;\n",
       "}\n",
       "\n",
       "require.config({paths: {\n",
       "    datatables: 'https://cdn.datatables.net/1.10.12/js/jquery.dataTables.min'\n",
       "}});\n",
       "require([\"datatables\"], function(){\n",
       "    console.log(\"$('#table2019196168224-639894').dataTable()\");\n",
       "    \n",
       "jQuery.extend( jQuery.fn.dataTableExt.oSort, {\n",
       "    \"optionalnum-asc\": astropy_sort_num,\n",
       "    \"optionalnum-desc\": function (a,b) { return -astropy_sort_num(a, b); }\n",
       "});\n",
       "\n",
       "    $('#table2019196168224-639894').dataTable({\n",
       "        order: [],\n",
       "        pageLength: 50,\n",
       "        lengthMenu: [[10, 25, 50, 100, 500, 1000, -1], [10, 25, 50, 100, 500, 1000, 'All']],\n",
       "        pagingType: \"full_numbers\",\n",
       "        columnDefs: [{targets: [0, 3], type: \"optionalnum\"}]\n",
       "    });\n",
       "});\n",
       "</script>\n"
      ],
      "text/plain": [
       "<IPython.core.display.HTML object>"
      ]
     },
     "execution_count": 8,
     "metadata": {},
     "output_type": "execute_result"
    }
   ],
   "source": [
    "ex2_images_raw.summary['file', 'imagetyp', 'exposure'].show_in_notebook()"
   ]
  },
  {
   "cell_type": "markdown",
   "id": "e55eeec9-2b31-4517-8e71-0a221700c8f8",
   "metadata": {},
   "source": [
    "# 3.4.2.1. Decida qué pasos tomar a continuación \n",
    "En este caso los únicos fotogramas oscuros tienen un tiempo de exposición de 90 seg. Aunque eso coincide con el tiempo de exposición de las imágenes científicas, las imágenes de campo plano tienen un tiempo de exposición mucho más corto, que va de 1 segundo a 1,21 segundos. Este tipo de rango de exposición es típico cuando se toman planos crepusculares. Dado que estos son tiempos de exposición muy diferentes a los oscuros, será necesario escalar los marcos oscuros.\n",
    "\n",
    "Recuerde que para esta cámara, el overscan no es útil y debe recortarse.\n",
    "\n",
    "Ante esto, vamos a:\n",
    "\n",
    "Recorte el overscan de cada uno de los marcos oscuros.\n",
    "\n",
    "Reste el sesgo de calibración de los cuadros oscuros para que podamos escalar los oscuros a un tiempo de exposición diferente.\n",
    "\n",
    "# 3.4.2.2. Calibración de los cuadros oscuros individuales \n",
    "Primero, leemos la imagen de polarización combinada creada en el cuaderno anterior. Aunque podríamos hacer esto en función del nombre del archivo, es menos probable que se produzcan errores utilizando un conjunto sistemático de palabras clave de encabezado para realizar un seguimiento de las imágenes que se han combinado."
   ]
  },
  {
   "cell_type": "code",
   "execution_count": 9,
   "id": "7d381861-07ba-42f7-9bd4-6dfc51e2513c",
   "metadata": {},
   "outputs": [],
   "source": [
    "combined_bias = CCDData.read(ex2_images_reduced.files_filtered(imagetyp='bias', \n",
    "                                                               combined=True, \n",
    "                                                               include_path=True)[0])"
   ]
  },
  {
   "cell_type": "code",
   "execution_count": 10,
   "id": "80cc1dc4-cd3f-4d15-9929-031307e55404",
   "metadata": {},
   "outputs": [],
   "source": [
    "for ccd, file_name in ex2_images_raw.ccds(imagetyp='DARK',            # Just get the bias frames\n",
    "                                          return_fname=True           # Provide the file name too.\n",
    "                                         ):\n",
    "        \n",
    "    # Trim the overscan\n",
    "    ccd = ccdp.trim_image(ccd[:, :4096])\n",
    "    \n",
    "    # Subtract bias\n",
    "    ccd = ccdp.subtract_bias(ccd, combined_bias)\n",
    "    # Save the result\n",
    "    ccd.write(ex2_path_reduced / file_name)"
   ]
  },
  {
   "cell_type": "code",
   "execution_count": null,
   "id": "5157ed96-d472-4b6e-bbe3-eaaaa0930295",
   "metadata": {},
   "outputs": [],
   "source": []
  }
 ],
 "metadata": {
  "kernelspec": {
   "display_name": "Python 3 (ipykernel)",
   "language": "python",
   "name": "python3"
  },
  "language_info": {
   "codemirror_mode": {
    "name": "ipython",
    "version": 3
   },
   "file_extension": ".py",
   "mimetype": "text/x-python",
   "name": "python",
   "nbconvert_exporter": "python",
   "pygments_lexer": "ipython3",
   "version": "3.9.7"
  }
 },
 "nbformat": 4,
 "nbformat_minor": 5
}
