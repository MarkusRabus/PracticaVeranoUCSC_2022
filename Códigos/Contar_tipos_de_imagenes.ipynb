{
 "cells": [
  {
   "cell_type": "code",
   "execution_count": 1,
   "id": "9922c249-3f27-4f3e-b34b-203c40dad290",
   "metadata": {},
   "outputs": [
    {
     "name": "stdout",
     "output_type": "stream",
     "text": [
      "Imágenes tipo SKYFLAT:  30\n",
      "Imágenes tipo BIAS:  17\n",
      "Imágenes tipo DARK:  5\n",
      "Imágenes tipo EXPOSE:  3\n",
      "Total de imágenes:  55\n"
     ]
    }
   ],
   "source": [
    "#Jean Saavedra\n",
    "import os\n",
    "from astropy.io import fits\n",
    "datapath = \"C:/Users/Jean/Documents/Python/Práctica/M55_LCO/\"\n",
    "countBIAS = 0\n",
    "countSKYFLAT = 0\n",
    "countDARK = 0\n",
    "countEXPOSE = 0\n",
    "with os.scandir(datapath) as ficheros:\n",
    "    for fichero in ficheros:\n",
    "        tipo = fits.open(os.path.join(datapath, fichero))\n",
    "        # print(fichero.name)\n",
    "        # print(tipo[1].header[\"OBSTYPE\"])\n",
    "        if tipo[1].header[\"OBSTYPE\"] == \"SKYFLAT\":\n",
    "            countSKYFLAT+=1\n",
    "        elif tipo[1].header[\"OBSTYPE\"] == \"BIAS\":\n",
    "            countBIAS+=1\n",
    "        elif tipo[1].header[\"OBSTYPE\"] == \"DARK\":\n",
    "            countDARK+=1\n",
    "        elif tipo[1].header[\"OBSTYPE\"] == \"EXPOSE\":\n",
    "            countEXPOSE+=1\n",
    "print(\"Imágenes tipo SKYFLAT: \",countSKYFLAT)\n",
    "print(\"Imágenes tipo BIAS: \",countBIAS)\n",
    "print(\"Imágenes tipo DARK: \",countDARK)\n",
    "print(\"Imágenes tipo EXPOSE: \",countEXPOSE)\n",
    "suma_Total = countSKYFLAT+countBIAS+countDARK+countEXPOSE\n",
    "print(\"Total de imágenes: \",suma_Total)"
   ]
  },
  {
   "cell_type": "code",
   "execution_count": null,
   "id": "6347d813-06bb-4359-9e9b-ab9ac8dddce0",
   "metadata": {},
   "outputs": [],
   "source": []
  }
 ],
 "metadata": {
  "kernelspec": {
   "display_name": "Python 3 (ipykernel)",
   "language": "python",
   "name": "python3"
  },
  "language_info": {
   "codemirror_mode": {
    "name": "ipython",
    "version": 3
   },
   "file_extension": ".py",
   "mimetype": "text/x-python",
   "name": "python",
   "nbconvert_exporter": "python",
   "pygments_lexer": "ipython3",
   "version": "3.9.5"
  }
 },
 "nbformat": 4,
 "nbformat_minor": 5
}
