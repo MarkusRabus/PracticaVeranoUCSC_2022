{
 "cells": [
  {
   "cell_type": "markdown",
   "id": "bcb2642e-27f5-44ae-8689-92e329619c5d",
   "metadata": {},
   "source": [
    "## Regresion lineal\n",
    "\n",
    "Hipotesis:\n",
    "\n",
    "$h_\\theta(x)=\\theta_0+\\theta_1x$\n",
    "\n",
    "Parametros: \n",
    "\n",
    "$\\theta_0, \\theta_1$\n",
    "\n",
    "Funcion de costo:\n",
    "\n",
    "$J(\\theta_0, \\theta_1)=\\frac{1}{2m}\\sum_{i=1}^m(h_\\theta(x^{(i)})-y^{(i)})^2$\n",
    "\n",
    "Meta:\n",
    "\n",
    "Minimizar $J(\\theta_0, \\theta_1)$"
   ]
  },
  {
   "cell_type": "code",
   "execution_count": 4,
   "id": "66f07621-6d7f-4bd6-ac26-bfa309ad9dce",
   "metadata": {},
   "outputs": [],
   "source": [
    "import numpy as np\n",
    "import matplotlib.pylab as plt"
   ]
  },
  {
   "cell_type": "code",
   "execution_count": 9,
   "id": "d249500d-22d0-4df9-81c2-cecca7aa087c",
   "metadata": {},
   "outputs": [],
   "source": [
    "from matplotlib import rcParams\n",
    "rcParams[\"figure.figsize\"] = (15, 8)\n",
    "rcParams[\"font.size\"] = 14\n",
    "\n",
    "CB_color = ['#377eb8', '#ff7f00', '#4daf4a',\n",
    "                  '#f781bf', '#a65628', '#984ea3',\n",
    "                  '#999999', '#e41a1c', '#dede00']"
   ]
  }
 ],
 "metadata": {
  "kernelspec": {
   "display_name": "Python [conda env:py3]",
   "language": "python",
   "name": "conda-env-py3-py"
  },
  "language_info": {
   "codemirror_mode": {
    "name": "ipython",
    "version": 3
   },
   "file_extension": ".py",
   "mimetype": "text/x-python",
   "name": "python",
   "nbconvert_exporter": "python",
   "pygments_lexer": "ipython3",
   "version": "3.8.11"
  }
 },
 "nbformat": 4,
 "nbformat_minor": 5
}
