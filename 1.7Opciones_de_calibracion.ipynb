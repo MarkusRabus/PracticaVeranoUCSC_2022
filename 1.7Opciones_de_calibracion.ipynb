{
 "cells": [
  {
   "cell_type": "markdown",
   "id": "c2959ffa-3bf0-40a9-b224-79372c327a57",
   "metadata": {},
   "source": [
    "<h1>1.7. Opciones de calibración que necesita hacer "
   ]
  },
  {
   "cell_type": "markdown",
   "id": "4d6a1aa2-1241-42f4-ae71-1a9e1a6583f2",
   "metadata": {},
   "source": [
    "Hay algunas elecciones que debe hacer sobre cómo calibrará sus datos. A veces, la decisión se tomará por usted según los datos que tenga."
   ]
  },
  {
   "cell_type": "markdown",
   "id": "fd8615b1-58bd-4662-9116-a58984c6c1a7",
   "metadata": {},
   "source": [
    "<h1>\n",
    "    1.7.1. ¿Restar el sesgo y la oscuridad como pasos separados o en un solo paso? "
   ]
  },
  {
   "cell_type": "markdown",
   "id": "076f99d2-6567-4fa0-b783-5d15c3fa413d",
   "metadata": {},
   "source": [
    "Cada imagen oscura contiene sesgo cuando sale de la cámara, por lo que, en principio, puede ocuparse tanto del sesgo como de la oscuridad construyendo una imagen maestra oscura que deje el sesgo ya presente en las imágenes oscuras en su lugar.\n",
    "\n",
    "Esto solo funciona si para cada imagen de la que necesita eliminar la corriente oscura tiene una oscuridad maestra de exactamente la misma duración de exposición.\n",
    "\n",
    "De lo contrario, debe producir imágenes maestras oscuras sin el sesgo para que puedan escalarse según el tiempo de exposición."
   ]
  },
  {
   "cell_type": "markdown",
   "id": "14a3ecc1-c4cf-41bf-8787-691c1cc337a8",
   "metadata": {},
   "source": [
    "<h1>1.7.2. Restar overscan o no?"
   ]
  },
  {
   "cell_type": "markdown",
   "id": "46a177bf-173d-4400-821c-59062560bff8",
   "metadata": {},
   "source": [
    "Esto solo es aplicable si sus imágenes tienen una región de sobreexploración. Restar el overscan puede ser útil para eliminar pequeñas variaciones (normalmente unos pocos recuentos) de una imagen a otra en el transcurso de una noche."
   ]
  },
  {
   "cell_type": "markdown",
   "id": "9305ea06-93ec-490e-bc4c-cadd0a89118b",
   "metadata": {},
   "source": []
  }
 ],
 "metadata": {
  "kernelspec": {
   "display_name": "Python 3 (ipykernel)",
   "language": "python",
   "name": "python3"
  },
  "language_info": {
   "codemirror_mode": {
    "name": "ipython",
    "version": 3
   },
   "file_extension": ".py",
   "mimetype": "text/x-python",
   "name": "python",
   "nbconvert_exporter": "python",
   "pygments_lexer": "ipython3",
   "version": "3.9.7"
  }
 },
 "nbformat": 4,
 "nbformat_minor": 5
}
