{
 "cells": [
  {
   "cell_type": "markdown",
   "id": "e884650c-c95b-47b9-b51c-3aaccb83346c",
   "metadata": {},
   "source": [
    "# Introduccion\n",
    "\n",
    "hay distintas aperturas en las que se puede utilizar aperture_photometry() en photometria las cuales son:\n",
    "\n",
    "- CircularAperture\n",
    "- CircularAnnulus\n",
    "- ElipticalAperture\n",
    "- ElipticalAnnulus\n",
    "- RectangularAperture\n",
    "- RectangularAnnulus\n",
    "\n",
    "Las cuales dependen de sus respectivas cordenadas Sky"
   ]
  },
  {
   "cell_type": "markdown",
   "id": "3089b976-2aba-448a-8a1d-70c110eb949e",
   "metadata": {},
   "source": [
    "## crear objetos de apertura"
   ]
  },
  {
   "cell_type": "code",
   "execution_count": 1,
   "id": "6f0500c7-faa8-43a4-b4d4-df7e237f4be0",
   "metadata": {},
   "outputs": [],
   "source": [
    "from photutils.aperture import CircularAperture\n",
    "positions = [(30., 30.), (40., 40.)]\n",
    "aperture = CircularAperture(positions, r=3.)"
   ]
  },
  {
   "cell_type": "markdown",
   "id": "924ba04f-5d29-443f-9cc1-0b5e2227b504",
   "metadata": {},
   "source": [
    "Primero se usa la funcion SkyCoord para definir las cordenadas en el cielo, y luego la funcion SkyCircularAperture para definir el objeto"
   ]
  },
  {
   "cell_type": "code",
   "execution_count": 2,
   "id": "aec8b861-2311-45bd-9120-8f21af5510a0",
   "metadata": {},
   "outputs": [],
   "source": [
    "from astropy import units as u\n",
    "from astropy.coordinates import SkyCoord\n",
    "from photutils.aperture import SkyCircularAperture\n",
    "positions = SkyCoord(l=[1.2, 2.3] * u.deg, b=[0.1, 0.2] * u.deg,\n",
    "                     frame='galactic')\n",
    "aperture = SkyCircularAperture(positions, r=4. * u.arcsec)"
   ]
  },
  {
   "cell_type": "markdown",
   "id": "7d85db60-6bdb-42cf-b3de-92983a264724",
   "metadata": {},
   "source": [
    "## convertir entre apretura y cielo"
   ]
  },
  {
   "cell_type": "code",
   "execution_count": 4,
   "id": "db3ead31-f3a8-4863-8cfa-ef7b01bbb515",
   "metadata": {},
   "outputs": [],
   "source": [
    "#WCS para mapear el pixel a la coordenada en la esfera celeste.\n",
    "from astropy.wcs import WCS"
   ]
  },
  {
   "cell_type": "code",
   "execution_count": 9,
   "id": "f61c0619-62b1-41e3-bb56-23c6360f0326",
   "metadata": {},
   "outputs": [],
   "source": [
    "import astropy.units as u\n",
    "from astropy.wcs import WCS\n",
    "from photutils.datasets import load_spitzer_image, load_spitzer_catalog\n",
    "hdu = load_spitzer_image()  \n",
    "data = u.Quantity(hdu.data, unit=hdu.header['BUNIT'])  \n",
    "wcs = WCS(hdu.header)  \n",
    "catalog = load_spitzer_catalog()  "
   ]
  },
  {
   "cell_type": "markdown",
   "id": "917b0298-43bd-495a-9a73-d30188ec782e",
   "metadata": {},
   "source": [
    "pasar a cordenadas de cielo"
   ]
  },
  {
   "cell_type": "code",
   "execution_count": 16,
   "id": "3cd99c20-fe00-4014-9475-c464e138669c",
   "metadata": {},
   "outputs": [
    {
     "data": {
      "text/plain": [
       "<SkyCircularAperture(<SkyCoord (Galactic): (l, b) in deg\n",
       "    (18.3835, 0.1365)>, r=4.799999952000944 arcsec)>"
      ]
     },
     "execution_count": 16,
     "metadata": {},
     "output_type": "execute_result"
    }
   ],
   "source": [
    "aperture = CircularAperture((10, 20), r=4.)\n",
    "sky_aperture = aperture.to_sky(wcs)\n",
    "sky_aperture"
   ]
  },
  {
   "cell_type": "markdown",
   "id": "653b06b0-a0db-48fa-b564-790753ce015c",
   "metadata": {},
   "source": [
    "\n",
    "Pasar a cordenadas de pixeles"
   ]
  },
  {
   "cell_type": "code",
   "execution_count": 12,
   "id": "da86a3b7-da21-4108-9e7e-9bdae8e7640e",
   "metadata": {},
   "outputs": [],
   "source": [
    "position = SkyCoord(1.2, 0.1, unit='deg', frame='icrs')\n",
    "aperture = SkyCircularAperture(position, r=4. * u.arcsec)\n",
    "pix_aperture = aperture.to_pixel(wcs)"
   ]
  },
  {
   "cell_type": "code",
   "execution_count": 13,
   "id": "703eecf3-c2cb-4220-8624-7dffe7644350",
   "metadata": {},
   "outputs": [
    {
     "data": {
      "text/plain": [
       "<CircularAperture([-240812.72259705, -182054.11204346], r=3.9722238220030643)>"
      ]
     },
     "execution_count": 13,
     "metadata": {},
     "output_type": "execute_result"
    }
   ],
   "source": [
    "pix_aperture"
   ]
  },
  {
   "cell_type": "markdown",
   "id": "7681c4a8-3dee-495c-a959-3ce52ff045be",
   "metadata": {},
   "source": [
    "## Realizar la Photometria de apertura"
   ]
  },
  {
   "cell_type": "code",
   "execution_count": 17,
   "id": "542e0455-3bfd-4116-b62d-06e4ee97663c",
   "metadata": {},
   "outputs": [],
   "source": [
    "positions = [(30., 30.), (40., 40.)]\n",
    "aperture = CircularAperture(positions, r=3.)"
   ]
  },
  {
   "cell_type": "code",
   "execution_count": 18,
   "id": "6dd0768c-5c79-47d0-bcdc-dfedcaee4495",
   "metadata": {},
   "outputs": [
    {
     "name": "stdout",
     "output_type": "stream",
     "text": [
      " id xcenter ycenter aperture_sum\n",
      "      pix     pix               \n",
      "--- ------- ------- ------------\n",
      "  1    30.0    30.0    28.274334\n",
      "  2    40.0    40.0    28.274334\n"
     ]
    }
   ],
   "source": [
    "import numpy as np\n",
    "from photutils.aperture import aperture_photometry\n",
    "data = np.ones((100, 100))\n",
    "phot_table = aperture_photometry(data, aperture)\n",
    "phot_table['aperture_sum'].info.format = '%.8g'  # for consistent table output\n",
    "print(phot_table)\n"
   ]
  },
  {
   "cell_type": "markdown",
   "id": "8d8f5e3e-64f8-4db7-ba79-fca8d494aa8b",
   "metadata": {},
   "source": [
    "area circulo de apertura"
   ]
  },
  {
   "cell_type": "code",
   "execution_count": 19,
   "id": "ee4b4c8c-7cd0-47ed-9611-319601a42556",
   "metadata": {},
   "outputs": [
    {
     "name": "stdout",
     "output_type": "stream",
     "text": [
      "28.274333882308138\n"
     ]
    }
   ],
   "source": [
    "print(np.pi * 3. ** 2)  "
   ]
  },
  {
   "cell_type": "markdown",
   "id": "f3393416-8520-40ba-8c27-9026e774b787",
   "metadata": {},
   "source": [
    "## Apertura y superposicion de pixeles"
   ]
  },
  {
   "cell_type": "code",
   "execution_count": 23,
   "id": "008eaeed-e9be-48e3-8c9a-3ff4f2d91ee7",
   "metadata": {},
   "outputs": [
    {
     "name": "stdout",
     "output_type": "stream",
     "text": [
      " id xcenter ycenter aperture_sum\n",
      "      pix     pix               \n",
      "--- ------- ------- ------------\n",
      "  1    30.0    30.0        27.96\n",
      "  2    40.0    40.0        27.96\n"
     ]
    }
   ],
   "source": [
    "phot_table = aperture_photometry(data, aperture, method='subpixel',\n",
    "                                 subpixels=5)\n",
    "print(phot_table)  \n"
   ]
  },
  {
   "cell_type": "markdown",
   "id": "ab2be7f7-9b0b-4803-9176-21f6d940bd48",
   "metadata": {},
   "source": [
    "## Múltiples aperturas en cada posición"
   ]
  },
  {
   "cell_type": "code",
   "execution_count": 24,
   "id": "3a4ef9c5-a7ed-4aa8-a613-49c289618558",
   "metadata": {},
   "outputs": [
    {
     "name": "stdout",
     "output_type": "stream",
     "text": [
      " id xcenter ycenter aperture_sum_0 aperture_sum_1 aperture_sum_2\n",
      "      pix     pix                                               \n",
      "--- ------- ------- -------------- -------------- --------------\n",
      "  1      30      30      28.274334      50.265482      78.539816\n",
      "  2      40      40      28.274334      50.265482      78.539816\n"
     ]
    }
   ],
   "source": [
    "radii = [3., 4., 5.]\n",
    "apertures = [CircularAperture(positions, r=r) for r in radii]\n",
    "phot_table = aperture_photometry(data, apertures)\n",
    "for col in phot_table.colnames:\n",
    "    phot_table[col].info.format = '%.8g'  # for consistent table output\n",
    "print(phot_table)\n",
    "\n"
   ]
  },
  {
   "cell_type": "markdown",
   "id": "5c6774fe-16ad-4e47-8196-4f31e9cd3f97",
   "metadata": {},
   "source": [
    "Aperturas elipticas"
   ]
  },
  {
   "cell_type": "code",
   "execution_count": 25,
   "id": "7b6b885a-6c64-4808-b765-55656309b467",
   "metadata": {},
   "outputs": [
    {
     "name": "stdout",
     "output_type": "stream",
     "text": [
      " id xcenter ycenter aperture_sum\n",
      "      pix     pix               \n",
      "--- ------- ------- ------------\n",
      "  1      30      30     47.12389\n",
      "  2      40      40     47.12389\n"
     ]
    }
   ],
   "source": [
    "from photutils.aperture import EllipticalAperture\n",
    "a = 5.\n",
    "b = 3.\n",
    "theta = np.pi / 4.\n",
    "apertures = EllipticalAperture(positions, a, b, theta)\n",
    "phot_table = aperture_photometry(data, apertures)\n",
    "for col in phot_table.colnames:\n",
    "    phot_table[col].info.format = '%.8g'  # for consistent table output\n",
    "print(phot_table)"
   ]
  },
  {
   "cell_type": "code",
   "execution_count": 26,
   "id": "fab3ffde-2cf6-45e5-8f2b-e1b3f73b3734",
   "metadata": {},
   "outputs": [
    {
     "name": "stdout",
     "output_type": "stream",
     "text": [
      " id xcenter ycenter aperture_sum_0 aperture_sum_1 aperture_sum_2\n",
      "      pix     pix                                               \n",
      "--- ------- ------- -------------- -------------- --------------\n",
      "  1      30      30       47.12389      75.398224      109.95574\n",
      "  2      40      40       47.12389      75.398224      109.95574\n"
     ]
    }
   ],
   "source": [
    "a = [5., 6., 7.]\n",
    "b = [3., 4., 5.]\n",
    "theta = np.pi / 4.\n",
    "apertures = [EllipticalAperture(positions, a=ai, b=bi, theta=theta)\n",
    "             for (ai, bi) in zip(a, b)]\n",
    "phot_table = aperture_photometry(data, apertures)\n",
    "for col in phot_table.colnames:\n",
    "    phot_table[col].info.format = '%.8g'  # for consistent table output\n",
    "print(phot_table)\n"
   ]
  },
  {
   "cell_type": "markdown",
   "id": "726c5113-5e04-4fda-b213-21e5ad05e5d8",
   "metadata": {},
   "source": [
    "## Resta de fondo"
   ]
  },
  {
   "cell_type": "code",
   "execution_count": null,
   "id": "801fa09a-cd6b-4f02-9801-8700e6f45cab",
   "metadata": {},
   "outputs": [],
   "source": [
    "phot_table = aperture_photometry(data - bkg, aperture)  "
   ]
  },
  {
   "cell_type": "code",
   "execution_count": 32,
   "id": "0619922e-e733-4b25-94b2-5c9686ad2b9b",
   "metadata": {},
   "outputs": [],
   "source": [
    "from photutils.aperture import CircularAnnulus\n",
    "aperture = CircularAperture(positions, r=3)\n",
    "annulus_aperture = CircularAnnulus(positions, r_in=6., r_out=8.)"
   ]
  },
  {
   "cell_type": "code",
   "execution_count": 33,
   "id": "55af64f2-ed73-47f3-b9ec-fe9e05ba5f1b",
   "metadata": {},
   "outputs": [
    {
     "name": "stdout",
     "output_type": "stream",
     "text": [
      " id xcenter ycenter aperture_sum_0 aperture_sum_1\n",
      "      pix     pix                                \n",
      "--- ------- ------- -------------- --------------\n",
      "  1      30      30      28.274334      87.964594\n",
      "  2      40      40      28.274334      87.964594\n"
     ]
    }
   ],
   "source": [
    "apers = [aperture, annulus_aperture]\n",
    "phot_table = aperture_photometry(data, apers)\n",
    "for col in phot_table.colnames:\n",
    "    phot_table[col].info.format = '%.8g'  # for consistent table output\n",
    "print(phot_table)\n"
   ]
  },
  {
   "cell_type": "code",
   "execution_count": 34,
   "id": "519a963c-7a4c-4207-9152-6fb819b19fdb",
   "metadata": {},
   "outputs": [],
   "source": [
    " bkg_mean = phot_table['aperture_sum_1'] / annulus_aperture.area"
   ]
  },
  {
   "cell_type": "code",
   "execution_count": 35,
   "id": "7aecd4ab-458c-4192-ae60-c5cff79f6ef4",
   "metadata": {},
   "outputs": [
    {
     "name": "stdout",
     "output_type": "stream",
     "text": [
      "residual_aperture_sum\n",
      "---------------------\n",
      "       -1.0658141e-14\n",
      "       -1.0658141e-14\n"
     ]
    }
   ],
   "source": [
    "bkg_sum = bkg_mean * aperture.area\n",
    "final_sum = phot_table['aperture_sum_0'] - bkg_sum\n",
    "phot_table['residual_aperture_sum'] = final_sum\n",
    "phot_table['residual_aperture_sum'].info.format = '%.8g'  # for consistent table output\n",
    "print(phot_table['residual_aperture_sum'])  "
   ]
  },
  {
   "cell_type": "markdown",
   "id": "611c5db0-d6ae-42cf-b81b-6e907943e284",
   "metadata": {},
   "source": [
    "## Mediana recortada en sigma dentro de un anillo circular"
   ]
  },
  {
   "cell_type": "code",
   "execution_count": 37,
   "id": "6de83f6d-8083-4d78-8aba-11e51bab0ccd",
   "metadata": {},
   "outputs": [],
   "source": [
    "from photutils.datasets import make_100gaussians_image\n",
    "from photutils.aperture import CircularAperture, CircularAnnulus\n",
    "data = make_100gaussians_image()\n",
    "positions = [(145.1, 168.3), (84.5, 224.1), (48.3, 200.3)]\n",
    "aperture = CircularAperture(positions, r=5)\n",
    "annulus_aperture = CircularAnnulus(positions, r_in=10, r_out=15)"
   ]
  },
  {
   "cell_type": "code",
   "execution_count": 38,
   "id": "0a0e3474-f12d-454e-994c-4958c5342c2f",
   "metadata": {},
   "outputs": [],
   "source": [
    "annulus_masks = annulus_aperture.to_mask(method='center')"
   ]
  },
  {
   "cell_type": "code",
   "execution_count": 39,
   "id": "ee53d623-9ea5-4bc9-853d-220047412680",
   "metadata": {},
   "outputs": [
    {
     "data": {
      "text/plain": [
       "<matplotlib.colorbar.Colorbar at 0x1eadf0e7460>"
      ]
     },
     "execution_count": 39,
     "metadata": {},
     "output_type": "execute_result"
    },
    {
     "data": {
      "image/png": "[encoded data removed]",
      "text/plain": [
       "<Figure size 432x288 with 2 Axes>"
      ]
     },
     "metadata": {
      "needs_background": "light"
     },
     "output_type": "display_data"
    }
   ],
   "source": [
    "import matplotlib.pyplot as plt\n",
    "plt.imshow(annulus_masks[0], interpolation='nearest')\n",
    "plt.colorbar()"
   ]
  },
  {
   "cell_type": "code",
   "execution_count": 40,
   "id": "33fe1092-aa85-48d0-9c7e-339954c1aa48",
   "metadata": {},
   "outputs": [],
   "source": [
    "annulus_data = annulus_masks[0].multiply(data)"
   ]
  },
  {
   "cell_type": "code",
   "execution_count": 41,
   "id": "c109ec17-1b66-4ea5-a9e4-232797313be3",
   "metadata": {},
   "outputs": [
    {
     "data": {
      "text/plain": [
       "<matplotlib.colorbar.Colorbar at 0x1eadf243b80>"
      ]
     },
     "execution_count": 41,
     "metadata": {},
     "output_type": "execute_result"
    },
    {
     "data": {
      "image/png": "[encoded data removed]",
      "text/plain": [
       "<Figure size 432x288 with 2 Axes>"
      ]
     },
     "metadata": {
      "needs_background": "light"
     },
     "output_type": "display_data"
    }
   ],
   "source": [
    "plt.imshow(annulus_data, interpolation='nearest')\n",
    "plt.colorbar()"
   ]
  },
  {
   "cell_type": "code",
   "execution_count": 42,
   "id": "b06f26e9-dcda-4829-93b3-a99e84810365",
   "metadata": {},
   "outputs": [
    {
     "data": {
      "text/plain": [
       "(394,)"
      ]
     },
     "execution_count": 42,
     "metadata": {},
     "output_type": "execute_result"
    }
   ],
   "source": [
    "mask = annulus_masks[0].data\n",
    "annulus_data_1d = annulus_data[mask > 0]\n",
    "annulus_data_1d.shape\n"
   ]
  },
  {
   "cell_type": "code",
   "execution_count": 43,
   "id": "d099f22d-f653-4228-b80d-5170f7e1f7be",
   "metadata": {},
   "outputs": [
    {
     "name": "stdout",
     "output_type": "stream",
     "text": [
      "4.848212997882959\n"
     ]
    }
   ],
   "source": [
    "from astropy.stats import sigma_clipped_stats\n",
    "_, median_sigclip, _ = sigma_clipped_stats(annulus_data_1d)\n",
    "print(median_sigclip)  \n"
   ]
  },
  {
   "cell_type": "code",
   "execution_count": 44,
   "id": "18569b90-2548-45a4-bf9c-13b27523a4f5",
   "metadata": {},
   "outputs": [
    {
     "name": "stdout",
     "output_type": "stream",
     "text": [
      "380.7777584296913\n"
     ]
    }
   ],
   "source": [
    "background = median_sigclip * aperture.area\n",
    "print(background)  "
   ]
  },
  {
   "cell_type": "code",
   "execution_count": 45,
   "id": "adf1d9a9-d83d-49c3-8b2e-36ca47e6df73",
   "metadata": {},
   "outputs": [
    {
     "name": "stdout",
     "output_type": "stream",
     "text": [
      " id xcenter ycenter aperture_sum annulus_median  aper_bkg aper_sum_bkgsub\n",
      "      pix     pix                                                        \n",
      "--- ------- ------- ------------ -------------- --------- ---------------\n",
      "  1   145.1   168.3    1131.5794       4.848213 380.77776       750.80166\n",
      "  2    84.5   224.1    746.16064      5.0884354 399.64478       346.51586\n",
      "  3    48.3   200.3    1250.2186      4.8060599 377.46706        872.7515\n"
     ]
    }
   ],
   "source": [
    "from astropy.stats import sigma_clipped_stats\n",
    "from photutils.aperture import aperture_photometry\n",
    "from photutils.aperture import CircularAperture, CircularAnnulus\n",
    "from photutils.datasets import make_100gaussians_image\n",
    "\n",
    "data = make_100gaussians_image()\n",
    "positions = [(145.1, 168.3), (84.5, 224.1), (48.3, 200.3)]\n",
    "aperture = CircularAperture(positions, r=5)\n",
    "annulus_aperture = CircularAnnulus(positions, r_in=10, r_out=15)\n",
    "annulus_masks = annulus_aperture.to_mask(method='center')\n",
    "\n",
    "bkg_median = []\n",
    "for mask in annulus_masks:\n",
    "    annulus_data = mask.multiply(data)\n",
    "    annulus_data_1d = annulus_data[mask.data > 0]\n",
    "    _, median_sigclip, _ = sigma_clipped_stats(annulus_data_1d)\n",
    "    bkg_median.append(median_sigclip)\n",
    "bkg_median = np.array(bkg_median)\n",
    "phot = aperture_photometry(data, aperture)\n",
    "phot['annulus_median'] = bkg_median\n",
    "phot['aper_bkg'] = bkg_median * aperture.area\n",
    "phot['aper_sum_bkgsub'] = phot['aperture_sum'] - phot['aper_bkg']\n",
    "for col in phot.colnames:\n",
    "    phot[col].info.format = '%.8g'  # for consistent table output\n",
    "print(phot)"
   ]
  },
  {
   "cell_type": "markdown",
   "id": "481654ff-f0f8-4683-9837-7d6e35d602c4",
   "metadata": {},
   "source": [
    "## Estimación de errores"
   ]
  },
  {
   "cell_type": "markdown",
   "id": "871cc406-b708-48e4-963a-4b190f7b72bf",
   "metadata": {},
   "source": [
    "Si y solo si la errorpalabra clave se ingresa en aperture_photometry(), la tabla devuelta incluirá una 'aperture_sum_err'columna además de 'aperture_sum'. 'aperture_sum_err'proporciona la incertidumbre propagada asociada con 'aperture_sum'.\n",
    "\n",
    "Por ejemplo, supongamos que hemos calculado previamente el error en el valor de cada píxel y lo hemos guardado en la matriz error:"
   ]
  },
  {
   "cell_type": "code",
   "execution_count": 46,
   "id": "14a2ef1f-2f68-465b-9f4b-b1d8a66fddb4",
   "metadata": {},
   "outputs": [
    {
     "name": "stdout",
     "output_type": "stream",
     "text": [
      " id xcenter ycenter aperture_sum aperture_sum_err\n",
      "      pix     pix                                \n",
      "--- ------- ------- ------------ ----------------\n",
      "  1      30      30    28.274334       0.53173616\n",
      "  2      40      40    28.274334       0.53173616\n"
     ]
    }
   ],
   "source": [
    "positions = [(30., 30.), (40., 40.)]\n",
    "aperture = CircularAperture(positions, r=3.)\n",
    "data = np.ones((100, 100))\n",
    "error = 0.1 * data\n",
    "\n",
    "phot_table = aperture_photometry(data, aperture, error=error)\n",
    "for col in phot_table.colnames:\n",
    "    phot_table[col].info.format = '%.8g'  # for consistent table output\n",
    "print(phot_table)\n"
   ]
  },
  {
   "cell_type": "markdown",
   "id": "10a9d7e3-d6be-48bd-9650-a1d7bbc9de02",
   "metadata": {},
   "source": [
    "En el ejemplo anterior, se supone que la errorpalabra clave especifica el error total : incluye ruido de Poisson debido a fuentes individuales o dicho ruido es irrelevante. Sin embargo, a menudo se ha calculado una matriz uniforme de \"error solo de fondo\", que por diseño no incluye un aumento del ruido en los píxeles brillantes. Para incluir el ruido de Poisson de las fuentes, podemos usar la calc_total_error()función.\n",
    "\n",
    "Supongamos que tenemos una imagen de solo fondo llamada bkg_error. Si nuestros datos están en unidades de electrones/s, usaríamos el tiempo de exposición como ganancia efectiva:"
   ]
  },
  {
   "cell_type": "code",
   "execution_count": null,
   "id": "374e47d1-9bee-48d1-b754-29b5f24d97c1",
   "metadata": {},
   "outputs": [],
   "source": [
    "from photutils.utils import calc_total_error\n",
    "effective_gain = 500  # seconds\n",
    "error = calc_total_error(data, bkg_error, effective_gain)  \n",
    "phot_table = aperture_photometry(data - bkg, aperture, error=error)"
   ]
  },
  {
   "cell_type": "markdown",
   "id": "8777b074-6c01-4456-b9f6-4bdf3b125839",
   "metadata": {},
   "source": [
    "## Enmascaramiento de píxeles"
   ]
  },
  {
   "cell_type": "code",
   "execution_count": 48,
   "id": "a9a9fd2a-fee7-4f31-85de-63068a27fe93",
   "metadata": {},
   "outputs": [
    {
     "name": "stdout",
     "output_type": "stream",
     "text": [
      "aperture_sum\n",
      "------------\n",
      "   11.566371\n"
     ]
    }
   ],
   "source": [
    "data = np.ones((5, 5))\n",
    "aperture = CircularAperture((2, 2), 2.)\n",
    "mask = np.zeros(data.shape, dtype=bool)\n",
    "data[2, 2] = 100.  # bad pixel\n",
    "mask[2, 2] = True\n",
    "t1 = aperture_photometry(data, aperture, mask=mask)\n",
    "t1['aperture_sum'].info.format = '%.8g'  # for consistent table output\n",
    "print(t1['aperture_sum'])\n"
   ]
  },
  {
   "cell_type": "code",
   "execution_count": 49,
   "id": "433fdd48-8952-409a-a72e-9d359cbc74ca",
   "metadata": {},
   "outputs": [
    {
     "name": "stdout",
     "output_type": "stream",
     "text": [
      "aperture_sum\n",
      "------------\n",
      "   111.56637\n"
     ]
    }
   ],
   "source": [
    "t2 = aperture_photometry(data, aperture)\n",
    "t2['aperture_sum'].info.format = '%.8g'  # for consistent table output\n",
    "print(t2['aperture_sum'])"
   ]
  },
  {
   "cell_type": "markdown",
   "id": "6a7b949b-5f26-4aa1-af2f-c28f4d5b95d7",
   "metadata": {},
   "source": [
    "## Fotometría de apertura usando coordenadas del cielo"
   ]
  },
  {
   "cell_type": "code",
   "execution_count": 50,
   "id": "5353a8cb-9c03-47c4-a479-753c837aea36",
   "metadata": {},
   "outputs": [],
   "source": [
    "import astropy.units as u\n",
    "from astropy.wcs import WCS\n",
    "from photutils.datasets import load_spitzer_image, load_spitzer_catalog\n",
    "hdu = load_spitzer_image()  \n",
    "data = u.Quantity(hdu.data, unit=hdu.header['BUNIT'])  \n",
    "wcs = WCS(hdu.header)  \n",
    "catalog = load_spitzer_catalog()  "
   ]
  },
  {
   "cell_type": "code",
   "execution_count": 51,
   "id": "f4029f16-a7e9-4734-ad4e-5a43891f306c",
   "metadata": {},
   "outputs": [],
   "source": [
    "positions = SkyCoord(catalog['l'], catalog['b'], frame='galactic')  \n",
    "aperture = SkyCircularAperture(positions, r=4.8 * u.arcsec)  "
   ]
  },
  {
   "cell_type": "code",
   "execution_count": 52,
   "id": "14e3bbdd-3c78-4e07-ab46-9bd79daf9342",
   "metadata": {},
   "outputs": [],
   "source": [
    "phot_table = aperture_photometry(data, aperture, wcs=wcs)  "
   ]
  },
  {
   "cell_type": "code",
   "execution_count": 53,
   "id": "3ed0d96f-6504-415c-817b-fcfb0fa327d1",
   "metadata": {},
   "outputs": [],
   "source": [
    "import astropy.units as u\n",
    "factor = (1.2 * u.arcsec) ** 2 / u.pixel\n",
    "fluxes_catalog = catalog['f4_5']  \n",
    "converted_aperture_sum = (phot_table['aperture_sum'] *\n",
    "                          factor).to(u.mJy / u.pixel)  "
   ]
  },
  {
   "cell_type": "code",
   "execution_count": 54,
   "id": "19f24c3e-46b0-4e5c-9311-86afdd2e38bf",
   "metadata": {},
   "outputs": [
    {
     "data": {
      "text/plain": [
       "Text(0, 0.5, 'Aperture photometry fluxes')"
      ]
     },
     "execution_count": 54,
     "metadata": {},
     "output_type": "execute_result"
    },
    {
     "data": {
      "image/png": "[encoded data removed]",
      "text/plain": [
       "<Figure size 432x288 with 1 Axes>"
      ]
     },
     "metadata": {
      "needs_background": "light"
     },
     "output_type": "display_data"
    }
   ],
   "source": [
    "import matplotlib.pyplot as plt\n",
    "plt.scatter(fluxes_catalog, converted_aperture_sum.value)\n",
    "plt.xlabel('Spitzer catalog PSF-fit fluxes ')\n",
    "plt.ylabel('Aperture photometry fluxes')"
   ]
  },
  {
   "cell_type": "markdown",
   "id": "f13477a1-6725-490f-9cdd-e2a606b279a1",
   "metadata": {},
   "source": [
    "## Máscaras de apertura "
   ]
  },
  {
   "cell_type": "code",
   "execution_count": 55,
   "id": "a3533398-0306-4ce9-abfb-ba0b9e4874d6",
   "metadata": {},
   "outputs": [],
   "source": [
    "from photutils.aperture import CircularAperture\n",
    "positions = [(30., 30.), (40., 40.)]\n",
    "aperture = CircularAperture(positions, r=3.)"
   ]
  },
  {
   "cell_type": "code",
   "execution_count": 56,
   "id": "81d42b3d-46c9-414a-9e83-afac1a9ca909",
   "metadata": {},
   "outputs": [],
   "source": [
    "masks = aperture.to_mask(method='center')"
   ]
  },
  {
   "cell_type": "code",
   "execution_count": 57,
   "id": "7826f7c8-f039-4525-9c0c-3e053c4dd9f1",
   "metadata": {},
   "outputs": [],
   "source": [
    "mask = masks[0]\n",
    "image = mask.to_image(shape=((200, 200)))"
   ]
  },
  {
   "cell_type": "code",
   "execution_count": 58,
   "id": "1a9dc219-1e1b-495c-852c-d71a0618696e",
   "metadata": {},
   "outputs": [],
   "source": [
    "data_cutout = mask.cutout(data)"
   ]
  },
  {
   "cell_type": "code",
   "execution_count": 59,
   "id": "81a60717-41f1-4a71-bc0f-bc5a237b6d54",
   "metadata": {},
   "outputs": [],
   "source": [
    "data_cutout_aper = mask.multiply(data)"
   ]
  },
  {
   "cell_type": "markdown",
   "id": "2ebc1492-cb90-4d13-87cf-3dfd1e2f1e7b",
   "metadata": {},
   "source": [
    "## Definición de sus propias aperturas personalizadas"
   ]
  },
  {
   "cell_type": "markdown",
   "id": "9dd04a22-5c2c-48d8-b561-fb99153ef6e4",
   "metadata": {},
   "source": [
    "La aperture_photometry()función puede realizar fotometría de apertura en aperturas arbitrarias. Esta función acepta cualquier Apertureobjeto derivado, como CircularAperture. Esto simplifica la ampliación de la funcionalidad: un nuevo tipo de fotometría de apertura simplemente requiere la definición de una nueva Aperture subclase.\n",
    "\n",
    "Todas las PixelAperturesubclases deben definir una bounding_boxespropiedad to_mask()y plot()métodos. También pueden definir opcionalmente una areapropiedad. Todas las SkyAperturesubclases solo deben implementar un to_pixel()método.\n",
    "\n",
    "bounding_boxes: El cuadro delimitador mínimo para la apertura. Si la apertura es escalar, BoundingBoxse devuelve un solo. BoundingBoxDe lo contrario, se devuelve una lista de .\n",
    "\n",
    "area: una propiedad opcional que define el área analítica exacta (en píxeles**2) de la apertura.\n",
    "\n",
    "to_mask(): Devuelve una máscara para la apertura. Si la apertura es escalar, ApertureMaskse devuelve un solo. ApertureMaskDe lo contrario, se devuelve una lista de .\n",
    "\n",
    "plot(): Un método para trazar la apertura en una matplotlib.axes.Axesinstancia."
   ]
  },
  {
   "cell_type": "code",
   "execution_count": null,
   "id": "95c3f814-f813-4879-92a7-0d1a31d89541",
   "metadata": {},
   "outputs": [],
   "source": []
  }
 ],
 "metadata": {
  "kernelspec": {
   "display_name": "Python 3 (ipykernel)",
   "language": "python",
   "name": "python3"
  },
  "language_info": {
   "codemirror_mode": {
    "name": "ipython",
    "version": 3
   },
   "file_extension": ".py",
   "mimetype": "text/x-python",
   "name": "python",
   "nbconvert_exporter": "python",
   "pygments_lexer": "ipython3",
   "version": "3.9.7"
  }
 },
 "nbformat": 4,
 "nbformat_minor": 5
}
