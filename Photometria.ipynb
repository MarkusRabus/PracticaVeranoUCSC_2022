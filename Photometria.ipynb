{
 "cells": [
  {
   "cell_type": "markdown",
   "id": "16135d11-dfe1-4ecb-84f1-56b8dcd533f8",
   "metadata": {},
   "source": [
    "# Fotometria\n",
    "\n",
    "Una vez las imagenes se calibro podemos extraer el brillo de los objetos en la CCD. Existen diferentes maneras de extraer las cuentas:\n",
    "- Lo mas sencillo es simplemente sumar las cuentas en una apertura alrededor del objeto\n",
    "- Se puede estimar modelar la forma el objeto\n",
    "- Sustraer los diferentes imagenes y crear un serie de tiempo como cambia el brillo con el tiempo.\n",
    "\n",
    "![LC](markdown-img/curvaLuz.jpg)"
   ]
  },
  {
   "cell_type": "markdown",
   "id": "6eaae060-1fb7-43ca-8c16-3b2641f244f4",
   "metadata": {},
   "source": [
    "## Coordenadas de estrellas\n",
    "\n",
    "En astronomía y navegación, la esfera celeste es una esfera imaginaria de radio arbitrariamente grande, concéntrica con la Tierra. Todos los objetos del cielo del observador pueden considerarse proyectados sobre la superficie interior de la esfera celeste, como si fuera la parte inferior de una cúpula. La esfera celeste es una herramienta práctica para la astronomía esférica, que permite a los observadores trazar las posiciones de los objetos en el cielo cuando sus distancias son desconocidas o carecen de importancia.\n",
    "\n",
    "Dado que los objetos astronómicos se encuentran a distancias tan remotas, la observación casual del cielo no ofrece ninguna información sobre las distancias reales. Todos los objetos parecen igualmente lejanos, como si estuvieran fijados en el interior de una esfera de radio grande pero desconocido, que gira de este a oeste por encima de la cabeza. Para los fines de la astronomía esférica, que sólo se ocupa de las direcciones de los objetos, es indiferente si esto es realmente así, o si es la Tierra la que gira mientras la esfera celeste permanece quieta.\n",
    "\n",
    "![esphera](markdown-img/sphere.jpg)\n",
    "\n",
    "El sistema de coordenadas ecuatoriales es un sistema de coordenadas celestes ampliamente utilizado para especificar las posiciones de los objetos celestes. \n",
    "\n",
    "El origen en el centro de la Tierra significa que las coordenadas son geocéntricas, es decir, vistas desde el centro de la Tierra como si ésta fuera transparente y no refractaria. El plano fundamental y la dirección primaria significan que el sistema de coordenadas, aunque alineado con el ecuador y el polo de la Tierra, no gira con la Tierra, sino que permanece relativamente fijo frente a las estrellas de fondo. Una convención de derechas significa que las coordenadas son positivas hacia el norte y hacia el este en el plano fundamental.\n",
    "\n",
    "Las coordenadas esféricas de una estrella suelen expresarse como un par, ascensión recta y declinación, sin una coordenada de distancia. Debido a las grandes distancias a las que se encuentran la mayoría de los objetos celestes, los astrónomos suelen tener poca o ninguna información sobre sus distancias exactas, por lo que sólo utilizan la dirección. La dirección de los objetos suficientemente distantes es la misma para todos los observadores, y es conveniente especificar esta dirección con las mismas coordenadas para todos. \n",
    "\n",
    "\n",
    "![radec](markdown-img/RADEC.png)\n",
    "\n",
    "\n"
   ]
  },
  {
   "cell_type": "code",
   "execution_count": null,
   "id": "73faf192-9c4d-4ca4-a4f9-dee3c5d64db7",
   "metadata": {},
   "outputs": [],
   "source": [
    "\n"
   ]
  },
  {
   "cell_type": "code",
   "execution_count": null,
   "id": "fa650084-9b6e-4cc5-9d74-ebde11c4ab34",
   "metadata": {},
   "outputs": [],
   "source": []
  },
  {
   "cell_type": "code",
   "execution_count": null,
   "id": "33afa5cf-8d89-4f3a-8160-11fdea0f8460",
   "metadata": {},
   "outputs": [],
   "source": []
  }
 ],
 "metadata": {
  "kernelspec": {
   "display_name": "Python [conda env:py3]",
   "language": "python",
   "name": "conda-env-py3-py"
  },
  "language_info": {
   "codemirror_mode": {
    "name": "ipython",
    "version": 3
   },
   "file_extension": ".py",
   "mimetype": "text/x-python",
   "name": "python",
   "nbconvert_exporter": "python",
   "pygments_lexer": "ipython3",
   "version": "3.8.11"
  }
 },
 "nbformat": 4,
 "nbformat_minor": 5
}
