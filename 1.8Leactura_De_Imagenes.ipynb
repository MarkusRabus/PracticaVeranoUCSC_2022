{
 "cells": [
  {
   "cell_type": "markdown",
   "id": "63e7969a-610c-4810-987f-3dc3a00d7065",
   "metadata": {},
   "source": [
    "<h1>1.8. Lectura de imágenes"
   ]
  },
  {
   "cell_type": "code",
   "execution_count": 1,
   "id": "4b3dbc38-04e7-4ca9-89b9-139851fcd73e",
   "metadata": {},
   "outputs": [],
   "source": [
    "from pathlib import Path\n",
    "from astropy.nddata import CCDData\n",
    "from astropy.io import fits"
   ]
  },
  {
   "cell_type": "markdown",
   "id": "4c888a04-f060-49fc-b7c0-f8a53b60a8ea",
   "metadata": {},
   "source": [
    "<h1>1.8.1. Trabajando con directorios\n",
    "    "
   ]
  },
  {
   "cell_type": "code",
   "execution_count": 2,
   "id": "674fecbd-9035-4d55-b375-e97583eef9ed",
   "metadata": {},
   "outputs": [],
   "source": [
    "data_directory = 'path/to/my/images'"
   ]
  },
  {
   "cell_type": "markdown",
   "id": "dd041199-e2f2-4af3-aa57-ce5dd6d7607c",
   "metadata": {},
   "source": [
    "<h1>1.8.2. Generar algunas imágenes falsas"
   ]
  },
  {
   "cell_type": "markdown",
   "id": "e06585ad-6c54-408a-bdcf-298e1a8804cc",
   "metadata": {},
   "source": [
    "Las celdas a continuación generan algunas imágenes falsas para usar más tarde en el cuaderno."
   ]
  },
  {
   "cell_type": "code",
   "execution_count": 3,
   "id": "5d7c1df4-f2ae-4217-b656-08d2dec6bccc",
   "metadata": {},
   "outputs": [
    {
     "name": "stdout",
     "output_type": "stream",
     "text": [
      "path\\to\\my\\images\\img-0000.fits\n",
      "path\\to\\my\\images\\img-0001.fits\n",
      "path\\to\\my\\images\\img-0002.fits\n",
      "path\\to\\my\\images\\img-0003.fits\n",
      "path\\to\\my\\images\\img-0004.fits\n",
      "path\\to\\my\\images\\img-0005.fits\n",
      "path\\to\\my\\images\\img-0006.fits\n",
      "path\\to\\my\\images\\img-0007.fits\n",
      "path\\to\\my\\images\\img-0008.fits\n",
      "path\\to\\my\\images\\img-0009.fits\n",
      "path\\to\\my\\images\\img-0010.fits\n",
      "path\\to\\my\\images\\img-0011.fits\n",
      "path\\to\\my\\images\\img-0012.fits\n",
      "path\\to\\my\\images\\img-0013.fits\n",
      "path\\to\\my\\images\\img-0014.fits\n",
      "path\\to\\my\\images\\img-0015.fits\n",
      "path\\to\\my\\images\\img-0016.fits\n",
      "path\\to\\my\\images\\img-0017.fits\n",
      "path\\to\\my\\images\\img-0018.fits\n",
      "path\\to\\my\\images\\img-0019.fits\n",
      "path\\to\\my\\images\\img-0020.fits\n",
      "path\\to\\my\\images\\img-0021.fits\n",
      "path\\to\\my\\images\\img-0022.fits\n",
      "path\\to\\my\\images\\img-0023.fits\n",
      "path\\to\\my\\images\\img-0024.fits\n",
      "path\\to\\my\\images\\img-0025.fits\n",
      "path\\to\\my\\images\\img-0026.fits\n",
      "path\\to\\my\\images\\img-0027.fits\n"
     ]
    }
   ],
   "source": [
    "from pathlib import Path\n",
    "from itertools import cycle\n",
    "\n",
    "import numpy as np\n",
    "\n",
    "image_path = Path(data_directory)\n",
    "\n",
    "image_path.mkdir(parents=True, exist_ok=True)\n",
    "\n",
    "images_to_generate = {\n",
    "    'BIAS': 5,\n",
    "    'DARK': 10,\n",
    "    'FLAT': 3,\n",
    "    'LIGHT': 10\n",
    "}\n",
    "\n",
    "exposure_times = {\n",
    "    'BIAS': [0.0],\n",
    "    'DARK': [5.0, 30.0],\n",
    "    'FLAT': [5.0, 6.1, 7.3],\n",
    "    'LIGHT': [30.0],\n",
    "}\n",
    "\n",
    "filters = {\n",
    "    'FLAT': 'V',\n",
    "    'LIGHT': 'V'\n",
    "}\n",
    "\n",
    "objects = {\n",
    "    'LIGHT': ['m82', 'xx cyg']\n",
    "}\n",
    "\n",
    "image_size = [300, 200]\n",
    "\n",
    "image_number = 0\n",
    "for image_type, num in images_to_generate.items():\n",
    "    exposures = cycle(exposure_times[image_type])\n",
    "    try:\n",
    "        filts = cycle(filters[image_type])\n",
    "    except KeyError:\n",
    "        filts = []\n",
    "    \n",
    "    try:\n",
    "        objs = cycle(objects[image_type])\n",
    "    except KeyError:\n",
    "        objs = []\n",
    "    for _ in range(num):\n",
    "        img = CCDData(data=np.random.randn(*image_size), unit='adu')\n",
    "        img.meta['IMAGETYP'] = image_type\n",
    "        img.meta['EXPOSURE'] = next(exposures)\n",
    "        if filts:\n",
    "            img.meta['FILTER'] = next(filts)\n",
    "        if objs:\n",
    "            img.meta['OBJECT'] = next(objs)\n",
    "        image_name = str(image_path / f'img-{image_number:04d}.fits')\n",
    "        img.write(image_name)\n",
    "        print(image_name)\n",
    "        image_number += 1"
   ]
  },
  {
   "cell_type": "markdown",
   "id": "ede6b26f-106e-4873-9723-4d8cf0e62d4d",
   "metadata": {},
   "source": [
    "<h1>1.8.3. Opción 1: Lectura de una sola imagen con astropy.io.fits"
   ]
  },
  {
   "cell_type": "markdown",
   "id": "58aa5d79-3f93-4a47-87ec-a16d87d70af9",
   "metadata": {},
   "source": [
    "Esta opción le brinda la mayor flexibilidad, pero es la que menos se adapta específicamente a las imágenes CCD. Lo que lee es una lista de extensiones FITS; primero debe seleccionar el que desee y luego acceder a los datos o al encabezado que desee."
   ]
  },
  {
   "cell_type": "code",
   "execution_count": 4,
   "id": "9291f54a-c8a5-4a1d-bd66-2a31a54ae2a1",
   "metadata": {},
   "outputs": [
    {
     "name": "stdout",
     "output_type": "stream",
     "text": [
      "Filename: path\\to\\my\\images\\img-0001.fits\n",
      "No.    Name      Ver    Type      Cards   Dimensions   Format\n",
      "  0  PRIMARY       1 PrimaryHDU       8   (200, 300)   float64   \n"
     ]
    }
   ],
   "source": [
    "image_name = 'img-0001.fits'\n",
    "\n",
    "image_path = Path(data_directory) / image_name\n",
    "\n",
    "hdu_list = fits.open(image_path)\n",
    "hdu_list.info()"
   ]
  },
  {
   "cell_type": "code",
   "execution_count": 5,
   "id": "31358668-b378-422b-a328-3215fd1200c3",
   "metadata": {},
   "outputs": [
    {
     "data": {
      "text/plain": [
       "SIMPLE  =                    T / conforms to FITS standard                      \n",
       "BITPIX  =                  -64 / array data type                                \n",
       "NAXIS   =                    2 / number of array dimensions                     \n",
       "NAXIS1  =                  200                                                  \n",
       "NAXIS2  =                  300                                                  \n",
       "IMAGETYP= 'BIAS    '                                                            \n",
       "EXPOSURE=                  0.0                                                  \n",
       "BUNIT   = 'adu     '                                                            "
      ]
     },
     "execution_count": 5,
     "metadata": {},
     "output_type": "execute_result"
    }
   ],
   "source": [
    "hdu = hdu_list[0]\n",
    "hdu.header"
   ]
  },
  {
   "cell_type": "code",
   "execution_count": 6,
   "id": "2bbad48e-e731-4522-819d-75577bccc5e6",
   "metadata": {},
   "outputs": [
    {
     "data": {
      "text/plain": [
       "array([[-0.82652245,  0.20148992, -0.02068813, ...,  0.96122313,\n",
       "         1.19309966, -0.64795018],\n",
       "       [-0.71984267,  0.22459072,  2.03059389, ...,  0.47681891,\n",
       "         1.01641507,  1.44090193],\n",
       "       [-0.08757494,  1.79636279, -0.27188521, ..., -1.38993545,\n",
       "        -0.98638123,  0.84790881],\n",
       "       ...,\n",
       "       [ 1.24465316, -0.47980438,  1.0045071 , ..., -2.29077912,\n",
       "         0.11536791,  0.3263036 ],\n",
       "       [ 0.55463522, -1.02198091,  2.35184838, ..., -0.4216539 ,\n",
       "        -0.58326207,  0.82877374],\n",
       "       [ 1.73377048,  1.77274741, -0.93313229, ...,  0.24228633,\n",
       "        -1.68681993,  1.34694421]])"
      ]
     },
     "execution_count": 6,
     "metadata": {},
     "output_type": "execute_result"
    }
   ],
   "source": [
    "hdu.data"
   ]
  },
  {
   "cell_type": "markdown",
   "id": "6fa6705b-dda3-4563-afe2-bae56e6454d1",
   "metadata": {},
   "source": [
    "<h1>1.8.4. Opción 2: Usar CCDDatapara leer en una sola imagen "
   ]
  },
  {
   "cell_type": "markdown",
   "id": "88572996-005b-4213-9733-80da66a4bffb",
   "metadata": {},
   "source": [
    "stropy contiene un CCDDataobjeto para representar una sola imagen. No es tan flexible como usar astrop.io.fitsdirectamente (por ejemplo, asume que solo hay una extensión FITS y que contiene datos de imagen), pero configura varias propiedades que facilitan el trabajo con los datos.\n",
    "\n",
    "Leeremos en la misma imagen única que hicimos en el ejemplo anterior, img-0001.fits."
   ]
  },
  {
   "cell_type": "code",
   "execution_count": 7,
   "id": "eff4c991-c88c-480c-ab5c-843a117c5c4e",
   "metadata": {},
   "outputs": [],
   "source": [
    "ccd = CCDData.read(image_path)"
   ]
  },
  {
   "cell_type": "code",
   "execution_count": 8,
   "id": "812d1354-f8da-4ff3-9759-fff60ea6c528",
   "metadata": {},
   "outputs": [
    {
     "data": {
      "text/plain": [
       "SIMPLE  =                    T / conforms to FITS standard                      \n",
       "BITPIX  =                  -64 / array data type                                \n",
       "NAXIS   =                    2 / number of array dimensions                     \n",
       "NAXIS1  =                  200                                                  \n",
       "NAXIS2  =                  300                                                  \n",
       "IMAGETYP= 'BIAS    '                                                            \n",
       "EXPOSURE=                  0.0                                                  \n",
       "BUNIT   = 'adu     '                                                            "
      ]
     },
     "execution_count": 8,
     "metadata": {},
     "output_type": "execute_result"
    }
   ],
   "source": [
    "ccd.header"
   ]
  },
  {
   "cell_type": "code",
   "execution_count": 9,
   "id": "d75d1228-9648-4d50-9bff-ee5e9ce538b0",
   "metadata": {},
   "outputs": [
    {
     "data": {
      "text/plain": [
       "array([[-0.82652245,  0.20148992, -0.02068813, ...,  0.96122313,\n",
       "         1.19309966, -0.64795018],\n",
       "       [-0.71984267,  0.22459072,  2.03059389, ...,  0.47681891,\n",
       "         1.01641507,  1.44090193],\n",
       "       [-0.08757494,  1.79636279, -0.27188521, ..., -1.38993545,\n",
       "        -0.98638123,  0.84790881],\n",
       "       ...,\n",
       "       [ 1.24465316, -0.47980438,  1.0045071 , ..., -2.29077912,\n",
       "         0.11536791,  0.3263036 ],\n",
       "       [ 0.55463522, -1.02198091,  2.35184838, ..., -0.4216539 ,\n",
       "        -0.58326207,  0.82877374],\n",
       "       [ 1.73377048,  1.77274741, -0.93313229, ...,  0.24228633,\n",
       "        -1.68681993,  1.34694421]])"
      ]
     },
     "execution_count": 9,
     "metadata": {},
     "output_type": "execute_result"
    }
   ],
   "source": [
    "ccd.data"
   ]
  },
  {
   "cell_type": "markdown",
   "id": "f52c7c43-597e-451e-af25-b5e833cca53d",
   "metadata": {},
   "source": [
    "<h1>1.8.5. Opción 3: Trabajar con un directorio de imágenes usando ImageFileCollection"
   ]
  },
  {
   "cell_type": "code",
   "execution_count": 10,
   "id": "9f1e3bd2-a985-414a-b7a7-77962ea26da2",
   "metadata": {},
   "outputs": [],
   "source": [
    "from ccdproc import ImageFileCollection\n",
    "im_collection = ImageFileCollection(data_directory)"
   ]
  },
  {
   "cell_type": "markdown",
   "id": "48de9a36-de1a-46fe-9d4b-73a7d1496d5c",
   "metadata": {},
   "source": [
    "<h1>1.8.5.1. Resumen del contenido del directorio "
   ]
  },
  {
   "cell_type": "code",
   "execution_count": 11,
   "id": "b636194c-d595-46eb-91e8-e84ea76ca510",
   "metadata": {},
   "outputs": [
    {
     "data": {
      "text/html": [
       "<div><i>Table masked=True length=28</i>\n",
       "<table id=\"table2229113097616\" class=\"table-striped table-bordered table-condensed\">\n",
       "<thead><tr><th>file</th><th>simple</th><th>bitpix</th><th>naxis</th><th>naxis1</th><th>naxis2</th><th>imagetyp</th><th>exposure</th><th>bunit</th><th>filter</th><th>object</th></tr></thead>\n",
       "<thead><tr><th>str13</th><th>bool</th><th>int32</th><th>int32</th><th>int32</th><th>int32</th><th>str5</th><th>float64</th><th>str3</th><th>object</th><th>object</th></tr></thead>\n",
       "<tr><td>img-0000.fits</td><td>True</td><td>-64</td><td>2</td><td>200</td><td>300</td><td>BIAS</td><td>0.0</td><td>adu</td><td>--</td><td>--</td></tr>\n",
       "<tr><td>img-0001.fits</td><td>True</td><td>-64</td><td>2</td><td>200</td><td>300</td><td>BIAS</td><td>0.0</td><td>adu</td><td>--</td><td>--</td></tr>\n",
       "<tr><td>img-0002.fits</td><td>True</td><td>-64</td><td>2</td><td>200</td><td>300</td><td>BIAS</td><td>0.0</td><td>adu</td><td>--</td><td>--</td></tr>\n",
       "<tr><td>img-0003.fits</td><td>True</td><td>-64</td><td>2</td><td>200</td><td>300</td><td>BIAS</td><td>0.0</td><td>adu</td><td>--</td><td>--</td></tr>\n",
       "<tr><td>img-0004.fits</td><td>True</td><td>-64</td><td>2</td><td>200</td><td>300</td><td>BIAS</td><td>0.0</td><td>adu</td><td>--</td><td>--</td></tr>\n",
       "<tr><td>img-0005.fits</td><td>True</td><td>-64</td><td>2</td><td>200</td><td>300</td><td>DARK</td><td>5.0</td><td>adu</td><td>--</td><td>--</td></tr>\n",
       "<tr><td>img-0006.fits</td><td>True</td><td>-64</td><td>2</td><td>200</td><td>300</td><td>DARK</td><td>30.0</td><td>adu</td><td>--</td><td>--</td></tr>\n",
       "<tr><td>img-0007.fits</td><td>True</td><td>-64</td><td>2</td><td>200</td><td>300</td><td>DARK</td><td>5.0</td><td>adu</td><td>--</td><td>--</td></tr>\n",
       "<tr><td>img-0008.fits</td><td>True</td><td>-64</td><td>2</td><td>200</td><td>300</td><td>DARK</td><td>30.0</td><td>adu</td><td>--</td><td>--</td></tr>\n",
       "<tr><td>img-0009.fits</td><td>True</td><td>-64</td><td>2</td><td>200</td><td>300</td><td>DARK</td><td>5.0</td><td>adu</td><td>--</td><td>--</td></tr>\n",
       "<tr><td>...</td><td>...</td><td>...</td><td>...</td><td>...</td><td>...</td><td>...</td><td>...</td><td>...</td><td>...</td><td>...</td></tr>\n",
       "<tr><td>img-0018.fits</td><td>True</td><td>-64</td><td>2</td><td>200</td><td>300</td><td>LIGHT</td><td>30.0</td><td>adu</td><td>V</td><td>m82</td></tr>\n",
       "<tr><td>img-0019.fits</td><td>True</td><td>-64</td><td>2</td><td>200</td><td>300</td><td>LIGHT</td><td>30.0</td><td>adu</td><td>V</td><td>xx cyg</td></tr>\n",
       "<tr><td>img-0020.fits</td><td>True</td><td>-64</td><td>2</td><td>200</td><td>300</td><td>LIGHT</td><td>30.0</td><td>adu</td><td>V</td><td>m82</td></tr>\n",
       "<tr><td>img-0021.fits</td><td>True</td><td>-64</td><td>2</td><td>200</td><td>300</td><td>LIGHT</td><td>30.0</td><td>adu</td><td>V</td><td>xx cyg</td></tr>\n",
       "<tr><td>img-0022.fits</td><td>True</td><td>-64</td><td>2</td><td>200</td><td>300</td><td>LIGHT</td><td>30.0</td><td>adu</td><td>V</td><td>m82</td></tr>\n",
       "<tr><td>img-0023.fits</td><td>True</td><td>-64</td><td>2</td><td>200</td><td>300</td><td>LIGHT</td><td>30.0</td><td>adu</td><td>V</td><td>xx cyg</td></tr>\n",
       "<tr><td>img-0024.fits</td><td>True</td><td>-64</td><td>2</td><td>200</td><td>300</td><td>LIGHT</td><td>30.0</td><td>adu</td><td>V</td><td>m82</td></tr>\n",
       "<tr><td>img-0025.fits</td><td>True</td><td>-64</td><td>2</td><td>200</td><td>300</td><td>LIGHT</td><td>30.0</td><td>adu</td><td>V</td><td>xx cyg</td></tr>\n",
       "<tr><td>img-0026.fits</td><td>True</td><td>-64</td><td>2</td><td>200</td><td>300</td><td>LIGHT</td><td>30.0</td><td>adu</td><td>V</td><td>m82</td></tr>\n",
       "<tr><td>img-0027.fits</td><td>True</td><td>-64</td><td>2</td><td>200</td><td>300</td><td>LIGHT</td><td>30.0</td><td>adu</td><td>V</td><td>xx cyg</td></tr>\n",
       "</table></div>"
      ],
      "text/plain": [
       "<Table masked=True length=28>\n",
       "     file     simple bitpix naxis naxis1 ... exposure bunit filter object\n",
       "    str13      bool  int32  int32 int32  ... float64   str3 object object\n",
       "------------- ------ ------ ----- ------ ... -------- ----- ------ ------\n",
       "img-0000.fits   True    -64     2    200 ...      0.0   adu     --     --\n",
       "img-0001.fits   True    -64     2    200 ...      0.0   adu     --     --\n",
       "img-0002.fits   True    -64     2    200 ...      0.0   adu     --     --\n",
       "img-0003.fits   True    -64     2    200 ...      0.0   adu     --     --\n",
       "img-0004.fits   True    -64     2    200 ...      0.0   adu     --     --\n",
       "img-0005.fits   True    -64     2    200 ...      5.0   adu     --     --\n",
       "img-0006.fits   True    -64     2    200 ...     30.0   adu     --     --\n",
       "img-0007.fits   True    -64     2    200 ...      5.0   adu     --     --\n",
       "img-0008.fits   True    -64     2    200 ...     30.0   adu     --     --\n",
       "img-0009.fits   True    -64     2    200 ...      5.0   adu     --     --\n",
       "          ...    ...    ...   ...    ... ...      ...   ...    ...    ...\n",
       "img-0018.fits   True    -64     2    200 ...     30.0   adu      V    m82\n",
       "img-0019.fits   True    -64     2    200 ...     30.0   adu      V xx cyg\n",
       "img-0020.fits   True    -64     2    200 ...     30.0   adu      V    m82\n",
       "img-0021.fits   True    -64     2    200 ...     30.0   adu      V xx cyg\n",
       "img-0022.fits   True    -64     2    200 ...     30.0   adu      V    m82\n",
       "img-0023.fits   True    -64     2    200 ...     30.0   adu      V xx cyg\n",
       "img-0024.fits   True    -64     2    200 ...     30.0   adu      V    m82\n",
       "img-0025.fits   True    -64     2    200 ...     30.0   adu      V xx cyg\n",
       "img-0026.fits   True    -64     2    200 ...     30.0   adu      V    m82\n",
       "img-0027.fits   True    -64     2    200 ...     30.0   adu      V xx cyg"
      ]
     },
     "execution_count": 11,
     "metadata": {},
     "output_type": "execute_result"
    }
   ],
   "source": [
    "im_collection.summary"
   ]
  },
  {
   "cell_type": "markdown",
   "id": "d1cbf623-52d4-4309-92d7-774961a91da7",
   "metadata": {},
   "source": [
    "<h1>1.8.5.2. Filtrado e iteración sobre imágenes"
   ]
  },
  {
   "cell_type": "code",
   "execution_count": 12,
   "id": "6acd98f9-3a10-4ca7-b157-983f286363b7",
   "metadata": {},
   "outputs": [
    {
     "name": "stdout",
     "output_type": "stream",
     "text": [
      "5.0\n",
      "6.1\n",
      "7.3\n"
     ]
    }
   ],
   "source": [
    "for a_flat in im_collection.hdus(imagetyp='FLAT'):\n",
    "    print(a_flat.header['EXPOSURE'])"
   ]
  },
  {
   "cell_type": "code",
   "execution_count": 13,
   "id": "7ac3ef59-f17b-4937-bd14-2b619971ba44",
   "metadata": {},
   "outputs": [
    {
     "name": "stdout",
     "output_type": "stream",
     "text": [
      "In file img-0018.fits the exposure is: 30.0 with standard deviation  1.0014148044763476\n",
      "In file img-0020.fits the exposure is: 30.0 with standard deviation  1.0022998102462952\n",
      "In file img-0022.fits the exposure is: 30.0 with standard deviation  1.0020025455812158\n",
      "In file img-0024.fits the exposure is: 30.0 with standard deviation  1.0047243089968811\n",
      "In file img-0026.fits the exposure is: 30.0 with standard deviation  1.0003967215958114\n"
     ]
    }
   ],
   "source": [
    "for a_flat, fname in im_collection.hdus(imagetyp='LIGHT', object='m82', return_fname=True):\n",
    "    print(f'In file {fname} the exposure is:', a_flat.header['EXPOSURE'], 'with standard deviation ', a_flat.data.std())"
   ]
  },
  {
   "cell_type": "code",
   "execution_count": 14,
   "id": "eeef2c99-6503-45c5-92b9-57d7d0e11c25",
   "metadata": {},
   "outputs": [
    {
     "name": "stdout",
     "output_type": "stream",
     "text": [
      "adu\n",
      "adu\n",
      "adu\n",
      "adu\n",
      "adu\n",
      "adu\n",
      "adu\n",
      "adu\n",
      "adu\n",
      "adu\n",
      "adu\n",
      "adu\n",
      "adu\n",
      "adu\n",
      "adu\n",
      "adu\n",
      "adu\n",
      "adu\n",
      "adu\n",
      "adu\n",
      "adu\n",
      "adu\n",
      "adu\n",
      "adu\n",
      "adu\n",
      "adu\n",
      "adu\n",
      "adu\n"
     ]
    }
   ],
   "source": [
    "for a_flat, fname in im_collection.ccds(bunit='ADU', return_fname=True):\n",
    "    print(a_flat.unit)"
   ]
  },
  {
   "cell_type": "code",
   "execution_count": 15,
   "id": "ca4ec0bc-403a-4836-8614-7e5f5e91d318",
   "metadata": {},
   "outputs": [
    {
     "data": {
      "text/plain": [
       "SIMPLE  =                    T / conforms to FITS standard                      \n",
       "BITPIX  =                  -64 / array data type                                \n",
       "NAXIS   =                    2 / number of array dimensions                     \n",
       "NAXIS1  =                  200                                                  \n",
       "NAXIS2  =                  300                                                  \n",
       "IMAGETYP= 'LIGHT   '                                                            \n",
       "EXPOSURE=                 30.0                                                  \n",
       "FILTER  = 'V       '                                                            \n",
       "OBJECT  = 'xx cyg  '                                                            \n",
       "BUNIT   = 'adu     '                                                            "
      ]
     },
     "execution_count": 15,
     "metadata": {},
     "output_type": "execute_result"
    }
   ],
   "source": [
    "a_flat.header"
   ]
  },
  {
   "cell_type": "code",
   "execution_count": null,
   "id": "97a30fa5-c60d-4354-b91c-a77c16a66b0b",
   "metadata": {},
   "outputs": [],
   "source": []
  }
 ],
 "metadata": {
  "kernelspec": {
   "display_name": "Python 3 (ipykernel)",
   "language": "python",
   "name": "python3"
  },
  "language_info": {
   "codemirror_mode": {
    "name": "ipython",
    "version": 3
   },
   "file_extension": ".py",
   "mimetype": "text/x-python",
   "name": "python",
   "nbconvert_exporter": "python",
   "pygments_lexer": "ipython3",
   "version": "3.9.7"
  }
 },
 "nbformat": 4,
 "nbformat_minor": 5
}
